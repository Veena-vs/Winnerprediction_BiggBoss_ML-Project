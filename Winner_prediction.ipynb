{
 "cells": [
  {
   "cell_type": "code",
   "execution_count": 1,
   "metadata": {},
   "outputs": [
    {
     "data": {
      "text/html": [
       "<div>\n",
       "<style scoped>\n",
       "    .dataframe tbody tr th:only-of-type {\n",
       "        vertical-align: middle;\n",
       "    }\n",
       "\n",
       "    .dataframe tbody tr th {\n",
       "        vertical-align: top;\n",
       "    }\n",
       "\n",
       "    .dataframe thead th {\n",
       "        text-align: right;\n",
       "    }\n",
       "</style>\n",
       "<table border=\"1\" class=\"dataframe\">\n",
       "  <thead>\n",
       "    <tr style=\"text-align: right;\">\n",
       "      <th></th>\n",
       "      <th>Language</th>\n",
       "      <th>Name</th>\n",
       "      <th>Profession</th>\n",
       "      <th>Gender</th>\n",
       "      <th>Age</th>\n",
       "      <th>Elimination Date</th>\n",
       "      <th>Elimination Week Number</th>\n",
       "      <th>Contestant Number</th>\n",
       "      <th>Wild Card</th>\n",
       "      <th>Host Name</th>\n",
       "      <th>...</th>\n",
       "      <th>Number of Re-entries</th>\n",
       "      <th>Walked</th>\n",
       "      <th>Ejected</th>\n",
       "      <th>In Secret-Room</th>\n",
       "      <th>Won Eviction Free Pass</th>\n",
       "      <th>Won Ticket to Finale</th>\n",
       "      <th>Secret Task</th>\n",
       "      <th>Social Media Popularity</th>\n",
       "      <th>Finalist</th>\n",
       "      <th>Winner</th>\n",
       "    </tr>\n",
       "  </thead>\n",
       "  <tbody>\n",
       "    <tr>\n",
       "      <th>0</th>\n",
       "      <td>Hindi</td>\n",
       "      <td>Amit Sadh</td>\n",
       "      <td>Soap Actor</td>\n",
       "      <td>Male</td>\n",
       "      <td>Young</td>\n",
       "      <td>NaN</td>\n",
       "      <td>10.0</td>\n",
       "      <td>5.0</td>\n",
       "      <td>No</td>\n",
       "      <td>Arshad Warsi</td>\n",
       "      <td>...</td>\n",
       "      <td>0.0</td>\n",
       "      <td>0.0</td>\n",
       "      <td>0.0</td>\n",
       "      <td>NaN</td>\n",
       "      <td>NaN</td>\n",
       "      <td>NaN</td>\n",
       "      <td>NaN</td>\n",
       "      <td>NaN</td>\n",
       "      <td>0.0</td>\n",
       "      <td>0</td>\n",
       "    </tr>\n",
       "    <tr>\n",
       "      <th>1</th>\n",
       "      <td>Hindi</td>\n",
       "      <td>Anupama Verma</td>\n",
       "      <td>Model</td>\n",
       "      <td>Female</td>\n",
       "      <td>Young</td>\n",
       "      <td>NaN</td>\n",
       "      <td>5.0</td>\n",
       "      <td>8.0</td>\n",
       "      <td>No</td>\n",
       "      <td>Arshad Warsi</td>\n",
       "      <td>...</td>\n",
       "      <td>0.0</td>\n",
       "      <td>0.0</td>\n",
       "      <td>0.0</td>\n",
       "      <td>NaN</td>\n",
       "      <td>NaN</td>\n",
       "      <td>NaN</td>\n",
       "      <td>NaN</td>\n",
       "      <td>NaN</td>\n",
       "      <td>0.0</td>\n",
       "      <td>0</td>\n",
       "    </tr>\n",
       "    <tr>\n",
       "      <th>2</th>\n",
       "      <td>Hindi</td>\n",
       "      <td>Aryan Vaid</td>\n",
       "      <td>Pageant Winner</td>\n",
       "      <td>Male</td>\n",
       "      <td>Middle</td>\n",
       "      <td>NaN</td>\n",
       "      <td>4.0</td>\n",
       "      <td>9.0</td>\n",
       "      <td>No</td>\n",
       "      <td>Arshad Warsi</td>\n",
       "      <td>...</td>\n",
       "      <td>0.0</td>\n",
       "      <td>0.0</td>\n",
       "      <td>0.0</td>\n",
       "      <td>NaN</td>\n",
       "      <td>NaN</td>\n",
       "      <td>NaN</td>\n",
       "      <td>NaN</td>\n",
       "      <td>NaN</td>\n",
       "      <td>0.0</td>\n",
       "      <td>0</td>\n",
       "    </tr>\n",
       "    <tr>\n",
       "      <th>3</th>\n",
       "      <td>Hindi</td>\n",
       "      <td>Bobby Darling</td>\n",
       "      <td>Activist</td>\n",
       "      <td>Transgender</td>\n",
       "      <td>Young</td>\n",
       "      <td>NaN</td>\n",
       "      <td>1.0</td>\n",
       "      <td>12.0</td>\n",
       "      <td>No</td>\n",
       "      <td>Arshad Warsi</td>\n",
       "      <td>...</td>\n",
       "      <td>0.0</td>\n",
       "      <td>0.0</td>\n",
       "      <td>0.0</td>\n",
       "      <td>NaN</td>\n",
       "      <td>NaN</td>\n",
       "      <td>NaN</td>\n",
       "      <td>NaN</td>\n",
       "      <td>NaN</td>\n",
       "      <td>0.0</td>\n",
       "      <td>0</td>\n",
       "    </tr>\n",
       "    <tr>\n",
       "      <th>4</th>\n",
       "      <td>Hindi</td>\n",
       "      <td>Carol Gracias</td>\n",
       "      <td>Model</td>\n",
       "      <td>Female</td>\n",
       "      <td>Young</td>\n",
       "      <td>26-Jan-07</td>\n",
       "      <td>12.0</td>\n",
       "      <td>2.0</td>\n",
       "      <td>No</td>\n",
       "      <td>Arshad Warsi</td>\n",
       "      <td>...</td>\n",
       "      <td>0.0</td>\n",
       "      <td>0.0</td>\n",
       "      <td>0.0</td>\n",
       "      <td>NaN</td>\n",
       "      <td>NaN</td>\n",
       "      <td>NaN</td>\n",
       "      <td>NaN</td>\n",
       "      <td>NaN</td>\n",
       "      <td>1.0</td>\n",
       "      <td>0</td>\n",
       "    </tr>\n",
       "    <tr>\n",
       "      <th>...</th>\n",
       "      <td>...</td>\n",
       "      <td>...</td>\n",
       "      <td>...</td>\n",
       "      <td>...</td>\n",
       "      <td>...</td>\n",
       "      <td>...</td>\n",
       "      <td>...</td>\n",
       "      <td>...</td>\n",
       "      <td>...</td>\n",
       "      <td>...</td>\n",
       "      <td>...</td>\n",
       "      <td>...</td>\n",
       "      <td>...</td>\n",
       "      <td>...</td>\n",
       "      <td>...</td>\n",
       "      <td>...</td>\n",
       "      <td>...</td>\n",
       "      <td>...</td>\n",
       "      <td>...</td>\n",
       "      <td>...</td>\n",
       "      <td>...</td>\n",
       "    </tr>\n",
       "    <tr>\n",
       "      <th>14995</th>\n",
       "      <td>Hindi</td>\n",
       "      <td>Tina Datta_72</td>\n",
       "      <td>Soap Actress</td>\n",
       "      <td>Female</td>\n",
       "      <td>Middle</td>\n",
       "      <td>NaN</td>\n",
       "      <td>17.0</td>\n",
       "      <td>14.0</td>\n",
       "      <td>No</td>\n",
       "      <td>Salman Khan</td>\n",
       "      <td>...</td>\n",
       "      <td>3.0</td>\n",
       "      <td>2.0</td>\n",
       "      <td>0.0</td>\n",
       "      <td>NaN</td>\n",
       "      <td>NaN</td>\n",
       "      <td>NaN</td>\n",
       "      <td>NaN</td>\n",
       "      <td>NaN</td>\n",
       "      <td>0.0</td>\n",
       "      <td>0</td>\n",
       "    </tr>\n",
       "    <tr>\n",
       "      <th>14996</th>\n",
       "      <td>Bengali</td>\n",
       "      <td>Sampurna Lahiri_946</td>\n",
       "      <td>Actress</td>\n",
       "      <td>Female</td>\n",
       "      <td>Young</td>\n",
       "      <td>NaN</td>\n",
       "      <td>6.0</td>\n",
       "      <td>12.0</td>\n",
       "      <td>No</td>\n",
       "      <td>Mithun Chakraborthy</td>\n",
       "      <td>...</td>\n",
       "      <td>0.0</td>\n",
       "      <td>0.0</td>\n",
       "      <td>0.0</td>\n",
       "      <td>NaN</td>\n",
       "      <td>NaN</td>\n",
       "      <td>NaN</td>\n",
       "      <td>NaN</td>\n",
       "      <td>NaN</td>\n",
       "      <td>0.0</td>\n",
       "      <td>0</td>\n",
       "    </tr>\n",
       "    <tr>\n",
       "      <th>14997</th>\n",
       "      <td>Tamil</td>\n",
       "      <td>Vaiyapuri_899</td>\n",
       "      <td>Comedian</td>\n",
       "      <td>Male</td>\n",
       "      <td>Middle</td>\n",
       "      <td>NaN</td>\n",
       "      <td>12.0</td>\n",
       "      <td>3.0</td>\n",
       "      <td>No</td>\n",
       "      <td>Kamal Haasan</td>\n",
       "      <td>...</td>\n",
       "      <td>0.0</td>\n",
       "      <td>0.0</td>\n",
       "      <td>0.0</td>\n",
       "      <td>NaN</td>\n",
       "      <td>NaN</td>\n",
       "      <td>NaN</td>\n",
       "      <td>NaN</td>\n",
       "      <td>NaN</td>\n",
       "      <td>0.0</td>\n",
       "      <td>0</td>\n",
       "    </tr>\n",
       "    <tr>\n",
       "      <th>14998</th>\n",
       "      <td>Hindi</td>\n",
       "      <td>Abhinav Shukla_4</td>\n",
       "      <td>Actor</td>\n",
       "      <td>Male</td>\n",
       "      <td>Middle</td>\n",
       "      <td>NaN</td>\n",
       "      <td>19.0</td>\n",
       "      <td>3.0</td>\n",
       "      <td>No</td>\n",
       "      <td>Salman Khan</td>\n",
       "      <td>...</td>\n",
       "      <td>0.0</td>\n",
       "      <td>0.0</td>\n",
       "      <td>0.0</td>\n",
       "      <td>NaN</td>\n",
       "      <td>NaN</td>\n",
       "      <td>NaN</td>\n",
       "      <td>NaN</td>\n",
       "      <td>NaN</td>\n",
       "      <td>0.0</td>\n",
       "      <td>0</td>\n",
       "    </tr>\n",
       "    <tr>\n",
       "      <th>14999</th>\n",
       "      <td>Hindi</td>\n",
       "      <td>Shefali Bagga_442</td>\n",
       "      <td>News Presenter</td>\n",
       "      <td>Female</td>\n",
       "      <td>Young</td>\n",
       "      <td>NaN</td>\n",
       "      <td>14.0</td>\n",
       "      <td>10.0</td>\n",
       "      <td>No</td>\n",
       "      <td>Salman Khan</td>\n",
       "      <td>...</td>\n",
       "      <td>1.0</td>\n",
       "      <td>0.0</td>\n",
       "      <td>0.0</td>\n",
       "      <td>NaN</td>\n",
       "      <td>NaN</td>\n",
       "      <td>NaN</td>\n",
       "      <td>NaN</td>\n",
       "      <td>NaN</td>\n",
       "      <td>0.0</td>\n",
       "      <td>0</td>\n",
       "    </tr>\n",
       "  </tbody>\n",
       "</table>\n",
       "<p>15000 rows × 28 columns</p>\n",
       "</div>"
      ],
      "text/plain": [
       "      Language                 Name      Profession       Gender     Age  \\\n",
       "0        Hindi            Amit Sadh      Soap Actor         Male   Young   \n",
       "1        Hindi        Anupama Verma           Model       Female   Young   \n",
       "2        Hindi           Aryan Vaid  Pageant Winner         Male  Middle   \n",
       "3        Hindi        Bobby Darling        Activist  Transgender   Young   \n",
       "4        Hindi        Carol Gracias           Model       Female   Young   \n",
       "...        ...                  ...             ...          ...     ...   \n",
       "14995    Hindi        Tina Datta_72    Soap Actress       Female  Middle   \n",
       "14996  Bengali  Sampurna Lahiri_946         Actress       Female   Young   \n",
       "14997    Tamil        Vaiyapuri_899        Comedian         Male  Middle   \n",
       "14998    Hindi     Abhinav Shukla_4           Actor         Male  Middle   \n",
       "14999    Hindi    Shefali Bagga_442  News Presenter       Female   Young   \n",
       "\n",
       "      Elimination Date  Elimination Week Number  Contestant Number Wild Card  \\\n",
       "0                  NaN                     10.0                5.0        No   \n",
       "1                  NaN                      5.0                8.0        No   \n",
       "2                  NaN                      4.0                9.0        No   \n",
       "3                  NaN                      1.0               12.0        No   \n",
       "4            26-Jan-07                     12.0                2.0        No   \n",
       "...                ...                      ...                ...       ...   \n",
       "14995              NaN                     17.0               14.0        No   \n",
       "14996              NaN                      6.0               12.0        No   \n",
       "14997              NaN                     12.0                3.0        No   \n",
       "14998              NaN                     19.0                3.0        No   \n",
       "14999              NaN                     14.0               10.0        No   \n",
       "\n",
       "                 Host Name  ... Number of Re-entries Walked  Ejected  \\\n",
       "0             Arshad Warsi  ...                  0.0    0.0      0.0   \n",
       "1             Arshad Warsi  ...                  0.0    0.0      0.0   \n",
       "2             Arshad Warsi  ...                  0.0    0.0      0.0   \n",
       "3             Arshad Warsi  ...                  0.0    0.0      0.0   \n",
       "4             Arshad Warsi  ...                  0.0    0.0      0.0   \n",
       "...                    ...  ...                  ...    ...      ...   \n",
       "14995          Salman Khan  ...                  3.0    2.0      0.0   \n",
       "14996  Mithun Chakraborthy  ...                  0.0    0.0      0.0   \n",
       "14997         Kamal Haasan  ...                  0.0    0.0      0.0   \n",
       "14998          Salman Khan  ...                  0.0    0.0      0.0   \n",
       "14999          Salman Khan  ...                  1.0    0.0      0.0   \n",
       "\n",
       "      In Secret-Room Won Eviction Free Pass Won Ticket to Finale  Secret Task  \\\n",
       "0                NaN                    NaN                  NaN          NaN   \n",
       "1                NaN                    NaN                  NaN          NaN   \n",
       "2                NaN                    NaN                  NaN          NaN   \n",
       "3                NaN                    NaN                  NaN          NaN   \n",
       "4                NaN                    NaN                  NaN          NaN   \n",
       "...              ...                    ...                  ...          ...   \n",
       "14995            NaN                    NaN                  NaN          NaN   \n",
       "14996            NaN                    NaN                  NaN          NaN   \n",
       "14997            NaN                    NaN                  NaN          NaN   \n",
       "14998            NaN                    NaN                  NaN          NaN   \n",
       "14999            NaN                    NaN                  NaN          NaN   \n",
       "\n",
       "       Social Media Popularity  Finalist  Winner  \n",
       "0                          NaN       0.0       0  \n",
       "1                          NaN       0.0       0  \n",
       "2                          NaN       0.0       0  \n",
       "3                          NaN       0.0       0  \n",
       "4                          NaN       1.0       0  \n",
       "...                        ...       ...     ...  \n",
       "14995                      NaN       0.0       0  \n",
       "14996                      NaN       0.0       0  \n",
       "14997                      NaN       0.0       0  \n",
       "14998                      NaN       0.0       0  \n",
       "14999                      NaN       0.0       0  \n",
       "\n",
       "[15000 rows x 28 columns]"
      ]
     },
     "execution_count": 1,
     "metadata": {},
     "output_type": "execute_result"
    }
   ],
   "source": [
    "import numpy as np\n",
    "import pandas as pd\n",
    "import matplotlib.pyplot as plt\n",
    "import seaborn as sns\n",
    "from sklearn.preprocessing import LabelEncoder\n",
    "from sklearn.preprocessing import OneHotEncoder\n",
    "df = pd.read_csv(\"Bigg_Boss_Cleaned.csv\")\n",
    "df"
   ]
  },
  {
   "cell_type": "code",
   "execution_count": 2,
   "metadata": {},
   "outputs": [
    {
     "data": {
      "text/plain": [
       "Index(['Language', 'Name', 'Profession', 'Gender', 'Age', 'Elimination Date',\n",
       "       'Elimination Week Number', 'Contestant Number', 'Wild Card',\n",
       "       'Host Name', 'Broadcasted By', 'OTT Platform', 'Average TRP',\n",
       "       'Most Viewed States', 'House Location', 'OTT Season',\n",
       "       'Number of Evictions Faced', 'Number of Times Elected as Captain',\n",
       "       'Number of Re-entries', 'Walked', 'Ejected', 'In Secret-Room',\n",
       "       'Won Eviction Free Pass', 'Won Ticket to Finale', 'Secret Task',\n",
       "       'Social Media Popularity', 'Finalist', 'Winner'],\n",
       "      dtype='object')"
      ]
     },
     "execution_count": 2,
     "metadata": {},
     "output_type": "execute_result"
    }
   ],
   "source": [
    "df.columns"
   ]
  },
  {
   "cell_type": "code",
   "execution_count": 3,
   "metadata": {},
   "outputs": [
    {
     "data": {
      "text/plain": [
       "(15000, 28)"
      ]
     },
     "execution_count": 3,
     "metadata": {},
     "output_type": "execute_result"
    }
   ],
   "source": [
    "df.shape\n"
   ]
  },
  {
   "cell_type": "code",
   "execution_count": 4,
   "metadata": {},
   "outputs": [
    {
     "data": {
      "text/html": [
       "<div>\n",
       "<style scoped>\n",
       "    .dataframe tbody tr th:only-of-type {\n",
       "        vertical-align: middle;\n",
       "    }\n",
       "\n",
       "    .dataframe tbody tr th {\n",
       "        vertical-align: top;\n",
       "    }\n",
       "\n",
       "    .dataframe thead th {\n",
       "        text-align: right;\n",
       "    }\n",
       "</style>\n",
       "<table border=\"1\" class=\"dataframe\">\n",
       "  <thead>\n",
       "    <tr style=\"text-align: right;\">\n",
       "      <th></th>\n",
       "      <th>Language</th>\n",
       "      <th>Name</th>\n",
       "      <th>Profession</th>\n",
       "      <th>Gender</th>\n",
       "      <th>Age</th>\n",
       "      <th>Elimination Date</th>\n",
       "      <th>Elimination Week Number</th>\n",
       "      <th>Contestant Number</th>\n",
       "      <th>Wild Card</th>\n",
       "      <th>Host Name</th>\n",
       "      <th>...</th>\n",
       "      <th>Number of Re-entries</th>\n",
       "      <th>Walked</th>\n",
       "      <th>Ejected</th>\n",
       "      <th>In Secret-Room</th>\n",
       "      <th>Won Eviction Free Pass</th>\n",
       "      <th>Won Ticket to Finale</th>\n",
       "      <th>Secret Task</th>\n",
       "      <th>Social Media Popularity</th>\n",
       "      <th>Finalist</th>\n",
       "      <th>Winner</th>\n",
       "    </tr>\n",
       "  </thead>\n",
       "  <tbody>\n",
       "    <tr>\n",
       "      <th>0</th>\n",
       "      <td>Hindi</td>\n",
       "      <td>Amit Sadh</td>\n",
       "      <td>Soap Actor</td>\n",
       "      <td>Male</td>\n",
       "      <td>Young</td>\n",
       "      <td>NaN</td>\n",
       "      <td>10.0</td>\n",
       "      <td>5.0</td>\n",
       "      <td>No</td>\n",
       "      <td>Arshad Warsi</td>\n",
       "      <td>...</td>\n",
       "      <td>0.0</td>\n",
       "      <td>0.0</td>\n",
       "      <td>0.0</td>\n",
       "      <td>NaN</td>\n",
       "      <td>NaN</td>\n",
       "      <td>NaN</td>\n",
       "      <td>NaN</td>\n",
       "      <td>NaN</td>\n",
       "      <td>0.0</td>\n",
       "      <td>0</td>\n",
       "    </tr>\n",
       "    <tr>\n",
       "      <th>1</th>\n",
       "      <td>Hindi</td>\n",
       "      <td>Anupama Verma</td>\n",
       "      <td>Model</td>\n",
       "      <td>Female</td>\n",
       "      <td>Young</td>\n",
       "      <td>NaN</td>\n",
       "      <td>5.0</td>\n",
       "      <td>8.0</td>\n",
       "      <td>No</td>\n",
       "      <td>Arshad Warsi</td>\n",
       "      <td>...</td>\n",
       "      <td>0.0</td>\n",
       "      <td>0.0</td>\n",
       "      <td>0.0</td>\n",
       "      <td>NaN</td>\n",
       "      <td>NaN</td>\n",
       "      <td>NaN</td>\n",
       "      <td>NaN</td>\n",
       "      <td>NaN</td>\n",
       "      <td>0.0</td>\n",
       "      <td>0</td>\n",
       "    </tr>\n",
       "    <tr>\n",
       "      <th>2</th>\n",
       "      <td>Hindi</td>\n",
       "      <td>Aryan Vaid</td>\n",
       "      <td>Pageant Winner</td>\n",
       "      <td>Male</td>\n",
       "      <td>Middle</td>\n",
       "      <td>NaN</td>\n",
       "      <td>4.0</td>\n",
       "      <td>9.0</td>\n",
       "      <td>No</td>\n",
       "      <td>Arshad Warsi</td>\n",
       "      <td>...</td>\n",
       "      <td>0.0</td>\n",
       "      <td>0.0</td>\n",
       "      <td>0.0</td>\n",
       "      <td>NaN</td>\n",
       "      <td>NaN</td>\n",
       "      <td>NaN</td>\n",
       "      <td>NaN</td>\n",
       "      <td>NaN</td>\n",
       "      <td>0.0</td>\n",
       "      <td>0</td>\n",
       "    </tr>\n",
       "    <tr>\n",
       "      <th>3</th>\n",
       "      <td>Hindi</td>\n",
       "      <td>Bobby Darling</td>\n",
       "      <td>Activist</td>\n",
       "      <td>Transgender</td>\n",
       "      <td>Young</td>\n",
       "      <td>NaN</td>\n",
       "      <td>1.0</td>\n",
       "      <td>12.0</td>\n",
       "      <td>No</td>\n",
       "      <td>Arshad Warsi</td>\n",
       "      <td>...</td>\n",
       "      <td>0.0</td>\n",
       "      <td>0.0</td>\n",
       "      <td>0.0</td>\n",
       "      <td>NaN</td>\n",
       "      <td>NaN</td>\n",
       "      <td>NaN</td>\n",
       "      <td>NaN</td>\n",
       "      <td>NaN</td>\n",
       "      <td>0.0</td>\n",
       "      <td>0</td>\n",
       "    </tr>\n",
       "    <tr>\n",
       "      <th>4</th>\n",
       "      <td>Hindi</td>\n",
       "      <td>Carol Gracias</td>\n",
       "      <td>Model</td>\n",
       "      <td>Female</td>\n",
       "      <td>Young</td>\n",
       "      <td>26-Jan-07</td>\n",
       "      <td>12.0</td>\n",
       "      <td>2.0</td>\n",
       "      <td>No</td>\n",
       "      <td>Arshad Warsi</td>\n",
       "      <td>...</td>\n",
       "      <td>0.0</td>\n",
       "      <td>0.0</td>\n",
       "      <td>0.0</td>\n",
       "      <td>NaN</td>\n",
       "      <td>NaN</td>\n",
       "      <td>NaN</td>\n",
       "      <td>NaN</td>\n",
       "      <td>NaN</td>\n",
       "      <td>1.0</td>\n",
       "      <td>0</td>\n",
       "    </tr>\n",
       "  </tbody>\n",
       "</table>\n",
       "<p>5 rows × 28 columns</p>\n",
       "</div>"
      ],
      "text/plain": [
       "  Language           Name      Profession       Gender     Age  \\\n",
       "0    Hindi      Amit Sadh      Soap Actor         Male   Young   \n",
       "1    Hindi  Anupama Verma           Model       Female   Young   \n",
       "2    Hindi     Aryan Vaid  Pageant Winner         Male  Middle   \n",
       "3    Hindi  Bobby Darling        Activist  Transgender   Young   \n",
       "4    Hindi  Carol Gracias           Model       Female   Young   \n",
       "\n",
       "  Elimination Date  Elimination Week Number  Contestant Number Wild Card  \\\n",
       "0              NaN                     10.0                5.0        No   \n",
       "1              NaN                      5.0                8.0        No   \n",
       "2              NaN                      4.0                9.0        No   \n",
       "3              NaN                      1.0               12.0        No   \n",
       "4        26-Jan-07                     12.0                2.0        No   \n",
       "\n",
       "      Host Name  ... Number of Re-entries Walked  Ejected In Secret-Room  \\\n",
       "0  Arshad Warsi  ...                  0.0    0.0      0.0            NaN   \n",
       "1  Arshad Warsi  ...                  0.0    0.0      0.0            NaN   \n",
       "2  Arshad Warsi  ...                  0.0    0.0      0.0            NaN   \n",
       "3  Arshad Warsi  ...                  0.0    0.0      0.0            NaN   \n",
       "4  Arshad Warsi  ...                  0.0    0.0      0.0            NaN   \n",
       "\n",
       "  Won Eviction Free Pass Won Ticket to Finale  Secret Task  \\\n",
       "0                    NaN                  NaN          NaN   \n",
       "1                    NaN                  NaN          NaN   \n",
       "2                    NaN                  NaN          NaN   \n",
       "3                    NaN                  NaN          NaN   \n",
       "4                    NaN                  NaN          NaN   \n",
       "\n",
       "   Social Media Popularity  Finalist  Winner  \n",
       "0                      NaN       0.0       0  \n",
       "1                      NaN       0.0       0  \n",
       "2                      NaN       0.0       0  \n",
       "3                      NaN       0.0       0  \n",
       "4                      NaN       1.0       0  \n",
       "\n",
       "[5 rows x 28 columns]"
      ]
     },
     "execution_count": 4,
     "metadata": {},
     "output_type": "execute_result"
    }
   ],
   "source": [
    "df.head()"
   ]
  },
  {
   "cell_type": "code",
   "execution_count": 5,
   "metadata": {},
   "outputs": [
    {
     "data": {
      "text/html": [
       "<div>\n",
       "<style scoped>\n",
       "    .dataframe tbody tr th:only-of-type {\n",
       "        vertical-align: middle;\n",
       "    }\n",
       "\n",
       "    .dataframe tbody tr th {\n",
       "        vertical-align: top;\n",
       "    }\n",
       "\n",
       "    .dataframe thead th {\n",
       "        text-align: right;\n",
       "    }\n",
       "</style>\n",
       "<table border=\"1\" class=\"dataframe\">\n",
       "  <thead>\n",
       "    <tr style=\"text-align: right;\">\n",
       "      <th></th>\n",
       "      <th>Language</th>\n",
       "      <th>Name</th>\n",
       "      <th>Profession</th>\n",
       "      <th>Gender</th>\n",
       "      <th>Age</th>\n",
       "      <th>Elimination Date</th>\n",
       "      <th>Elimination Week Number</th>\n",
       "      <th>Contestant Number</th>\n",
       "      <th>Wild Card</th>\n",
       "      <th>Host Name</th>\n",
       "      <th>...</th>\n",
       "      <th>Number of Re-entries</th>\n",
       "      <th>Walked</th>\n",
       "      <th>Ejected</th>\n",
       "      <th>In Secret-Room</th>\n",
       "      <th>Won Eviction Free Pass</th>\n",
       "      <th>Won Ticket to Finale</th>\n",
       "      <th>Secret Task</th>\n",
       "      <th>Social Media Popularity</th>\n",
       "      <th>Finalist</th>\n",
       "      <th>Winner</th>\n",
       "    </tr>\n",
       "  </thead>\n",
       "  <tbody>\n",
       "    <tr>\n",
       "      <th>14995</th>\n",
       "      <td>Hindi</td>\n",
       "      <td>Tina Datta_72</td>\n",
       "      <td>Soap Actress</td>\n",
       "      <td>Female</td>\n",
       "      <td>Middle</td>\n",
       "      <td>NaN</td>\n",
       "      <td>17.0</td>\n",
       "      <td>14.0</td>\n",
       "      <td>No</td>\n",
       "      <td>Salman Khan</td>\n",
       "      <td>...</td>\n",
       "      <td>3.0</td>\n",
       "      <td>2.0</td>\n",
       "      <td>0.0</td>\n",
       "      <td>NaN</td>\n",
       "      <td>NaN</td>\n",
       "      <td>NaN</td>\n",
       "      <td>NaN</td>\n",
       "      <td>NaN</td>\n",
       "      <td>0.0</td>\n",
       "      <td>0</td>\n",
       "    </tr>\n",
       "    <tr>\n",
       "      <th>14996</th>\n",
       "      <td>Bengali</td>\n",
       "      <td>Sampurna Lahiri_946</td>\n",
       "      <td>Actress</td>\n",
       "      <td>Female</td>\n",
       "      <td>Young</td>\n",
       "      <td>NaN</td>\n",
       "      <td>6.0</td>\n",
       "      <td>12.0</td>\n",
       "      <td>No</td>\n",
       "      <td>Mithun Chakraborthy</td>\n",
       "      <td>...</td>\n",
       "      <td>0.0</td>\n",
       "      <td>0.0</td>\n",
       "      <td>0.0</td>\n",
       "      <td>NaN</td>\n",
       "      <td>NaN</td>\n",
       "      <td>NaN</td>\n",
       "      <td>NaN</td>\n",
       "      <td>NaN</td>\n",
       "      <td>0.0</td>\n",
       "      <td>0</td>\n",
       "    </tr>\n",
       "    <tr>\n",
       "      <th>14997</th>\n",
       "      <td>Tamil</td>\n",
       "      <td>Vaiyapuri_899</td>\n",
       "      <td>Comedian</td>\n",
       "      <td>Male</td>\n",
       "      <td>Middle</td>\n",
       "      <td>NaN</td>\n",
       "      <td>12.0</td>\n",
       "      <td>3.0</td>\n",
       "      <td>No</td>\n",
       "      <td>Kamal Haasan</td>\n",
       "      <td>...</td>\n",
       "      <td>0.0</td>\n",
       "      <td>0.0</td>\n",
       "      <td>0.0</td>\n",
       "      <td>NaN</td>\n",
       "      <td>NaN</td>\n",
       "      <td>NaN</td>\n",
       "      <td>NaN</td>\n",
       "      <td>NaN</td>\n",
       "      <td>0.0</td>\n",
       "      <td>0</td>\n",
       "    </tr>\n",
       "    <tr>\n",
       "      <th>14998</th>\n",
       "      <td>Hindi</td>\n",
       "      <td>Abhinav Shukla_4</td>\n",
       "      <td>Actor</td>\n",
       "      <td>Male</td>\n",
       "      <td>Middle</td>\n",
       "      <td>NaN</td>\n",
       "      <td>19.0</td>\n",
       "      <td>3.0</td>\n",
       "      <td>No</td>\n",
       "      <td>Salman Khan</td>\n",
       "      <td>...</td>\n",
       "      <td>0.0</td>\n",
       "      <td>0.0</td>\n",
       "      <td>0.0</td>\n",
       "      <td>NaN</td>\n",
       "      <td>NaN</td>\n",
       "      <td>NaN</td>\n",
       "      <td>NaN</td>\n",
       "      <td>NaN</td>\n",
       "      <td>0.0</td>\n",
       "      <td>0</td>\n",
       "    </tr>\n",
       "    <tr>\n",
       "      <th>14999</th>\n",
       "      <td>Hindi</td>\n",
       "      <td>Shefali Bagga_442</td>\n",
       "      <td>News Presenter</td>\n",
       "      <td>Female</td>\n",
       "      <td>Young</td>\n",
       "      <td>NaN</td>\n",
       "      <td>14.0</td>\n",
       "      <td>10.0</td>\n",
       "      <td>No</td>\n",
       "      <td>Salman Khan</td>\n",
       "      <td>...</td>\n",
       "      <td>1.0</td>\n",
       "      <td>0.0</td>\n",
       "      <td>0.0</td>\n",
       "      <td>NaN</td>\n",
       "      <td>NaN</td>\n",
       "      <td>NaN</td>\n",
       "      <td>NaN</td>\n",
       "      <td>NaN</td>\n",
       "      <td>0.0</td>\n",
       "      <td>0</td>\n",
       "    </tr>\n",
       "  </tbody>\n",
       "</table>\n",
       "<p>5 rows × 28 columns</p>\n",
       "</div>"
      ],
      "text/plain": [
       "      Language                 Name      Profession  Gender     Age  \\\n",
       "14995    Hindi        Tina Datta_72    Soap Actress  Female  Middle   \n",
       "14996  Bengali  Sampurna Lahiri_946         Actress  Female   Young   \n",
       "14997    Tamil        Vaiyapuri_899        Comedian    Male  Middle   \n",
       "14998    Hindi     Abhinav Shukla_4           Actor    Male  Middle   \n",
       "14999    Hindi    Shefali Bagga_442  News Presenter  Female   Young   \n",
       "\n",
       "      Elimination Date  Elimination Week Number  Contestant Number Wild Card  \\\n",
       "14995              NaN                     17.0               14.0        No   \n",
       "14996              NaN                      6.0               12.0        No   \n",
       "14997              NaN                     12.0                3.0        No   \n",
       "14998              NaN                     19.0                3.0        No   \n",
       "14999              NaN                     14.0               10.0        No   \n",
       "\n",
       "                 Host Name  ... Number of Re-entries Walked  Ejected  \\\n",
       "14995          Salman Khan  ...                  3.0    2.0      0.0   \n",
       "14996  Mithun Chakraborthy  ...                  0.0    0.0      0.0   \n",
       "14997         Kamal Haasan  ...                  0.0    0.0      0.0   \n",
       "14998          Salman Khan  ...                  0.0    0.0      0.0   \n",
       "14999          Salman Khan  ...                  1.0    0.0      0.0   \n",
       "\n",
       "      In Secret-Room Won Eviction Free Pass Won Ticket to Finale  Secret Task  \\\n",
       "14995            NaN                    NaN                  NaN          NaN   \n",
       "14996            NaN                    NaN                  NaN          NaN   \n",
       "14997            NaN                    NaN                  NaN          NaN   \n",
       "14998            NaN                    NaN                  NaN          NaN   \n",
       "14999            NaN                    NaN                  NaN          NaN   \n",
       "\n",
       "       Social Media Popularity  Finalist  Winner  \n",
       "14995                      NaN       0.0       0  \n",
       "14996                      NaN       0.0       0  \n",
       "14997                      NaN       0.0       0  \n",
       "14998                      NaN       0.0       0  \n",
       "14999                      NaN       0.0       0  \n",
       "\n",
       "[5 rows x 28 columns]"
      ]
     },
     "execution_count": 5,
     "metadata": {},
     "output_type": "execute_result"
    }
   ],
   "source": [
    "df.tail()"
   ]
  },
  {
   "cell_type": "code",
   "execution_count": 6,
   "metadata": {},
   "outputs": [
    {
     "data": {
      "text/plain": [
       "Language                                  0\n",
       "Name                                      0\n",
       "Profession                                0\n",
       "Gender                                    0\n",
       "Age                                       0\n",
       "Elimination Date                      12276\n",
       "Elimination Week Number                1827\n",
       "Contestant Number                       941\n",
       "Wild Card                                 0\n",
       "Host Name                                 0\n",
       "Broadcasted By                         1184\n",
       "OTT Platform                           5005\n",
       "Average TRP                            6586\n",
       "Most Viewed States                        0\n",
       "House Location                            0\n",
       "OTT Season                                0\n",
       "Number of Evictions Faced                 0\n",
       "Number of Times Elected as Captain     2049\n",
       "Number of Re-entries                   2403\n",
       "Walked                                 2378\n",
       "Ejected                                2481\n",
       "In Secret-Room                        14525\n",
       "Won Eviction Free Pass                14678\n",
       "Won Ticket to Finale                  14624\n",
       "Secret Task                           14874\n",
       "Social Media Popularity               12023\n",
       "Finalist                                 94\n",
       "Winner                                    0\n",
       "dtype: int64"
      ]
     },
     "execution_count": 6,
     "metadata": {},
     "output_type": "execute_result"
    }
   ],
   "source": [
    "df.isna().sum()"
   ]
  },
  {
   "cell_type": "code",
   "execution_count": 7,
   "metadata": {},
   "outputs": [
    {
     "data": {
      "text/plain": [
       "Language                               object\n",
       "Name                                   object\n",
       "Profession                             object\n",
       "Gender                                 object\n",
       "Age                                    object\n",
       "Elimination Date                       object\n",
       "Elimination Week Number               float64\n",
       "Contestant Number                     float64\n",
       "Wild Card                              object\n",
       "Host Name                              object\n",
       "Broadcasted By                         object\n",
       "OTT Platform                           object\n",
       "Average TRP                           float64\n",
       "Most Viewed States                     object\n",
       "House Location                         object\n",
       "OTT Season                             object\n",
       "Number of Evictions Faced               int64\n",
       "Number of Times Elected as Captain    float64\n",
       "Number of Re-entries                  float64\n",
       "Walked                                float64\n",
       "Ejected                               float64\n",
       "In Secret-Room                        float64\n",
       "Won Eviction Free Pass                float64\n",
       "Won Ticket to Finale                  float64\n",
       "Secret Task                            object\n",
       "Social Media Popularity               float64\n",
       "Finalist                              float64\n",
       "Winner                                  int64\n",
       "dtype: object"
      ]
     },
     "execution_count": 7,
     "metadata": {},
     "output_type": "execute_result"
    }
   ],
   "source": [
    "df.dtypes"
   ]
  },
  {
   "cell_type": "code",
   "execution_count": 8,
   "metadata": {},
   "outputs": [
    {
     "data": {
      "text/plain": [
       "np.int64(72)"
      ]
     },
     "execution_count": 8,
     "metadata": {},
     "output_type": "execute_result"
    }
   ],
   "source": [
    "df.duplicated().sum()\n"
   ]
  },
  {
   "cell_type": "code",
   "execution_count": 9,
   "metadata": {},
   "outputs": [],
   "source": [
    "df_cleaned = df.drop_duplicates().reset_index(drop=True)\n"
   ]
  },
  {
   "cell_type": "code",
   "execution_count": 10,
   "metadata": {},
   "outputs": [
    {
     "data": {
      "text/plain": [
       "np.int64(0)"
      ]
     },
     "execution_count": 10,
     "metadata": {},
     "output_type": "execute_result"
    }
   ],
   "source": [
    "df_cleaned.duplicated().sum()"
   ]
  },
  {
   "cell_type": "code",
   "execution_count": 11,
   "metadata": {},
   "outputs": [
    {
     "data": {
      "text/plain": [
       "(14928, 14)"
      ]
     },
     "execution_count": 11,
     "metadata": {},
     "output_type": "execute_result"
    }
   ],
   "source": [
    "df_cleaned.drop(df_cleaned[['Elimination Date','Elimination Week Number','Host Name','Social Media Popularity','Won Eviction Free Pass','Secret Task','In Secret-Room','Won Ticket to Finale','OTT Platform','Broadcasted By','Contestant Number','Average TRP','Number of Times Elected as Captain','Number of Re-entries']],axis=1,inplace=True)\n",
    "df_cleaned.shape"
   ]
  },
  {
   "cell_type": "code",
   "execution_count": 12,
   "metadata": {},
   "outputs": [
    {
     "data": {
      "text/plain": [
       "Index(['Language', 'Name', 'Profession', 'Gender', 'Age', 'Wild Card',\n",
       "       'Most Viewed States', 'House Location', 'OTT Season',\n",
       "       'Number of Evictions Faced', 'Walked', 'Ejected', 'Finalist', 'Winner'],\n",
       "      dtype='object')"
      ]
     },
     "execution_count": 12,
     "metadata": {},
     "output_type": "execute_result"
    }
   ],
   "source": [
    "df_cleaned.columns"
   ]
  },
  {
   "cell_type": "code",
   "execution_count": 13,
   "metadata": {},
   "outputs": [
    {
     "name": "stderr",
     "output_type": "stream",
     "text": [
      "C:\\Users\\DELL\\AppData\\Local\\Temp\\ipykernel_5752\\307664973.py:3: FutureWarning: A value is trying to be set on a copy of a DataFrame or Series through chained assignment using an inplace method.\n",
      "The behavior will change in pandas 3.0. This inplace method will never work because the intermediate object on which we are setting values always behaves as a copy.\n",
      "\n",
      "For example, when doing 'df[col].method(value, inplace=True)', try using 'df.method({col: value}, inplace=True)' or df[col] = df[col].method(value) instead, to perform the operation inplace on the original object.\n",
      "\n",
      "\n",
      "  df_cleaned[col].fillna(df_cleaned[col].mode()[0], inplace=True)\n"
     ]
    },
    {
     "data": {
      "text/plain": [
       "Language                     0\n",
       "Name                         0\n",
       "Profession                   0\n",
       "Gender                       0\n",
       "Age                          0\n",
       "Wild Card                    0\n",
       "Most Viewed States           0\n",
       "House Location               0\n",
       "OTT Season                   0\n",
       "Number of Evictions Faced    0\n",
       "Walked                       0\n",
       "Ejected                      0\n",
       "Finalist                     0\n",
       "Winner                       0\n",
       "dtype: int64"
      ]
     },
     "execution_count": 13,
     "metadata": {},
     "output_type": "execute_result"
    }
   ],
   "source": [
    "\n",
    "cat_cols = ['Finalist','Ejected','Walked']\n",
    "for col in cat_cols:\n",
    "    df_cleaned[col].fillna(df_cleaned[col].mode()[0], inplace=True)\n",
    "df_cleaned.isna().sum()\n"
   ]
  },
  {
   "cell_type": "code",
   "execution_count": 14,
   "metadata": {},
   "outputs": [
    {
     "data": {
      "text/plain": [
       "Language                      object\n",
       "Name                          object\n",
       "Profession                    object\n",
       "Gender                        object\n",
       "Age                           object\n",
       "Wild Card                     object\n",
       "Most Viewed States            object\n",
       "House Location                object\n",
       "OTT Season                    object\n",
       "Number of Evictions Faced      int64\n",
       "Walked                       float64\n",
       "Ejected                      float64\n",
       "Finalist                     float64\n",
       "Winner                         int64\n",
       "dtype: object"
      ]
     },
     "execution_count": 14,
     "metadata": {},
     "output_type": "execute_result"
    }
   ],
   "source": [
    "df_cleaned.dtypes"
   ]
  },
  {
   "cell_type": "code",
   "execution_count": 15,
   "metadata": {},
   "outputs": [
    {
     "data": {
      "image/png": "[encoded data removed]",
      "text/plain": [
       "<Figure size 1000x500 with 1 Axes>"
      ]
     },
     "metadata": {},
     "output_type": "display_data"
    }
   ],
   "source": [
    "\n",
    "plt.figure(figsize=(10, 5))\n",
    "sns.boxplot(data=df_cleaned)\n",
    "plt.title(\"Boxplot of Numerical Features\")\n",
    "plt.xticks(rotation=45) \n",
    "plt.show()\n"
   ]
  },
  {
   "cell_type": "code",
   "execution_count": 16,
   "metadata": {},
   "outputs": [
    {
     "data": {
      "text/html": [
       "<div>\n",
       "<style scoped>\n",
       "    .dataframe tbody tr th:only-of-type {\n",
       "        vertical-align: middle;\n",
       "    }\n",
       "\n",
       "    .dataframe tbody tr th {\n",
       "        vertical-align: top;\n",
       "    }\n",
       "\n",
       "    .dataframe thead th {\n",
       "        text-align: right;\n",
       "    }\n",
       "</style>\n",
       "<table border=\"1\" class=\"dataframe\">\n",
       "  <thead>\n",
       "    <tr style=\"text-align: right;\">\n",
       "      <th></th>\n",
       "      <th>Language</th>\n",
       "      <th>Name</th>\n",
       "      <th>Profession</th>\n",
       "      <th>Gender</th>\n",
       "      <th>Age</th>\n",
       "      <th>Wild Card</th>\n",
       "      <th>Most Viewed States</th>\n",
       "      <th>House Location</th>\n",
       "      <th>OTT Season</th>\n",
       "      <th>Number of Evictions Faced</th>\n",
       "      <th>Walked</th>\n",
       "      <th>Ejected</th>\n",
       "      <th>Finalist</th>\n",
       "      <th>Winner</th>\n",
       "    </tr>\n",
       "  </thead>\n",
       "  <tbody>\n",
       "    <tr>\n",
       "      <th>0</th>\n",
       "      <td>Hindi</td>\n",
       "      <td>Amit Sadh</td>\n",
       "      <td>Soap Actor</td>\n",
       "      <td>Male</td>\n",
       "      <td>Young</td>\n",
       "      <td>No</td>\n",
       "      <td>Maharashtra, Bihar, Delhi, Haryana, Jharkhand,...</td>\n",
       "      <td>Lonavala</td>\n",
       "      <td>No</td>\n",
       "      <td>2</td>\n",
       "      <td>0.0</td>\n",
       "      <td>0.0</td>\n",
       "      <td>0.0</td>\n",
       "      <td>0</td>\n",
       "    </tr>\n",
       "    <tr>\n",
       "      <th>1</th>\n",
       "      <td>Hindi</td>\n",
       "      <td>Anupama Verma</td>\n",
       "      <td>Model</td>\n",
       "      <td>Female</td>\n",
       "      <td>Young</td>\n",
       "      <td>No</td>\n",
       "      <td>Maharashtra, Bihar, Delhi, Haryana, Jharkhand,...</td>\n",
       "      <td>Lonavala</td>\n",
       "      <td>No</td>\n",
       "      <td>1</td>\n",
       "      <td>0.0</td>\n",
       "      <td>0.0</td>\n",
       "      <td>0.0</td>\n",
       "      <td>0</td>\n",
       "    </tr>\n",
       "    <tr>\n",
       "      <th>2</th>\n",
       "      <td>Hindi</td>\n",
       "      <td>Aryan Vaid</td>\n",
       "      <td>Pageant Winner</td>\n",
       "      <td>Male</td>\n",
       "      <td>Middle</td>\n",
       "      <td>No</td>\n",
       "      <td>Maharashtra, Bihar, Delhi, Haryana, Jharkhand,...</td>\n",
       "      <td>Lonavala</td>\n",
       "      <td>No</td>\n",
       "      <td>1</td>\n",
       "      <td>0.0</td>\n",
       "      <td>0.0</td>\n",
       "      <td>0.0</td>\n",
       "      <td>0</td>\n",
       "    </tr>\n",
       "    <tr>\n",
       "      <th>3</th>\n",
       "      <td>Hindi</td>\n",
       "      <td>Bobby Darling</td>\n",
       "      <td>Activist</td>\n",
       "      <td>Transgender</td>\n",
       "      <td>Young</td>\n",
       "      <td>No</td>\n",
       "      <td>Maharashtra, Bihar, Delhi, Haryana, Jharkhand,...</td>\n",
       "      <td>Lonavala</td>\n",
       "      <td>No</td>\n",
       "      <td>1</td>\n",
       "      <td>0.0</td>\n",
       "      <td>0.0</td>\n",
       "      <td>0.0</td>\n",
       "      <td>0</td>\n",
       "    </tr>\n",
       "    <tr>\n",
       "      <th>4</th>\n",
       "      <td>Hindi</td>\n",
       "      <td>Carol Gracias</td>\n",
       "      <td>Model</td>\n",
       "      <td>Female</td>\n",
       "      <td>Young</td>\n",
       "      <td>No</td>\n",
       "      <td>Maharashtra, Bihar, Delhi, Haryana, Jharkhand,...</td>\n",
       "      <td>Lonavala</td>\n",
       "      <td>No</td>\n",
       "      <td>5</td>\n",
       "      <td>0.0</td>\n",
       "      <td>0.0</td>\n",
       "      <td>1.0</td>\n",
       "      <td>0</td>\n",
       "    </tr>\n",
       "    <tr>\n",
       "      <th>...</th>\n",
       "      <td>...</td>\n",
       "      <td>...</td>\n",
       "      <td>...</td>\n",
       "      <td>...</td>\n",
       "      <td>...</td>\n",
       "      <td>...</td>\n",
       "      <td>...</td>\n",
       "      <td>...</td>\n",
       "      <td>...</td>\n",
       "      <td>...</td>\n",
       "      <td>...</td>\n",
       "      <td>...</td>\n",
       "      <td>...</td>\n",
       "      <td>...</td>\n",
       "    </tr>\n",
       "    <tr>\n",
       "      <th>14923</th>\n",
       "      <td>Hindi</td>\n",
       "      <td>Tina Datta_72</td>\n",
       "      <td>Soap Actress</td>\n",
       "      <td>Female</td>\n",
       "      <td>Middle</td>\n",
       "      <td>No</td>\n",
       "      <td>Maharashtra, Bihar, Delhi, Haryana, Jharkhand,...</td>\n",
       "      <td>Mumbai</td>\n",
       "      <td>No</td>\n",
       "      <td>11</td>\n",
       "      <td>2.0</td>\n",
       "      <td>0.0</td>\n",
       "      <td>0.0</td>\n",
       "      <td>0</td>\n",
       "    </tr>\n",
       "    <tr>\n",
       "      <th>14924</th>\n",
       "      <td>Bengali</td>\n",
       "      <td>Sampurna Lahiri_946</td>\n",
       "      <td>Actress</td>\n",
       "      <td>Female</td>\n",
       "      <td>Young</td>\n",
       "      <td>No</td>\n",
       "      <td>West Bengal</td>\n",
       "      <td>Lonavala</td>\n",
       "      <td>No</td>\n",
       "      <td>1</td>\n",
       "      <td>0.0</td>\n",
       "      <td>0.0</td>\n",
       "      <td>0.0</td>\n",
       "      <td>0</td>\n",
       "    </tr>\n",
       "    <tr>\n",
       "      <th>14925</th>\n",
       "      <td>Tamil</td>\n",
       "      <td>Vaiyapuri_899</td>\n",
       "      <td>Comedian</td>\n",
       "      <td>Male</td>\n",
       "      <td>Middle</td>\n",
       "      <td>No</td>\n",
       "      <td>Tamil Nadu</td>\n",
       "      <td>Chennai</td>\n",
       "      <td>No</td>\n",
       "      <td>5</td>\n",
       "      <td>0.0</td>\n",
       "      <td>0.0</td>\n",
       "      <td>0.0</td>\n",
       "      <td>0</td>\n",
       "    </tr>\n",
       "    <tr>\n",
       "      <th>14926</th>\n",
       "      <td>Hindi</td>\n",
       "      <td>Abhinav Shukla_4</td>\n",
       "      <td>Actor</td>\n",
       "      <td>Male</td>\n",
       "      <td>Middle</td>\n",
       "      <td>No</td>\n",
       "      <td>Maharashtra, Bihar, Delhi, Haryana, Jharkhand,...</td>\n",
       "      <td>Mumbai</td>\n",
       "      <td>No</td>\n",
       "      <td>11</td>\n",
       "      <td>0.0</td>\n",
       "      <td>0.0</td>\n",
       "      <td>0.0</td>\n",
       "      <td>0</td>\n",
       "    </tr>\n",
       "    <tr>\n",
       "      <th>14927</th>\n",
       "      <td>Hindi</td>\n",
       "      <td>Shefali Bagga_442</td>\n",
       "      <td>News Presenter</td>\n",
       "      <td>Female</td>\n",
       "      <td>Young</td>\n",
       "      <td>No</td>\n",
       "      <td>Maharashtra, Bihar, Delhi, Haryana, Jharkhand,...</td>\n",
       "      <td>Mumbai</td>\n",
       "      <td>No</td>\n",
       "      <td>5</td>\n",
       "      <td>0.0</td>\n",
       "      <td>0.0</td>\n",
       "      <td>0.0</td>\n",
       "      <td>0</td>\n",
       "    </tr>\n",
       "  </tbody>\n",
       "</table>\n",
       "<p>14928 rows × 14 columns</p>\n",
       "</div>"
      ],
      "text/plain": [
       "      Language                 Name      Profession       Gender     Age  \\\n",
       "0        Hindi            Amit Sadh      Soap Actor         Male   Young   \n",
       "1        Hindi        Anupama Verma           Model       Female   Young   \n",
       "2        Hindi           Aryan Vaid  Pageant Winner         Male  Middle   \n",
       "3        Hindi        Bobby Darling        Activist  Transgender   Young   \n",
       "4        Hindi        Carol Gracias           Model       Female   Young   \n",
       "...        ...                  ...             ...          ...     ...   \n",
       "14923    Hindi        Tina Datta_72    Soap Actress       Female  Middle   \n",
       "14924  Bengali  Sampurna Lahiri_946         Actress       Female   Young   \n",
       "14925    Tamil        Vaiyapuri_899        Comedian         Male  Middle   \n",
       "14926    Hindi     Abhinav Shukla_4           Actor         Male  Middle   \n",
       "14927    Hindi    Shefali Bagga_442  News Presenter       Female   Young   \n",
       "\n",
       "      Wild Card                                 Most Viewed States  \\\n",
       "0            No  Maharashtra, Bihar, Delhi, Haryana, Jharkhand,...   \n",
       "1            No  Maharashtra, Bihar, Delhi, Haryana, Jharkhand,...   \n",
       "2            No  Maharashtra, Bihar, Delhi, Haryana, Jharkhand,...   \n",
       "3            No  Maharashtra, Bihar, Delhi, Haryana, Jharkhand,...   \n",
       "4            No  Maharashtra, Bihar, Delhi, Haryana, Jharkhand,...   \n",
       "...         ...                                                ...   \n",
       "14923        No  Maharashtra, Bihar, Delhi, Haryana, Jharkhand,...   \n",
       "14924        No                                        West Bengal   \n",
       "14925        No                                         Tamil Nadu   \n",
       "14926        No  Maharashtra, Bihar, Delhi, Haryana, Jharkhand,...   \n",
       "14927        No  Maharashtra, Bihar, Delhi, Haryana, Jharkhand,...   \n",
       "\n",
       "      House Location OTT Season  Number of Evictions Faced  Walked  Ejected  \\\n",
       "0           Lonavala         No                          2     0.0      0.0   \n",
       "1           Lonavala         No                          1     0.0      0.0   \n",
       "2           Lonavala         No                          1     0.0      0.0   \n",
       "3           Lonavala         No                          1     0.0      0.0   \n",
       "4           Lonavala         No                          5     0.0      0.0   \n",
       "...              ...        ...                        ...     ...      ...   \n",
       "14923         Mumbai         No                         11     2.0      0.0   \n",
       "14924       Lonavala         No                          1     0.0      0.0   \n",
       "14925        Chennai         No                          5     0.0      0.0   \n",
       "14926         Mumbai         No                         11     0.0      0.0   \n",
       "14927         Mumbai         No                          5     0.0      0.0   \n",
       "\n",
       "       Finalist  Winner  \n",
       "0           0.0       0  \n",
       "1           0.0       0  \n",
       "2           0.0       0  \n",
       "3           0.0       0  \n",
       "4           1.0       0  \n",
       "...         ...     ...  \n",
       "14923       0.0       0  \n",
       "14924       0.0       0  \n",
       "14925       0.0       0  \n",
       "14926       0.0       0  \n",
       "14927       0.0       0  \n",
       "\n",
       "[14928 rows x 14 columns]"
      ]
     },
     "execution_count": 16,
     "metadata": {},
     "output_type": "execute_result"
    }
   ],
   "source": [
    "df_cleaned"
   ]
  },
  {
   "cell_type": "code",
   "execution_count": 17,
   "metadata": {},
   "outputs": [
    {
     "data": {
      "text/plain": [
       "Ejected\n",
       "0.0    14385\n",
       "1.0      543\n",
       "Name: count, dtype: int64"
      ]
     },
     "execution_count": 17,
     "metadata": {},
     "output_type": "execute_result"
    }
   ],
   "source": [
    "df_cleaned['Ejected'].value_counts()"
   ]
  },
  {
   "cell_type": "code",
   "execution_count": 18,
   "metadata": {},
   "outputs": [
    {
     "data": {
      "text/plain": [
       "Walked\n",
       "0.0    13689\n",
       "1.0     1194\n",
       "2.0       45\n",
       "Name: count, dtype: int64"
      ]
     },
     "execution_count": 18,
     "metadata": {},
     "output_type": "execute_result"
    }
   ],
   "source": [
    "df_cleaned['Walked'].value_counts()"
   ]
  },
  {
   "cell_type": "code",
   "execution_count": 19,
   "metadata": {},
   "outputs": [
    {
     "data": {
      "text/html": [
       "<div>\n",
       "<style scoped>\n",
       "    .dataframe tbody tr th:only-of-type {\n",
       "        vertical-align: middle;\n",
       "    }\n",
       "\n",
       "    .dataframe tbody tr th {\n",
       "        vertical-align: top;\n",
       "    }\n",
       "\n",
       "    .dataframe thead th {\n",
       "        text-align: right;\n",
       "    }\n",
       "</style>\n",
       "<table border=\"1\" class=\"dataframe\">\n",
       "  <thead>\n",
       "    <tr style=\"text-align: right;\">\n",
       "      <th></th>\n",
       "      <th>Number of Evictions Faced</th>\n",
       "      <th>Walked</th>\n",
       "      <th>Ejected</th>\n",
       "      <th>Finalist</th>\n",
       "      <th>Winner</th>\n",
       "    </tr>\n",
       "  </thead>\n",
       "  <tbody>\n",
       "    <tr>\n",
       "      <th>Number of Evictions Faced</th>\n",
       "      <td>1.000000</td>\n",
       "      <td>-0.048301</td>\n",
       "      <td>-0.045399</td>\n",
       "      <td>0.553624</td>\n",
       "      <td>0.237676</td>\n",
       "    </tr>\n",
       "    <tr>\n",
       "      <th>Walked</th>\n",
       "      <td>-0.048301</td>\n",
       "      <td>1.000000</td>\n",
       "      <td>-0.003327</td>\n",
       "      <td>-0.037586</td>\n",
       "      <td>-0.017541</td>\n",
       "    </tr>\n",
       "    <tr>\n",
       "      <th>Ejected</th>\n",
       "      <td>-0.045399</td>\n",
       "      <td>-0.003327</td>\n",
       "      <td>1.000000</td>\n",
       "      <td>-0.065405</td>\n",
       "      <td>-0.047561</td>\n",
       "    </tr>\n",
       "    <tr>\n",
       "      <th>Finalist</th>\n",
       "      <td>0.553624</td>\n",
       "      <td>-0.037586</td>\n",
       "      <td>-0.065405</td>\n",
       "      <td>1.000000</td>\n",
       "      <td>0.396823</td>\n",
       "    </tr>\n",
       "    <tr>\n",
       "      <th>Winner</th>\n",
       "      <td>0.237676</td>\n",
       "      <td>-0.017541</td>\n",
       "      <td>-0.047561</td>\n",
       "      <td>0.396823</td>\n",
       "      <td>1.000000</td>\n",
       "    </tr>\n",
       "  </tbody>\n",
       "</table>\n",
       "</div>"
      ],
      "text/plain": [
       "                           Number of Evictions Faced    Walked   Ejected  \\\n",
       "Number of Evictions Faced                   1.000000 -0.048301 -0.045399   \n",
       "Walked                                     -0.048301  1.000000 -0.003327   \n",
       "Ejected                                    -0.045399 -0.003327  1.000000   \n",
       "Finalist                                    0.553624 -0.037586 -0.065405   \n",
       "Winner                                      0.237676 -0.017541 -0.047561   \n",
       "\n",
       "                           Finalist    Winner  \n",
       "Number of Evictions Faced  0.553624  0.237676  \n",
       "Walked                    -0.037586 -0.017541  \n",
       "Ejected                   -0.065405 -0.047561  \n",
       "Finalist                   1.000000  0.396823  \n",
       "Winner                     0.396823  1.000000  "
      ]
     },
     "execution_count": 19,
     "metadata": {},
     "output_type": "execute_result"
    }
   ],
   "source": [
    "# numer=df.select_dtypes(exclude='object')\n",
    "corr=df_cleaned.corr(numeric_only=True)\n",
    "corr\n"
   ]
  },
  {
   "cell_type": "code",
   "execution_count": 20,
   "metadata": {},
   "outputs": [
    {
     "data": {
      "image/png": "[encoded data removed]",
      "text/plain": [
       "<Figure size 640x480 with 2 Axes>"
      ]
     },
     "metadata": {},
     "output_type": "display_data"
    }
   ],
   "source": [
    "plt.Figure(figsize=(12,6))\n",
    "sns.heatmap(corr,annot=True)\n",
    "plt.show()"
   ]
  },
  {
   "cell_type": "code",
   "execution_count": 21,
   "metadata": {},
   "outputs": [],
   "source": [
    "df_cleaned.drop(df[['Walked','Ejected']],axis=1,inplace=True)"
   ]
  },
  {
   "cell_type": "code",
   "execution_count": 22,
   "metadata": {},
   "outputs": [
    {
     "data": {
      "text/plain": [
       "(14928, 12)"
      ]
     },
     "execution_count": 22,
     "metadata": {},
     "output_type": "execute_result"
    }
   ],
   "source": [
    "df_cleaned.shape"
   ]
  },
  {
   "cell_type": "code",
   "execution_count": 23,
   "metadata": {},
   "outputs": [
    {
     "data": {
      "text/plain": [
       "Language                      object\n",
       "Name                          object\n",
       "Profession                    object\n",
       "Gender                        object\n",
       "Age                           object\n",
       "Wild Card                     object\n",
       "Most Viewed States            object\n",
       "House Location                object\n",
       "OTT Season                    object\n",
       "Number of Evictions Faced      int64\n",
       "Finalist                     float64\n",
       "Winner                         int64\n",
       "dtype: object"
      ]
     },
     "execution_count": 23,
     "metadata": {},
     "output_type": "execute_result"
    }
   ],
   "source": [
    "df_cleaned.dtypes"
   ]
  },
  {
   "cell_type": "code",
   "execution_count": 24,
   "metadata": {},
   "outputs": [],
   "source": [
    "numer=df.select_dtypes(exclude='int')"
   ]
  },
  {
   "cell_type": "code",
   "execution_count": 25,
   "metadata": {},
   "outputs": [
    {
     "data": {
      "text/plain": [
       "Gender\n",
       "Female         7566\n",
       "Male           7197\n",
       "Transgender     144\n",
       "Pair             21\n",
       "Name: count, dtype: int64"
      ]
     },
     "execution_count": 25,
     "metadata": {},
     "output_type": "execute_result"
    }
   ],
   "source": [
    "a=df_cleaned['Gender'].value_counts()\n",
    "a"
   ]
  },
  {
   "cell_type": "code",
   "execution_count": 26,
   "metadata": {},
   "outputs": [
    {
     "data": {
      "text/plain": [
       "Text(0.5, 1.0, 'Distribution of Gender')"
      ]
     },
     "execution_count": 26,
     "metadata": {},
     "output_type": "execute_result"
    },
    {
     "data": {
      "image/png": "[encoded data removed]",
      "text/plain": [
       "<Figure size 640x480 with 1 Axes>"
      ]
     },
     "metadata": {},
     "output_type": "display_data"
    }
   ],
   "source": [
    "plt.pie(a.values,labels=a.index,autopct='%1.1f%%')\n",
    "plt.legend(loc=\"upper right\")\n",
    "plt.tight_layout()\n",
    "plt.title(\"Distribution of Gender\")"
   ]
  },
  {
   "cell_type": "code",
   "execution_count": 27,
   "metadata": {},
   "outputs": [],
   "source": [
    "df_cleaned.drop(df_cleaned.index[(df_cleaned['Gender']=='Transgender')],axis=0,inplace=True)\n",
    "df_cleaned.drop(df_cleaned.index[(df_cleaned['Gender']=='Pair')],axis=0,inplace=True)\n"
   ]
  },
  {
   "cell_type": "code",
   "execution_count": 28,
   "metadata": {},
   "outputs": [
    {
     "data": {
      "text/plain": [
       "(14763, 12)"
      ]
     },
     "execution_count": 28,
     "metadata": {},
     "output_type": "execute_result"
    }
   ],
   "source": [
    "df_cleaned.reset_index(drop=True,inplace=True)\n",
    "df_cleaned.shape"
   ]
  },
  {
   "cell_type": "code",
   "execution_count": 29,
   "metadata": {},
   "outputs": [
    {
     "data": {
      "text/plain": [
       "Age\n",
       "Middle    7597\n",
       "Young     6211\n",
       "Old        955\n",
       "Name: count, dtype: int64"
      ]
     },
     "execution_count": 29,
     "metadata": {},
     "output_type": "execute_result"
    }
   ],
   "source": [
    "b=df_cleaned[\"Age\"].value_counts()\n",
    "b"
   ]
  },
  {
   "cell_type": "code",
   "execution_count": 30,
   "metadata": {},
   "outputs": [
    {
     "data": {
      "text/plain": [
       "Text(0.5, 1.0, 'Age-Count graph')"
      ]
     },
     "execution_count": 30,
     "metadata": {},
     "output_type": "execute_result"
    },
    {
     "data": {
      "image/png": "[encoded data removed]",
      "text/plain": [
       "<Figure size 640x480 with 1 Axes>"
      ]
     },
     "metadata": {},
     "output_type": "display_data"
    }
   ],
   "source": [
    "plt.bar(b.index,b.values)\n",
    "plt.xlabel(\"Age\")\n",
    "plt.ylabel(\"count\")\n",
    "plt.title(\"Age-Count graph\")"
   ]
  },
  {
   "cell_type": "code",
   "execution_count": 31,
   "metadata": {},
   "outputs": [
    {
     "data": {
      "text/plain": [
       "Wild Card\n",
       "No     12460\n",
       "Yes     2303\n",
       "Name: count, dtype: int64"
      ]
     },
     "execution_count": 31,
     "metadata": {},
     "output_type": "execute_result"
    }
   ],
   "source": [
    "df_cleaned['Wild Card'].value_counts()"
   ]
  },
  {
   "cell_type": "code",
   "execution_count": 32,
   "metadata": {},
   "outputs": [
    {
     "data": {
      "text/plain": [
       "Language                      object\n",
       "Name                          object\n",
       "Profession                    object\n",
       "Gender                        object\n",
       "Age                           object\n",
       "Wild Card                     object\n",
       "Most Viewed States            object\n",
       "House Location                object\n",
       "OTT Season                    object\n",
       "Number of Evictions Faced      int64\n",
       "Finalist                     float64\n",
       "Winner                         int64\n",
       "dtype: object"
      ]
     },
     "execution_count": 32,
     "metadata": {},
     "output_type": "execute_result"
    }
   ],
   "source": [
    "df_cleaned.dtypes"
   ]
  },
  {
   "cell_type": "code",
   "execution_count": 33,
   "metadata": {},
   "outputs": [
    {
     "data": {
      "text/plain": [
       "Most Viewed States\n",
       "Maharashtra, Bihar, Delhi, Haryana, Jharkhand, Madhya Pradesh, Rajasthan, Uttarakhand, Uttar Pradesh    4884\n",
       "Karnataka                                                                                               2711\n",
       "Tamil Nadu                                                                                              2196\n",
       "Telangana, Andhra Pradesh                                                                               2120\n",
       "Kerala                                                                                                  1553\n",
       "Maharashtra                                                                                             1125\n",
       "West Bengal                                                                                              411\n",
       "Name: count, dtype: int64"
      ]
     },
     "execution_count": 33,
     "metadata": {},
     "output_type": "execute_result"
    }
   ],
   "source": [
    "s=df['Most Viewed States'].value_counts()\n",
    "s"
   ]
  },
  {
   "cell_type": "code",
   "execution_count": 34,
   "metadata": {},
   "outputs": [
    {
     "data": {
      "text/plain": [
       "Text(0.5, 1.0, 'State-Count graph')"
      ]
     },
     "execution_count": 34,
     "metadata": {},
     "output_type": "execute_result"
    },
    {
     "data": {
      "image/png": "[encoded data removed]",
      "text/plain": [
       "<Figure size 640x480 with 1 Axes>"
      ]
     },
     "metadata": {},
     "output_type": "display_data"
    }
   ],
   "source": [
    "plt.barh(s.index,s.values)\n",
    "plt.xlabel(\"Most viewed state\")\n",
    "plt.ylabel(\"Count\")\n",
    "plt.title(\"State-Count graph\")\n"
   ]
  },
  {
   "cell_type": "code",
   "execution_count": 35,
   "metadata": {},
   "outputs": [
    {
     "data": {
      "text/plain": [
       "House Location\n",
       "Lonavala     3923\n",
       "Mumbai       3531\n",
       "Chennai      3000\n",
       "Bengaluru    2379\n",
       "Hyderabad    1936\n",
       "Karjat        231\n",
       "Name: count, dtype: int64"
      ]
     },
     "execution_count": 35,
     "metadata": {},
     "output_type": "execute_result"
    }
   ],
   "source": [
    "t=df['House Location'].value_counts()\n",
    "t"
   ]
  },
  {
   "cell_type": "code",
   "execution_count": 36,
   "metadata": {},
   "outputs": [
    {
     "data": {
      "text/plain": [
       "Text(0.5, 1.0, 'Distribution of House Location')"
      ]
     },
     "execution_count": 36,
     "metadata": {},
     "output_type": "execute_result"
    },
    {
     "data": {
      "image/png": "[encoded data removed]",
      "text/plain": [
       "<Figure size 640x480 with 1 Axes>"
      ]
     },
     "metadata": {},
     "output_type": "display_data"
    }
   ],
   "source": [
    "plt.pie(t.values,labels=t.index,autopct='%1.1f%%')\n",
    "plt.legend(loc=\"upper right\")\n",
    "plt.tight_layout()\n",
    "plt.title(\"Distribution of House Location\")"
   ]
  },
  {
   "cell_type": "code",
   "execution_count": 37,
   "metadata": {},
   "outputs": [
    {
     "data": {
      "text/plain": [
       "OTT Season\n",
       "No     13816\n",
       "Yes     1184\n",
       "Name: count, dtype: int64"
      ]
     },
     "execution_count": 37,
     "metadata": {},
     "output_type": "execute_result"
    }
   ],
   "source": [
    "df['OTT Season'].value_counts()"
   ]
  },
  {
   "cell_type": "code",
   "execution_count": 38,
   "metadata": {},
   "outputs": [
    {
     "data": {
      "text/plain": [
       "(14763, 12)"
      ]
     },
     "execution_count": 38,
     "metadata": {},
     "output_type": "execute_result"
    }
   ],
   "source": [
    "df_cleaned.shape"
   ]
  },
  {
   "cell_type": "code",
   "execution_count": 39,
   "metadata": {},
   "outputs": [
    {
     "data": {
      "text/plain": [
       "Index(['Language', 'Name', 'Profession', 'Gender', 'Age', 'Wild Card',\n",
       "       'Most Viewed States', 'House Location', 'OTT Season',\n",
       "       'Number of Evictions Faced', 'Finalist', 'Winner'],\n",
       "      dtype='object')"
      ]
     },
     "execution_count": 39,
     "metadata": {},
     "output_type": "execute_result"
    }
   ],
   "source": [
    "df_cleaned.columns"
   ]
  },
  {
   "cell_type": "code",
   "execution_count": 40,
   "metadata": {},
   "outputs": [],
   "source": [
    "lab=LabelEncoder()\n",
    "df_cleaned[\"Gender\"]=lab.fit_transform(df_cleaned[\"Gender\"])\n",
    "df_cleaned[\"Wild Card\"]=lab.fit_transform(df_cleaned[\"Wild Card\"])\n",
    "df_cleaned[\"Language\"]=lab.fit_transform(df_cleaned[\"Language\"])\n",
    "df_cleaned[\"Profession\"]=lab.fit_transform(df_cleaned[\"Profession\"])\n",
    "df_cleaned[\"Most Viewed States\"]=lab.fit_transform(df_cleaned[\"Most Viewed States\"])\n",
    "df_cleaned[\"House Location\"]=lab.fit_transform(df_cleaned[\"House Location\"])\n",
    "df_cleaned[\"OTT Season\"]=lab.fit_transform(df_cleaned[\"OTT Season\"])\n",
    "df_cleaned.drop(\"Name\",axis=1,inplace=True)\n",
    "\n",
    "\n",
    "age_mapping = {\"Young\": 0, \"Middle\": 1, \"Old\": 2}\n",
    "df_cleaned[\"Age\"] = df_cleaned[\"Age\"].map(age_mapping)\n",
    "\n",
    "\n"
   ]
  },
  {
   "cell_type": "code",
   "execution_count": 41,
   "metadata": {},
   "outputs": [
    {
     "data": {
      "text/plain": [
       "Language                       int64\n",
       "Profession                     int64\n",
       "Gender                         int64\n",
       "Age                            int64\n",
       "Wild Card                      int64\n",
       "Most Viewed States             int64\n",
       "House Location                 int64\n",
       "OTT Season                     int64\n",
       "Number of Evictions Faced      int64\n",
       "Finalist                     float64\n",
       "Winner                         int64\n",
       "dtype: object"
      ]
     },
     "execution_count": 41,
     "metadata": {},
     "output_type": "execute_result"
    }
   ],
   "source": [
    "df_cleaned.dtypes"
   ]
  },
  {
   "cell_type": "code",
   "execution_count": 42,
   "metadata": {},
   "outputs": [
    {
     "data": {
      "text/plain": [
       "Index(['Language', 'Profession', 'Gender', 'Age', 'Wild Card',\n",
       "       'Most Viewed States', 'House Location', 'OTT Season',\n",
       "       'Number of Evictions Faced', 'Finalist', 'Winner'],\n",
       "      dtype='object')"
      ]
     },
     "execution_count": 42,
     "metadata": {},
     "output_type": "execute_result"
    }
   ],
   "source": [
    "df_cleaned.columns"
   ]
  },
  {
   "cell_type": "code",
   "execution_count": 43,
   "metadata": {},
   "outputs": [
    {
     "data": {
      "text/html": [
       "<div>\n",
       "<style scoped>\n",
       "    .dataframe tbody tr th:only-of-type {\n",
       "        vertical-align: middle;\n",
       "    }\n",
       "\n",
       "    .dataframe tbody tr th {\n",
       "        vertical-align: top;\n",
       "    }\n",
       "\n",
       "    .dataframe thead th {\n",
       "        text-align: right;\n",
       "    }\n",
       "</style>\n",
       "<table border=\"1\" class=\"dataframe\">\n",
       "  <thead>\n",
       "    <tr style=\"text-align: right;\">\n",
       "      <th></th>\n",
       "      <th>Language</th>\n",
       "      <th>Profession</th>\n",
       "      <th>Gender</th>\n",
       "      <th>Age</th>\n",
       "      <th>Wild Card</th>\n",
       "      <th>Most Viewed States</th>\n",
       "      <th>House Location</th>\n",
       "      <th>OTT Season</th>\n",
       "      <th>Number of Evictions Faced</th>\n",
       "      <th>Finalist</th>\n",
       "      <th>Winner</th>\n",
       "    </tr>\n",
       "  </thead>\n",
       "  <tbody>\n",
       "    <tr>\n",
       "      <th>0</th>\n",
       "      <td>1</td>\n",
       "      <td>75</td>\n",
       "      <td>1</td>\n",
       "      <td>0</td>\n",
       "      <td>0</td>\n",
       "      <td>3</td>\n",
       "      <td>4</td>\n",
       "      <td>0</td>\n",
       "      <td>2</td>\n",
       "      <td>0.0</td>\n",
       "      <td>0</td>\n",
       "    </tr>\n",
       "    <tr>\n",
       "      <th>1</th>\n",
       "      <td>1</td>\n",
       "      <td>60</td>\n",
       "      <td>0</td>\n",
       "      <td>0</td>\n",
       "      <td>0</td>\n",
       "      <td>3</td>\n",
       "      <td>4</td>\n",
       "      <td>0</td>\n",
       "      <td>1</td>\n",
       "      <td>0.0</td>\n",
       "      <td>0</td>\n",
       "    </tr>\n",
       "    <tr>\n",
       "      <th>2</th>\n",
       "      <td>1</td>\n",
       "      <td>64</td>\n",
       "      <td>1</td>\n",
       "      <td>1</td>\n",
       "      <td>0</td>\n",
       "      <td>3</td>\n",
       "      <td>4</td>\n",
       "      <td>0</td>\n",
       "      <td>1</td>\n",
       "      <td>0.0</td>\n",
       "      <td>0</td>\n",
       "    </tr>\n",
       "    <tr>\n",
       "      <th>3</th>\n",
       "      <td>1</td>\n",
       "      <td>60</td>\n",
       "      <td>0</td>\n",
       "      <td>0</td>\n",
       "      <td>0</td>\n",
       "      <td>3</td>\n",
       "      <td>4</td>\n",
       "      <td>0</td>\n",
       "      <td>5</td>\n",
       "      <td>1.0</td>\n",
       "      <td>0</td>\n",
       "    </tr>\n",
       "    <tr>\n",
       "      <th>4</th>\n",
       "      <td>1</td>\n",
       "      <td>1</td>\n",
       "      <td>1</td>\n",
       "      <td>2</td>\n",
       "      <td>0</td>\n",
       "      <td>3</td>\n",
       "      <td>4</td>\n",
       "      <td>0</td>\n",
       "      <td>2</td>\n",
       "      <td>0.0</td>\n",
       "      <td>0</td>\n",
       "    </tr>\n",
       "    <tr>\n",
       "      <th>...</th>\n",
       "      <td>...</td>\n",
       "      <td>...</td>\n",
       "      <td>...</td>\n",
       "      <td>...</td>\n",
       "      <td>...</td>\n",
       "      <td>...</td>\n",
       "      <td>...</td>\n",
       "      <td>...</td>\n",
       "      <td>...</td>\n",
       "      <td>...</td>\n",
       "      <td>...</td>\n",
       "    </tr>\n",
       "    <tr>\n",
       "      <th>14758</th>\n",
       "      <td>1</td>\n",
       "      <td>76</td>\n",
       "      <td>0</td>\n",
       "      <td>1</td>\n",
       "      <td>0</td>\n",
       "      <td>3</td>\n",
       "      <td>5</td>\n",
       "      <td>0</td>\n",
       "      <td>11</td>\n",
       "      <td>0.0</td>\n",
       "      <td>0</td>\n",
       "    </tr>\n",
       "    <tr>\n",
       "      <th>14759</th>\n",
       "      <td>0</td>\n",
       "      <td>2</td>\n",
       "      <td>0</td>\n",
       "      <td>0</td>\n",
       "      <td>0</td>\n",
       "      <td>6</td>\n",
       "      <td>4</td>\n",
       "      <td>0</td>\n",
       "      <td>1</td>\n",
       "      <td>0.0</td>\n",
       "      <td>0</td>\n",
       "    </tr>\n",
       "    <tr>\n",
       "      <th>14760</th>\n",
       "      <td>5</td>\n",
       "      <td>13</td>\n",
       "      <td>1</td>\n",
       "      <td>1</td>\n",
       "      <td>0</td>\n",
       "      <td>4</td>\n",
       "      <td>1</td>\n",
       "      <td>0</td>\n",
       "      <td>5</td>\n",
       "      <td>0.0</td>\n",
       "      <td>0</td>\n",
       "    </tr>\n",
       "    <tr>\n",
       "      <th>14761</th>\n",
       "      <td>1</td>\n",
       "      <td>1</td>\n",
       "      <td>1</td>\n",
       "      <td>1</td>\n",
       "      <td>0</td>\n",
       "      <td>3</td>\n",
       "      <td>5</td>\n",
       "      <td>0</td>\n",
       "      <td>11</td>\n",
       "      <td>0.0</td>\n",
       "      <td>0</td>\n",
       "    </tr>\n",
       "    <tr>\n",
       "      <th>14762</th>\n",
       "      <td>1</td>\n",
       "      <td>62</td>\n",
       "      <td>0</td>\n",
       "      <td>0</td>\n",
       "      <td>0</td>\n",
       "      <td>3</td>\n",
       "      <td>5</td>\n",
       "      <td>0</td>\n",
       "      <td>5</td>\n",
       "      <td>0.0</td>\n",
       "      <td>0</td>\n",
       "    </tr>\n",
       "  </tbody>\n",
       "</table>\n",
       "<p>14763 rows × 11 columns</p>\n",
       "</div>"
      ],
      "text/plain": [
       "       Language  Profession  Gender  Age  Wild Card  Most Viewed States  \\\n",
       "0             1          75       1    0          0                   3   \n",
       "1             1          60       0    0          0                   3   \n",
       "2             1          64       1    1          0                   3   \n",
       "3             1          60       0    0          0                   3   \n",
       "4             1           1       1    2          0                   3   \n",
       "...         ...         ...     ...  ...        ...                 ...   \n",
       "14758         1          76       0    1          0                   3   \n",
       "14759         0           2       0    0          0                   6   \n",
       "14760         5          13       1    1          0                   4   \n",
       "14761         1           1       1    1          0                   3   \n",
       "14762         1          62       0    0          0                   3   \n",
       "\n",
       "       House Location  OTT Season  Number of Evictions Faced  Finalist  Winner  \n",
       "0                   4           0                          2       0.0       0  \n",
       "1                   4           0                          1       0.0       0  \n",
       "2                   4           0                          1       0.0       0  \n",
       "3                   4           0                          5       1.0       0  \n",
       "4                   4           0                          2       0.0       0  \n",
       "...               ...         ...                        ...       ...     ...  \n",
       "14758               5           0                         11       0.0       0  \n",
       "14759               4           0                          1       0.0       0  \n",
       "14760               1           0                          5       0.0       0  \n",
       "14761               5           0                         11       0.0       0  \n",
       "14762               5           0                          5       0.0       0  \n",
       "\n",
       "[14763 rows x 11 columns]"
      ]
     },
     "execution_count": 43,
     "metadata": {},
     "output_type": "execute_result"
    }
   ],
   "source": [
    "df_cleaned"
   ]
  },
  {
   "cell_type": "code",
   "execution_count": 44,
   "metadata": {},
   "outputs": [],
   "source": [
    "df_cleaned.drop('Language',axis=1,inplace=True)"
   ]
  },
  {
   "cell_type": "code",
   "execution_count": 45,
   "metadata": {},
   "outputs": [
    {
     "data": {
      "text/plain": [
       "Text(0.5, 1.0, 'Distribution of Winners and Non-Winners')"
      ]
     },
     "execution_count": 45,
     "metadata": {},
     "output_type": "execute_result"
    },
    {
     "data": {
      "image/png": "[encoded data removed]",
      "text/plain": [
       "<Figure size 640x480 with 1 Axes>"
      ]
     },
     "metadata": {},
     "output_type": "display_data"
    }
   ],
   "source": [
    "sns.countplot(x='Winner', data=df_cleaned)\n",
    "plt.title('Distribution of Winners and Non-Winners')\n"
   ]
  },
  {
   "cell_type": "code",
   "execution_count": 46,
   "metadata": {},
   "outputs": [
    {
     "data": {
      "text/plain": [
       "Profession                     int64\n",
       "Gender                         int64\n",
       "Age                            int64\n",
       "Wild Card                      int64\n",
       "Most Viewed States             int64\n",
       "House Location                 int64\n",
       "OTT Season                     int64\n",
       "Number of Evictions Faced      int64\n",
       "Finalist                     float64\n",
       "Winner                         int64\n",
       "dtype: object"
      ]
     },
     "execution_count": 46,
     "metadata": {},
     "output_type": "execute_result"
    }
   ],
   "source": [
    "z=df_cleaned.dtypes\n",
    "z"
   ]
  },
  {
   "cell_type": "code",
   "execution_count": 47,
   "metadata": {},
   "outputs": [
    {
     "data": {
      "text/html": [
       "<div>\n",
       "<style scoped>\n",
       "    .dataframe tbody tr th:only-of-type {\n",
       "        vertical-align: middle;\n",
       "    }\n",
       "\n",
       "    .dataframe tbody tr th {\n",
       "        vertical-align: top;\n",
       "    }\n",
       "\n",
       "    .dataframe thead th {\n",
       "        text-align: right;\n",
       "    }\n",
       "</style>\n",
       "<table border=\"1\" class=\"dataframe\">\n",
       "  <thead>\n",
       "    <tr style=\"text-align: right;\">\n",
       "      <th></th>\n",
       "      <th>Profession</th>\n",
       "      <th>Gender</th>\n",
       "      <th>Age</th>\n",
       "      <th>Wild Card</th>\n",
       "      <th>Most Viewed States</th>\n",
       "      <th>House Location</th>\n",
       "      <th>OTT Season</th>\n",
       "      <th>Number of Evictions Faced</th>\n",
       "      <th>Finalist</th>\n",
       "    </tr>\n",
       "  </thead>\n",
       "  <tbody>\n",
       "    <tr>\n",
       "      <th>0</th>\n",
       "      <td>75</td>\n",
       "      <td>1</td>\n",
       "      <td>0</td>\n",
       "      <td>0</td>\n",
       "      <td>3</td>\n",
       "      <td>4</td>\n",
       "      <td>0</td>\n",
       "      <td>2</td>\n",
       "      <td>0.0</td>\n",
       "    </tr>\n",
       "    <tr>\n",
       "      <th>1</th>\n",
       "      <td>60</td>\n",
       "      <td>0</td>\n",
       "      <td>0</td>\n",
       "      <td>0</td>\n",
       "      <td>3</td>\n",
       "      <td>4</td>\n",
       "      <td>0</td>\n",
       "      <td>1</td>\n",
       "      <td>0.0</td>\n",
       "    </tr>\n",
       "    <tr>\n",
       "      <th>2</th>\n",
       "      <td>64</td>\n",
       "      <td>1</td>\n",
       "      <td>1</td>\n",
       "      <td>0</td>\n",
       "      <td>3</td>\n",
       "      <td>4</td>\n",
       "      <td>0</td>\n",
       "      <td>1</td>\n",
       "      <td>0.0</td>\n",
       "    </tr>\n",
       "    <tr>\n",
       "      <th>3</th>\n",
       "      <td>60</td>\n",
       "      <td>0</td>\n",
       "      <td>0</td>\n",
       "      <td>0</td>\n",
       "      <td>3</td>\n",
       "      <td>4</td>\n",
       "      <td>0</td>\n",
       "      <td>5</td>\n",
       "      <td>1.0</td>\n",
       "    </tr>\n",
       "    <tr>\n",
       "      <th>4</th>\n",
       "      <td>1</td>\n",
       "      <td>1</td>\n",
       "      <td>2</td>\n",
       "      <td>0</td>\n",
       "      <td>3</td>\n",
       "      <td>4</td>\n",
       "      <td>0</td>\n",
       "      <td>2</td>\n",
       "      <td>0.0</td>\n",
       "    </tr>\n",
       "    <tr>\n",
       "      <th>...</th>\n",
       "      <td>...</td>\n",
       "      <td>...</td>\n",
       "      <td>...</td>\n",
       "      <td>...</td>\n",
       "      <td>...</td>\n",
       "      <td>...</td>\n",
       "      <td>...</td>\n",
       "      <td>...</td>\n",
       "      <td>...</td>\n",
       "    </tr>\n",
       "    <tr>\n",
       "      <th>14758</th>\n",
       "      <td>76</td>\n",
       "      <td>0</td>\n",
       "      <td>1</td>\n",
       "      <td>0</td>\n",
       "      <td>3</td>\n",
       "      <td>5</td>\n",
       "      <td>0</td>\n",
       "      <td>11</td>\n",
       "      <td>0.0</td>\n",
       "    </tr>\n",
       "    <tr>\n",
       "      <th>14759</th>\n",
       "      <td>2</td>\n",
       "      <td>0</td>\n",
       "      <td>0</td>\n",
       "      <td>0</td>\n",
       "      <td>6</td>\n",
       "      <td>4</td>\n",
       "      <td>0</td>\n",
       "      <td>1</td>\n",
       "      <td>0.0</td>\n",
       "    </tr>\n",
       "    <tr>\n",
       "      <th>14760</th>\n",
       "      <td>13</td>\n",
       "      <td>1</td>\n",
       "      <td>1</td>\n",
       "      <td>0</td>\n",
       "      <td>4</td>\n",
       "      <td>1</td>\n",
       "      <td>0</td>\n",
       "      <td>5</td>\n",
       "      <td>0.0</td>\n",
       "    </tr>\n",
       "    <tr>\n",
       "      <th>14761</th>\n",
       "      <td>1</td>\n",
       "      <td>1</td>\n",
       "      <td>1</td>\n",
       "      <td>0</td>\n",
       "      <td>3</td>\n",
       "      <td>5</td>\n",
       "      <td>0</td>\n",
       "      <td>11</td>\n",
       "      <td>0.0</td>\n",
       "    </tr>\n",
       "    <tr>\n",
       "      <th>14762</th>\n",
       "      <td>62</td>\n",
       "      <td>0</td>\n",
       "      <td>0</td>\n",
       "      <td>0</td>\n",
       "      <td>3</td>\n",
       "      <td>5</td>\n",
       "      <td>0</td>\n",
       "      <td>5</td>\n",
       "      <td>0.0</td>\n",
       "    </tr>\n",
       "  </tbody>\n",
       "</table>\n",
       "<p>14763 rows × 9 columns</p>\n",
       "</div>"
      ],
      "text/plain": [
       "       Profession  Gender  Age  Wild Card  Most Viewed States  House Location  \\\n",
       "0              75       1    0          0                   3               4   \n",
       "1              60       0    0          0                   3               4   \n",
       "2              64       1    1          0                   3               4   \n",
       "3              60       0    0          0                   3               4   \n",
       "4               1       1    2          0                   3               4   \n",
       "...           ...     ...  ...        ...                 ...             ...   \n",
       "14758          76       0    1          0                   3               5   \n",
       "14759           2       0    0          0                   6               4   \n",
       "14760          13       1    1          0                   4               1   \n",
       "14761           1       1    1          0                   3               5   \n",
       "14762          62       0    0          0                   3               5   \n",
       "\n",
       "       OTT Season  Number of Evictions Faced  Finalist  \n",
       "0               0                          2       0.0  \n",
       "1               0                          1       0.0  \n",
       "2               0                          1       0.0  \n",
       "3               0                          5       1.0  \n",
       "4               0                          2       0.0  \n",
       "...           ...                        ...       ...  \n",
       "14758           0                         11       0.0  \n",
       "14759           0                          1       0.0  \n",
       "14760           0                          5       0.0  \n",
       "14761           0                         11       0.0  \n",
       "14762           0                          5       0.0  \n",
       "\n",
       "[14763 rows x 9 columns]"
      ]
     },
     "execution_count": 47,
     "metadata": {},
     "output_type": "execute_result"
    }
   ],
   "source": [
    "x=df_cleaned.iloc[:,:-1]\n",
    "x"
   ]
  },
  {
   "cell_type": "code",
   "execution_count": 48,
   "metadata": {},
   "outputs": [
    {
     "data": {
      "text/plain": [
       "0        0\n",
       "1        0\n",
       "2        0\n",
       "3        0\n",
       "4        0\n",
       "        ..\n",
       "14758    0\n",
       "14759    0\n",
       "14760    0\n",
       "14761    0\n",
       "14762    0\n",
       "Name: Winner, Length: 14763, dtype: int64"
      ]
     },
     "execution_count": 48,
     "metadata": {},
     "output_type": "execute_result"
    }
   ],
   "source": [
    "y=df_cleaned.iloc[:,-1]\n",
    "y"
   ]
  },
  {
   "cell_type": "code",
   "execution_count": 49,
   "metadata": {},
   "outputs": [
    {
     "data": {
      "text/plain": [
       "(14763, 10)"
      ]
     },
     "execution_count": 49,
     "metadata": {},
     "output_type": "execute_result"
    }
   ],
   "source": [
    "df_cleaned.shape"
   ]
  },
  {
   "cell_type": "code",
   "execution_count": 50,
   "metadata": {},
   "outputs": [
    {
     "data": {
      "text/html": [
       "<div>\n",
       "<style scoped>\n",
       "    .dataframe tbody tr th:only-of-type {\n",
       "        vertical-align: middle;\n",
       "    }\n",
       "\n",
       "    .dataframe tbody tr th {\n",
       "        vertical-align: top;\n",
       "    }\n",
       "\n",
       "    .dataframe thead th {\n",
       "        text-align: right;\n",
       "    }\n",
       "</style>\n",
       "<table border=\"1\" class=\"dataframe\">\n",
       "  <thead>\n",
       "    <tr style=\"text-align: right;\">\n",
       "      <th></th>\n",
       "      <th>Profession</th>\n",
       "      <th>Gender</th>\n",
       "      <th>Age</th>\n",
       "      <th>Wild Card</th>\n",
       "      <th>Most Viewed States</th>\n",
       "      <th>House Location</th>\n",
       "      <th>OTT Season</th>\n",
       "      <th>Number of Evictions Faced</th>\n",
       "      <th>Finalist</th>\n",
       "    </tr>\n",
       "  </thead>\n",
       "  <tbody>\n",
       "    <tr>\n",
       "      <th>4442</th>\n",
       "      <td>0</td>\n",
       "      <td>0</td>\n",
       "      <td>0</td>\n",
       "      <td>0</td>\n",
       "      <td>1</td>\n",
       "      <td>4</td>\n",
       "      <td>0</td>\n",
       "      <td>2</td>\n",
       "      <td>0.0</td>\n",
       "    </tr>\n",
       "    <tr>\n",
       "      <th>2840</th>\n",
       "      <td>77</td>\n",
       "      <td>0</td>\n",
       "      <td>0</td>\n",
       "      <td>0</td>\n",
       "      <td>3</td>\n",
       "      <td>5</td>\n",
       "      <td>0</td>\n",
       "      <td>1</td>\n",
       "      <td>0.0</td>\n",
       "    </tr>\n",
       "    <tr>\n",
       "      <th>12727</th>\n",
       "      <td>1</td>\n",
       "      <td>1</td>\n",
       "      <td>1</td>\n",
       "      <td>0</td>\n",
       "      <td>5</td>\n",
       "      <td>2</td>\n",
       "      <td>1</td>\n",
       "      <td>4</td>\n",
       "      <td>0.0</td>\n",
       "    </tr>\n",
       "    <tr>\n",
       "      <th>7862</th>\n",
       "      <td>73</td>\n",
       "      <td>1</td>\n",
       "      <td>1</td>\n",
       "      <td>0</td>\n",
       "      <td>5</td>\n",
       "      <td>2</td>\n",
       "      <td>0</td>\n",
       "      <td>4</td>\n",
       "      <td>0.0</td>\n",
       "    </tr>\n",
       "    <tr>\n",
       "      <th>9529</th>\n",
       "      <td>0</td>\n",
       "      <td>1</td>\n",
       "      <td>2</td>\n",
       "      <td>0</td>\n",
       "      <td>1</td>\n",
       "      <td>1</td>\n",
       "      <td>0</td>\n",
       "      <td>6</td>\n",
       "      <td>0.0</td>\n",
       "    </tr>\n",
       "    <tr>\n",
       "      <th>...</th>\n",
       "      <td>...</td>\n",
       "      <td>...</td>\n",
       "      <td>...</td>\n",
       "      <td>...</td>\n",
       "      <td>...</td>\n",
       "      <td>...</td>\n",
       "      <td>...</td>\n",
       "      <td>...</td>\n",
       "      <td>...</td>\n",
       "    </tr>\n",
       "    <tr>\n",
       "      <th>5191</th>\n",
       "      <td>73</td>\n",
       "      <td>1</td>\n",
       "      <td>0</td>\n",
       "      <td>0</td>\n",
       "      <td>4</td>\n",
       "      <td>1</td>\n",
       "      <td>0</td>\n",
       "      <td>4</td>\n",
       "      <td>0.0</td>\n",
       "    </tr>\n",
       "    <tr>\n",
       "      <th>13418</th>\n",
       "      <td>73</td>\n",
       "      <td>0</td>\n",
       "      <td>0</td>\n",
       "      <td>0</td>\n",
       "      <td>0</td>\n",
       "      <td>0</td>\n",
       "      <td>0</td>\n",
       "      <td>3</td>\n",
       "      <td>0.0</td>\n",
       "    </tr>\n",
       "    <tr>\n",
       "      <th>5390</th>\n",
       "      <td>13</td>\n",
       "      <td>1</td>\n",
       "      <td>1</td>\n",
       "      <td>0</td>\n",
       "      <td>6</td>\n",
       "      <td>4</td>\n",
       "      <td>0</td>\n",
       "      <td>7</td>\n",
       "      <td>0.0</td>\n",
       "    </tr>\n",
       "    <tr>\n",
       "      <th>860</th>\n",
       "      <td>60</td>\n",
       "      <td>0</td>\n",
       "      <td>1</td>\n",
       "      <td>0</td>\n",
       "      <td>4</td>\n",
       "      <td>1</td>\n",
       "      <td>0</td>\n",
       "      <td>3</td>\n",
       "      <td>0.0</td>\n",
       "    </tr>\n",
       "    <tr>\n",
       "      <th>7270</th>\n",
       "      <td>77</td>\n",
       "      <td>1</td>\n",
       "      <td>1</td>\n",
       "      <td>0</td>\n",
       "      <td>3</td>\n",
       "      <td>5</td>\n",
       "      <td>0</td>\n",
       "      <td>2</td>\n",
       "      <td>0.0</td>\n",
       "    </tr>\n",
       "  </tbody>\n",
       "</table>\n",
       "<p>10334 rows × 9 columns</p>\n",
       "</div>"
      ],
      "text/plain": [
       "       Profession  Gender  Age  Wild Card  Most Viewed States  House Location  \\\n",
       "4442            0       0    0          0                   1               4   \n",
       "2840           77       0    0          0                   3               5   \n",
       "12727           1       1    1          0                   5               2   \n",
       "7862           73       1    1          0                   5               2   \n",
       "9529            0       1    2          0                   1               1   \n",
       "...           ...     ...  ...        ...                 ...             ...   \n",
       "5191           73       1    0          0                   4               1   \n",
       "13418          73       0    0          0                   0               0   \n",
       "5390           13       1    1          0                   6               4   \n",
       "860            60       0    1          0                   4               1   \n",
       "7270           77       1    1          0                   3               5   \n",
       "\n",
       "       OTT Season  Number of Evictions Faced  Finalist  \n",
       "4442            0                          2       0.0  \n",
       "2840            0                          1       0.0  \n",
       "12727           1                          4       0.0  \n",
       "7862            0                          4       0.0  \n",
       "9529            0                          6       0.0  \n",
       "...           ...                        ...       ...  \n",
       "5191            0                          4       0.0  \n",
       "13418           0                          3       0.0  \n",
       "5390            0                          7       0.0  \n",
       "860             0                          3       0.0  \n",
       "7270            0                          2       0.0  \n",
       "\n",
       "[10334 rows x 9 columns]"
      ]
     },
     "execution_count": 50,
     "metadata": {},
     "output_type": "execute_result"
    }
   ],
   "source": [
    "from sklearn.model_selection import train_test_split\n",
    "x_train,x_test,y_train,y_test=train_test_split(x,y,test_size=0.30,random_state=42)\n",
    "x_train"
   ]
  },
  {
   "cell_type": "code",
   "execution_count": 51,
   "metadata": {},
   "outputs": [
    {
     "data": {
      "text/html": [
       "<div>\n",
       "<style scoped>\n",
       "    .dataframe tbody tr th:only-of-type {\n",
       "        vertical-align: middle;\n",
       "    }\n",
       "\n",
       "    .dataframe tbody tr th {\n",
       "        vertical-align: top;\n",
       "    }\n",
       "\n",
       "    .dataframe thead th {\n",
       "        text-align: right;\n",
       "    }\n",
       "</style>\n",
       "<table border=\"1\" class=\"dataframe\">\n",
       "  <thead>\n",
       "    <tr style=\"text-align: right;\">\n",
       "      <th></th>\n",
       "      <th>Profession</th>\n",
       "      <th>Gender</th>\n",
       "      <th>Age</th>\n",
       "      <th>Wild Card</th>\n",
       "      <th>Most Viewed States</th>\n",
       "      <th>House Location</th>\n",
       "      <th>OTT Season</th>\n",
       "      <th>Number of Evictions Faced</th>\n",
       "      <th>Finalist</th>\n",
       "    </tr>\n",
       "  </thead>\n",
       "  <tbody>\n",
       "    <tr>\n",
       "      <th>1743</th>\n",
       "      <td>81</td>\n",
       "      <td>1</td>\n",
       "      <td>1</td>\n",
       "      <td>0</td>\n",
       "      <td>1</td>\n",
       "      <td>4</td>\n",
       "      <td>0</td>\n",
       "      <td>5</td>\n",
       "      <td>1.0</td>\n",
       "    </tr>\n",
       "    <tr>\n",
       "      <th>12414</th>\n",
       "      <td>2</td>\n",
       "      <td>0</td>\n",
       "      <td>0</td>\n",
       "      <td>0</td>\n",
       "      <td>3</td>\n",
       "      <td>3</td>\n",
       "      <td>0</td>\n",
       "      <td>4</td>\n",
       "      <td>0.0</td>\n",
       "    </tr>\n",
       "    <tr>\n",
       "      <th>1593</th>\n",
       "      <td>1</td>\n",
       "      <td>1</td>\n",
       "      <td>1</td>\n",
       "      <td>0</td>\n",
       "      <td>6</td>\n",
       "      <td>4</td>\n",
       "      <td>0</td>\n",
       "      <td>2</td>\n",
       "      <td>0.0</td>\n",
       "    </tr>\n",
       "    <tr>\n",
       "      <th>1858</th>\n",
       "      <td>84</td>\n",
       "      <td>1</td>\n",
       "      <td>1</td>\n",
       "      <td>1</td>\n",
       "      <td>3</td>\n",
       "      <td>4</td>\n",
       "      <td>0</td>\n",
       "      <td>4</td>\n",
       "      <td>1.0</td>\n",
       "    </tr>\n",
       "    <tr>\n",
       "      <th>13650</th>\n",
       "      <td>0</td>\n",
       "      <td>0</td>\n",
       "      <td>0</td>\n",
       "      <td>0</td>\n",
       "      <td>1</td>\n",
       "      <td>4</td>\n",
       "      <td>0</td>\n",
       "      <td>2</td>\n",
       "      <td>0.0</td>\n",
       "    </tr>\n",
       "    <tr>\n",
       "      <th>...</th>\n",
       "      <td>...</td>\n",
       "      <td>...</td>\n",
       "      <td>...</td>\n",
       "      <td>...</td>\n",
       "      <td>...</td>\n",
       "      <td>...</td>\n",
       "      <td>...</td>\n",
       "      <td>...</td>\n",
       "      <td>...</td>\n",
       "    </tr>\n",
       "    <tr>\n",
       "      <th>12663</th>\n",
       "      <td>75</td>\n",
       "      <td>1</td>\n",
       "      <td>1</td>\n",
       "      <td>0</td>\n",
       "      <td>3</td>\n",
       "      <td>4</td>\n",
       "      <td>0</td>\n",
       "      <td>1</td>\n",
       "      <td>0.0</td>\n",
       "    </tr>\n",
       "    <tr>\n",
       "      <th>6558</th>\n",
       "      <td>1</td>\n",
       "      <td>1</td>\n",
       "      <td>1</td>\n",
       "      <td>0</td>\n",
       "      <td>5</td>\n",
       "      <td>4</td>\n",
       "      <td>0</td>\n",
       "      <td>4</td>\n",
       "      <td>1.0</td>\n",
       "    </tr>\n",
       "    <tr>\n",
       "      <th>12460</th>\n",
       "      <td>60</td>\n",
       "      <td>1</td>\n",
       "      <td>1</td>\n",
       "      <td>0</td>\n",
       "      <td>4</td>\n",
       "      <td>1</td>\n",
       "      <td>0</td>\n",
       "      <td>10</td>\n",
       "      <td>1.0</td>\n",
       "    </tr>\n",
       "    <tr>\n",
       "      <th>9803</th>\n",
       "      <td>2</td>\n",
       "      <td>0</td>\n",
       "      <td>0</td>\n",
       "      <td>0</td>\n",
       "      <td>0</td>\n",
       "      <td>4</td>\n",
       "      <td>0</td>\n",
       "      <td>1</td>\n",
       "      <td>0.0</td>\n",
       "    </tr>\n",
       "    <tr>\n",
       "      <th>11501</th>\n",
       "      <td>12</td>\n",
       "      <td>0</td>\n",
       "      <td>0</td>\n",
       "      <td>1</td>\n",
       "      <td>2</td>\n",
       "      <td>5</td>\n",
       "      <td>0</td>\n",
       "      <td>7</td>\n",
       "      <td>0.0</td>\n",
       "    </tr>\n",
       "  </tbody>\n",
       "</table>\n",
       "<p>4429 rows × 9 columns</p>\n",
       "</div>"
      ],
      "text/plain": [
       "       Profession  Gender  Age  Wild Card  Most Viewed States  House Location  \\\n",
       "1743           81       1    1          0                   1               4   \n",
       "12414           2       0    0          0                   3               3   \n",
       "1593            1       1    1          0                   6               4   \n",
       "1858           84       1    1          1                   3               4   \n",
       "13650           0       0    0          0                   1               4   \n",
       "...           ...     ...  ...        ...                 ...             ...   \n",
       "12663          75       1    1          0                   3               4   \n",
       "6558            1       1    1          0                   5               4   \n",
       "12460          60       1    1          0                   4               1   \n",
       "9803            2       0    0          0                   0               4   \n",
       "11501          12       0    0          1                   2               5   \n",
       "\n",
       "       OTT Season  Number of Evictions Faced  Finalist  \n",
       "1743            0                          5       1.0  \n",
       "12414           0                          4       0.0  \n",
       "1593            0                          2       0.0  \n",
       "1858            0                          4       1.0  \n",
       "13650           0                          2       0.0  \n",
       "...           ...                        ...       ...  \n",
       "12663           0                          1       0.0  \n",
       "6558            0                          4       1.0  \n",
       "12460           0                         10       1.0  \n",
       "9803            0                          1       0.0  \n",
       "11501           0                          7       0.0  \n",
       "\n",
       "[4429 rows x 9 columns]"
      ]
     },
     "execution_count": 51,
     "metadata": {},
     "output_type": "execute_result"
    }
   ],
   "source": [
    "x_test"
   ]
  },
  {
   "cell_type": "code",
   "execution_count": 52,
   "metadata": {},
   "outputs": [
    {
     "data": {
      "text/plain": [
       "4442     0\n",
       "2840     0\n",
       "12727    0\n",
       "7862     0\n",
       "9529     0\n",
       "        ..\n",
       "5191     0\n",
       "13418    0\n",
       "5390     0\n",
       "860      0\n",
       "7270     0\n",
       "Name: Winner, Length: 10334, dtype: int64"
      ]
     },
     "execution_count": 52,
     "metadata": {},
     "output_type": "execute_result"
    }
   ],
   "source": [
    "y_train"
   ]
  },
  {
   "cell_type": "code",
   "execution_count": 53,
   "metadata": {},
   "outputs": [
    {
     "data": {
      "text/plain": [
       "1743     1\n",
       "12414    0\n",
       "1593     0\n",
       "1858     0\n",
       "13650    0\n",
       "        ..\n",
       "12663    0\n",
       "6558     1\n",
       "12460    0\n",
       "9803     0\n",
       "11501    0\n",
       "Name: Winner, Length: 4429, dtype: int64"
      ]
     },
     "execution_count": 53,
     "metadata": {},
     "output_type": "execute_result"
    }
   ],
   "source": [
    "y_test"
   ]
  },
  {
   "cell_type": "code",
   "execution_count": 54,
   "metadata": {},
   "outputs": [
    {
     "data": {
      "text/plain": [
       "(14763, 10)"
      ]
     },
     "execution_count": 54,
     "metadata": {},
     "output_type": "execute_result"
    }
   ],
   "source": [
    "df_cleaned.shape"
   ]
  },
  {
   "cell_type": "code",
   "execution_count": 55,
   "metadata": {},
   "outputs": [
    {
     "data": {
      "text/plain": [
       "Index(['Profession', 'Gender', 'Age', 'Wild Card', 'Most Viewed States',\n",
       "       'House Location', 'OTT Season', 'Number of Evictions Faced', 'Finalist',\n",
       "       'Winner'],\n",
       "      dtype='object')"
      ]
     },
     "execution_count": 55,
     "metadata": {},
     "output_type": "execute_result"
    }
   ],
   "source": [
    "df_cleaned.columns"
   ]
  },
  {
   "cell_type": "code",
   "execution_count": 57,
   "metadata": {},
   "outputs": [
    {
     "name": "stdout",
     "output_type": "stream",
     "text": [
      "Model KNeighborsClassifier(n_neighbors=7)\n",
      "confusion matrix of KNeighborsClassifier(n_neighbors=7)\n",
      "[[4155   23]\n",
      " [  28  223]]\n",
      "accuracy score of KNeighborsClassifier(n_neighbors=7)\n",
      "0.9884849853240009\n",
      "classification_report  KNeighborsClassifier(n_neighbors=7)\n",
      "              precision    recall  f1-score   support\n",
      "\n",
      "           0       0.99      0.99      0.99      4178\n",
      "           1       0.91      0.89      0.90       251\n",
      "\n",
      "    accuracy                           0.99      4429\n",
      "   macro avg       0.95      0.94      0.95      4429\n",
      "weighted avg       0.99      0.99      0.99      4429\n",
      "\n",
      "Model BernoulliNB()\n",
      "confusion matrix of BernoulliNB()\n",
      "[[4178    0]\n",
      " [ 251    0]]\n",
      "accuracy score of BernoulliNB()\n",
      "0.9433280650259652\n",
      "classification_report  BernoulliNB()\n",
      "              precision    recall  f1-score   support\n",
      "\n",
      "           0       0.94      1.00      0.97      4178\n",
      "           1       0.00      0.00      0.00       251\n",
      "\n",
      "    accuracy                           0.94      4429\n",
      "   macro avg       0.47      0.50      0.49      4429\n",
      "weighted avg       0.89      0.94      0.92      4429\n",
      "\n",
      "Model SVC()\n"
     ]
    },
    {
     "name": "stderr",
     "output_type": "stream",
     "text": [
      "c:\\Users\\DELL\\AppData\\Local\\Programs\\Python\\Python313\\Lib\\site-packages\\sklearn\\metrics\\_classification.py:1565: UndefinedMetricWarning: Precision is ill-defined and being set to 0.0 in labels with no predicted samples. Use `zero_division` parameter to control this behavior.\n",
      "  _warn_prf(average, modifier, f\"{metric.capitalize()} is\", len(result))\n",
      "c:\\Users\\DELL\\AppData\\Local\\Programs\\Python\\Python313\\Lib\\site-packages\\sklearn\\metrics\\_classification.py:1565: UndefinedMetricWarning: Precision is ill-defined and being set to 0.0 in labels with no predicted samples. Use `zero_division` parameter to control this behavior.\n",
      "  _warn_prf(average, modifier, f\"{metric.capitalize()} is\", len(result))\n",
      "c:\\Users\\DELL\\AppData\\Local\\Programs\\Python\\Python313\\Lib\\site-packages\\sklearn\\metrics\\_classification.py:1565: UndefinedMetricWarning: Precision is ill-defined and being set to 0.0 in labels with no predicted samples. Use `zero_division` parameter to control this behavior.\n",
      "  _warn_prf(average, modifier, f\"{metric.capitalize()} is\", len(result))\n"
     ]
    },
    {
     "name": "stdout",
     "output_type": "stream",
     "text": [
      "confusion matrix of SVC()\n",
      "[[4178    0]\n",
      " [ 251    0]]\n",
      "accuracy score of SVC()\n",
      "0.9433280650259652\n",
      "classification_report  SVC()\n",
      "              precision    recall  f1-score   support\n",
      "\n",
      "           0       0.94      1.00      0.97      4178\n",
      "           1       0.00      0.00      0.00       251\n",
      "\n",
      "    accuracy                           0.94      4429\n",
      "   macro avg       0.47      0.50      0.49      4429\n",
      "weighted avg       0.89      0.94      0.92      4429\n",
      "\n",
      "Model DecisionTreeClassifier(criterion='entropy')\n",
      "confusion matrix of DecisionTreeClassifier(criterion='entropy')\n",
      "[[4168   10]\n",
      " [  30  221]]\n",
      "accuracy score of DecisionTreeClassifier(criterion='entropy')\n",
      "0.9909686159403929\n",
      "classification_report  DecisionTreeClassifier(criterion='entropy')\n",
      "              precision    recall  f1-score   support\n",
      "\n",
      "           0       0.99      1.00      1.00      4178\n",
      "           1       0.96      0.88      0.92       251\n",
      "\n",
      "    accuracy                           0.99      4429\n",
      "   macro avg       0.97      0.94      0.96      4429\n",
      "weighted avg       0.99      0.99      0.99      4429\n",
      "\n",
      "Model RandomForestClassifier(random_state=42)\n"
     ]
    },
    {
     "name": "stderr",
     "output_type": "stream",
     "text": [
      "c:\\Users\\DELL\\AppData\\Local\\Programs\\Python\\Python313\\Lib\\site-packages\\sklearn\\metrics\\_classification.py:1565: UndefinedMetricWarning: Precision is ill-defined and being set to 0.0 in labels with no predicted samples. Use `zero_division` parameter to control this behavior.\n",
      "  _warn_prf(average, modifier, f\"{metric.capitalize()} is\", len(result))\n",
      "c:\\Users\\DELL\\AppData\\Local\\Programs\\Python\\Python313\\Lib\\site-packages\\sklearn\\metrics\\_classification.py:1565: UndefinedMetricWarning: Precision is ill-defined and being set to 0.0 in labels with no predicted samples. Use `zero_division` parameter to control this behavior.\n",
      "  _warn_prf(average, modifier, f\"{metric.capitalize()} is\", len(result))\n",
      "c:\\Users\\DELL\\AppData\\Local\\Programs\\Python\\Python313\\Lib\\site-packages\\sklearn\\metrics\\_classification.py:1565: UndefinedMetricWarning: Precision is ill-defined and being set to 0.0 in labels with no predicted samples. Use `zero_division` parameter to control this behavior.\n",
      "  _warn_prf(average, modifier, f\"{metric.capitalize()} is\", len(result))\n"
     ]
    },
    {
     "name": "stdout",
     "output_type": "stream",
     "text": [
      "confusion matrix of RandomForestClassifier(random_state=42)\n",
      "[[4168   10]\n",
      " [  30  221]]\n",
      "accuracy score of RandomForestClassifier(random_state=42)\n",
      "0.9909686159403929\n",
      "classification_report  RandomForestClassifier(random_state=42)\n",
      "              precision    recall  f1-score   support\n",
      "\n",
      "           0       0.99      1.00      1.00      4178\n",
      "           1       0.96      0.88      0.92       251\n",
      "\n",
      "    accuracy                           0.99      4429\n",
      "   macro avg       0.97      0.94      0.96      4429\n",
      "weighted avg       0.99      0.99      0.99      4429\n",
      "\n"
     ]
    }
   ],
   "source": [
    "from sklearn.neighbors import KNeighborsClassifier\n",
    "from sklearn.naive_bayes import BernoulliNB\n",
    "from sklearn.svm import SVC\n",
    "from sklearn.tree import DecisionTreeClassifier\n",
    "from sklearn.ensemble import RandomForestClassifier\n",
    "from sklearn.metrics import confusion_matrix,accuracy_score,classification_report\n",
    "\n",
    "knn = KNeighborsClassifier(n_neighbors=7)\n",
    "naive = BernoulliNB()\n",
    "svm = SVC()\n",
    "dt = DecisionTreeClassifier(criterion='entropy')\n",
    "rf = RandomForestClassifier(n_estimators=100,random_state=42)\n",
    "\n",
    "lst = [knn,naive,svm,dt,rf]\n",
    "\n",
    "\n",
    "for i in lst:\n",
    "    print(\"Model\",i)\n",
    "    i.fit(x_train,y_train)\n",
    "    y_pred=i.predict(x_test)\n",
    "    \n",
    "    print('confusion matrix of',i)\n",
    "    cm = confusion_matrix(y_test,y_pred)\n",
    "    print(cm)\n",
    "    \n",
    "    print(\"accuracy score of\",i)\n",
    "    score = accuracy_score(y_test,y_pred)\n",
    "    print(score)\n",
    "    \n",
    "    print(\"classification_report \",i)\n",
    "    report = classification_report(y_test,y_pred)\n",
    "    print(report)"
   ]
  },
  {
   "cell_type": "code",
   "execution_count": 58,
   "metadata": {},
   "outputs": [
    {
     "data": {
      "text/plain": [
       "Text(0.5, 1.0, 'Model Accuracy Comparison')"
      ]
     },
     "execution_count": 58,
     "metadata": {},
     "output_type": "execute_result"
    },
    {
     "data": {
      "image/png": "[encoded data removed]",
      "text/plain": [
       "<Figure size 640x480 with 1 Axes>"
      ]
     },
     "metadata": {},
     "output_type": "display_data"
    }
   ],
   "source": [
    "models = ['KNN', 'Naive Bayes', 'SVM', 'Decision Tree', 'Random Forest']\n",
    "accuracies = [0.98, 0.93, 0.93, 0.99, 0.99] \n",
    "sns.barplot(x=models, y=accuracies)\n",
    "plt.ylabel('Accuracy')\n",
    "plt.title('Model Accuracy Comparison')\n"
   ]
  },
  {
   "cell_type": "code",
   "execution_count": 59,
   "metadata": {},
   "outputs": [
    {
     "name": "stdout",
     "output_type": "stream",
     "text": [
      "Training Accuracy : 0.9901 KNeighborsClassifier(n_neighbors=7)\n",
      "Testing Accuracy : 0.9885 KNeighborsClassifier(n_neighbors=7)\n",
      "Training Accuracy : 0.9901 BernoulliNB()\n",
      "Testing Accuracy : 0.9885 BernoulliNB()\n",
      "Training Accuracy : 0.9901 SVC()\n",
      "Testing Accuracy : 0.9885 SVC()\n",
      "Training Accuracy : 0.9901 DecisionTreeClassifier(criterion='entropy')\n",
      "Testing Accuracy : 0.9885 DecisionTreeClassifier(criterion='entropy')\n",
      "Training Accuracy : 0.9901 RandomForestClassifier(random_state=42)\n",
      "Testing Accuracy : 0.9885 RandomForestClassifier(random_state=42)\n"
     ]
    }
   ],
   "source": [
    "lst1=[knn,naive,svm,dt,rf]\n",
    "for i in lst1:\n",
    "    train_acc = knn.score(x_train, y_train)\n",
    "    test_acc = knn.score(x_test, y_test)\n",
    "    print(f\"Training Accuracy : {train_acc:.4f}\",i)\n",
    "    print(f\"Testing Accuracy : {test_acc:.4f}\",i)\n"
   ]
  },
  {
   "cell_type": "code",
   "execution_count": 60,
   "metadata": {},
   "outputs": [
    {
     "data": {
      "text/plain": [
       "['winner_prediction_model.pkl']"
      ]
     },
     "execution_count": 60,
     "metadata": {},
     "output_type": "execute_result"
    }
   ],
   "source": [
    "import joblib\n",
    "joblib.dump(rf, 'winner_prediction_model.pkl')\n"
   ]
  }
 ],
 "metadata": {
  "kernelspec": {
   "display_name": "Python 3",
   "language": "python",
   "name": "python3"
  },
  "language_info": {
   "codemirror_mode": {
    "name": "ipython",
    "version": 3
   },
   "file_extension": ".py",
   "mimetype": "text/x-python",
   "name": "python",
   "nbconvert_exporter": "python",
   "pygments_lexer": "ipython3",
   "version": "3.13.0"
  }
 },
 "nbformat": 4,
 "nbformat_minor": 2
}
