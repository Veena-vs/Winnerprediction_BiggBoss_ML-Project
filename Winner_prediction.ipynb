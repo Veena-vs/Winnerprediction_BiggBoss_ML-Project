{
 "cells": [
  {
   "cell_type": "code",
   "execution_count": 1,
   "metadata": {},
   "outputs": [
    {
     "data": {
      "text/html": [
       "<div>\n",
       "<style scoped>\n",
       "    .dataframe tbody tr th:only-of-type {\n",
       "        vertical-align: middle;\n",
       "    }\n",
       "\n",
       "    .dataframe tbody tr th {\n",
       "        vertical-align: top;\n",
       "    }\n",
       "\n",
       "    .dataframe thead th {\n",
       "        text-align: right;\n",
       "    }\n",
       "</style>\n",
       "<table border=\"1\" class=\"dataframe\">\n",
       "  <thead>\n",
       "    <tr style=\"text-align: right;\">\n",
       "      <th></th>\n",
       "      <th>Language</th>\n",
       "      <th>Name</th>\n",
       "      <th>Profession</th>\n",
       "      <th>Gender</th>\n",
       "      <th>Age</th>\n",
       "      <th>Elimination Date</th>\n",
       "      <th>Elimination Week Number</th>\n",
       "      <th>Contestant Number</th>\n",
       "      <th>Wild Card</th>\n",
       "      <th>Host Name</th>\n",
       "      <th>...</th>\n",
       "      <th>Number of Re-entries</th>\n",
       "      <th>Walked</th>\n",
       "      <th>Ejected</th>\n",
       "      <th>In Secret-Room</th>\n",
       "      <th>Won Eviction Free Pass</th>\n",
       "      <th>Won Ticket to Finale</th>\n",
       "      <th>Secret Task</th>\n",
       "      <th>Social Media Popularity</th>\n",
       "      <th>Finalist</th>\n",
       "      <th>Winner</th>\n",
       "    </tr>\n",
       "  </thead>\n",
       "  <tbody>\n",
       "    <tr>\n",
       "      <th>0</th>\n",
       "      <td>Hindi</td>\n",
       "      <td>Amit Sadh</td>\n",
       "      <td>Soap Actor</td>\n",
       "      <td>Male</td>\n",
       "      <td>Young</td>\n",
       "      <td>NaN</td>\n",
       "      <td>10.0</td>\n",
       "      <td>5.0</td>\n",
       "      <td>No</td>\n",
       "      <td>Arshad Warsi</td>\n",
       "      <td>...</td>\n",
       "      <td>0.0</td>\n",
       "      <td>0.0</td>\n",
       "      <td>0.0</td>\n",
       "      <td>NaN</td>\n",
       "      <td>NaN</td>\n",
       "      <td>NaN</td>\n",
       "      <td>NaN</td>\n",
       "      <td>NaN</td>\n",
       "      <td>0.0</td>\n",
       "      <td>0</td>\n",
       "    </tr>\n",
       "    <tr>\n",
       "      <th>1</th>\n",
       "      <td>Hindi</td>\n",
       "      <td>Anupama Verma</td>\n",
       "      <td>Model</td>\n",
       "      <td>Female</td>\n",
       "      <td>Young</td>\n",
       "      <td>NaN</td>\n",
       "      <td>5.0</td>\n",
       "      <td>8.0</td>\n",
       "      <td>No</td>\n",
       "      <td>Arshad Warsi</td>\n",
       "      <td>...</td>\n",
       "      <td>0.0</td>\n",
       "      <td>0.0</td>\n",
       "      <td>0.0</td>\n",
       "      <td>NaN</td>\n",
       "      <td>NaN</td>\n",
       "      <td>NaN</td>\n",
       "      <td>NaN</td>\n",
       "      <td>NaN</td>\n",
       "      <td>0.0</td>\n",
       "      <td>0</td>\n",
       "    </tr>\n",
       "    <tr>\n",
       "      <th>2</th>\n",
       "      <td>Hindi</td>\n",
       "      <td>Aryan Vaid</td>\n",
       "      <td>Pageant Winner</td>\n",
       "      <td>Male</td>\n",
       "      <td>Middle</td>\n",
       "      <td>NaN</td>\n",
       "      <td>4.0</td>\n",
       "      <td>9.0</td>\n",
       "      <td>No</td>\n",
       "      <td>Arshad Warsi</td>\n",
       "      <td>...</td>\n",
       "      <td>0.0</td>\n",
       "      <td>0.0</td>\n",
       "      <td>0.0</td>\n",
       "      <td>NaN</td>\n",
       "      <td>NaN</td>\n",
       "      <td>NaN</td>\n",
       "      <td>NaN</td>\n",
       "      <td>NaN</td>\n",
       "      <td>0.0</td>\n",
       "      <td>0</td>\n",
       "    </tr>\n",
       "    <tr>\n",
       "      <th>3</th>\n",
       "      <td>Hindi</td>\n",
       "      <td>Bobby Darling</td>\n",
       "      <td>Activist</td>\n",
       "      <td>Transgender</td>\n",
       "      <td>Young</td>\n",
       "      <td>NaN</td>\n",
       "      <td>1.0</td>\n",
       "      <td>12.0</td>\n",
       "      <td>No</td>\n",
       "      <td>Arshad Warsi</td>\n",
       "      <td>...</td>\n",
       "      <td>0.0</td>\n",
       "      <td>0.0</td>\n",
       "      <td>0.0</td>\n",
       "      <td>NaN</td>\n",
       "      <td>NaN</td>\n",
       "      <td>NaN</td>\n",
       "      <td>NaN</td>\n",
       "      <td>NaN</td>\n",
       "      <td>0.0</td>\n",
       "      <td>0</td>\n",
       "    </tr>\n",
       "    <tr>\n",
       "      <th>4</th>\n",
       "      <td>Hindi</td>\n",
       "      <td>Carol Gracias</td>\n",
       "      <td>Model</td>\n",
       "      <td>Female</td>\n",
       "      <td>Young</td>\n",
       "      <td>26-Jan-07</td>\n",
       "      <td>12.0</td>\n",
       "      <td>2.0</td>\n",
       "      <td>No</td>\n",
       "      <td>Arshad Warsi</td>\n",
       "      <td>...</td>\n",
       "      <td>0.0</td>\n",
       "      <td>0.0</td>\n",
       "      <td>0.0</td>\n",
       "      <td>NaN</td>\n",
       "      <td>NaN</td>\n",
       "      <td>NaN</td>\n",
       "      <td>NaN</td>\n",
       "      <td>NaN</td>\n",
       "      <td>1.0</td>\n",
       "      <td>0</td>\n",
       "    </tr>\n",
       "    <tr>\n",
       "      <th>...</th>\n",
       "      <td>...</td>\n",
       "      <td>...</td>\n",
       "      <td>...</td>\n",
       "      <td>...</td>\n",
       "      <td>...</td>\n",
       "      <td>...</td>\n",
       "      <td>...</td>\n",
       "      <td>...</td>\n",
       "      <td>...</td>\n",
       "      <td>...</td>\n",
       "      <td>...</td>\n",
       "      <td>...</td>\n",
       "      <td>...</td>\n",
       "      <td>...</td>\n",
       "      <td>...</td>\n",
       "      <td>...</td>\n",
       "      <td>...</td>\n",
       "      <td>...</td>\n",
       "      <td>...</td>\n",
       "      <td>...</td>\n",
       "      <td>...</td>\n",
       "    </tr>\n",
       "    <tr>\n",
       "      <th>14995</th>\n",
       "      <td>Hindi</td>\n",
       "      <td>Tina Datta_72</td>\n",
       "      <td>Soap Actress</td>\n",
       "      <td>Female</td>\n",
       "      <td>Middle</td>\n",
       "      <td>NaN</td>\n",
       "      <td>17.0</td>\n",
       "      <td>14.0</td>\n",
       "      <td>No</td>\n",
       "      <td>Salman Khan</td>\n",
       "      <td>...</td>\n",
       "      <td>3.0</td>\n",
       "      <td>2.0</td>\n",
       "      <td>0.0</td>\n",
       "      <td>NaN</td>\n",
       "      <td>NaN</td>\n",
       "      <td>NaN</td>\n",
       "      <td>NaN</td>\n",
       "      <td>NaN</td>\n",
       "      <td>0.0</td>\n",
       "      <td>0</td>\n",
       "    </tr>\n",
       "    <tr>\n",
       "      <th>14996</th>\n",
       "      <td>Bengali</td>\n",
       "      <td>Sampurna Lahiri_946</td>\n",
       "      <td>Actress</td>\n",
       "      <td>Female</td>\n",
       "      <td>Young</td>\n",
       "      <td>NaN</td>\n",
       "      <td>6.0</td>\n",
       "      <td>12.0</td>\n",
       "      <td>No</td>\n",
       "      <td>Mithun Chakraborthy</td>\n",
       "      <td>...</td>\n",
       "      <td>0.0</td>\n",
       "      <td>0.0</td>\n",
       "      <td>0.0</td>\n",
       "      <td>NaN</td>\n",
       "      <td>NaN</td>\n",
       "      <td>NaN</td>\n",
       "      <td>NaN</td>\n",
       "      <td>NaN</td>\n",
       "      <td>0.0</td>\n",
       "      <td>0</td>\n",
       "    </tr>\n",
       "    <tr>\n",
       "      <th>14997</th>\n",
       "      <td>Tamil</td>\n",
       "      <td>Vaiyapuri_899</td>\n",
       "      <td>Comedian</td>\n",
       "      <td>Male</td>\n",
       "      <td>Middle</td>\n",
       "      <td>NaN</td>\n",
       "      <td>12.0</td>\n",
       "      <td>3.0</td>\n",
       "      <td>No</td>\n",
       "      <td>Kamal Haasan</td>\n",
       "      <td>...</td>\n",
       "      <td>0.0</td>\n",
       "      <td>0.0</td>\n",
       "      <td>0.0</td>\n",
       "      <td>NaN</td>\n",
       "      <td>NaN</td>\n",
       "      <td>NaN</td>\n",
       "      <td>NaN</td>\n",
       "      <td>NaN</td>\n",
       "      <td>0.0</td>\n",
       "      <td>0</td>\n",
       "    </tr>\n",
       "    <tr>\n",
       "      <th>14998</th>\n",
       "      <td>Hindi</td>\n",
       "      <td>Abhinav Shukla_4</td>\n",
       "      <td>Actor</td>\n",
       "      <td>Male</td>\n",
       "      <td>Middle</td>\n",
       "      <td>NaN</td>\n",
       "      <td>19.0</td>\n",
       "      <td>3.0</td>\n",
       "      <td>No</td>\n",
       "      <td>Salman Khan</td>\n",
       "      <td>...</td>\n",
       "      <td>0.0</td>\n",
       "      <td>0.0</td>\n",
       "      <td>0.0</td>\n",
       "      <td>NaN</td>\n",
       "      <td>NaN</td>\n",
       "      <td>NaN</td>\n",
       "      <td>NaN</td>\n",
       "      <td>NaN</td>\n",
       "      <td>0.0</td>\n",
       "      <td>0</td>\n",
       "    </tr>\n",
       "    <tr>\n",
       "      <th>14999</th>\n",
       "      <td>Hindi</td>\n",
       "      <td>Shefali Bagga_442</td>\n",
       "      <td>News Presenter</td>\n",
       "      <td>Female</td>\n",
       "      <td>Young</td>\n",
       "      <td>NaN</td>\n",
       "      <td>14.0</td>\n",
       "      <td>10.0</td>\n",
       "      <td>No</td>\n",
       "      <td>Salman Khan</td>\n",
       "      <td>...</td>\n",
       "      <td>1.0</td>\n",
       "      <td>0.0</td>\n",
       "      <td>0.0</td>\n",
       "      <td>NaN</td>\n",
       "      <td>NaN</td>\n",
       "      <td>NaN</td>\n",
       "      <td>NaN</td>\n",
       "      <td>NaN</td>\n",
       "      <td>0.0</td>\n",
       "      <td>0</td>\n",
       "    </tr>\n",
       "  </tbody>\n",
       "</table>\n",
       "<p>15000 rows × 28 columns</p>\n",
       "</div>"
      ],
      "text/plain": [
       "      Language                 Name      Profession       Gender     Age  \\\n",
       "0        Hindi            Amit Sadh      Soap Actor         Male   Young   \n",
       "1        Hindi        Anupama Verma           Model       Female   Young   \n",
       "2        Hindi           Aryan Vaid  Pageant Winner         Male  Middle   \n",
       "3        Hindi        Bobby Darling        Activist  Transgender   Young   \n",
       "4        Hindi        Carol Gracias           Model       Female   Young   \n",
       "...        ...                  ...             ...          ...     ...   \n",
       "14995    Hindi        Tina Datta_72    Soap Actress       Female  Middle   \n",
       "14996  Bengali  Sampurna Lahiri_946         Actress       Female   Young   \n",
       "14997    Tamil        Vaiyapuri_899        Comedian         Male  Middle   \n",
       "14998    Hindi     Abhinav Shukla_4           Actor         Male  Middle   \n",
       "14999    Hindi    Shefali Bagga_442  News Presenter       Female   Young   \n",
       "\n",
       "      Elimination Date  Elimination Week Number  Contestant Number Wild Card  \\\n",
       "0                  NaN                     10.0                5.0        No   \n",
       "1                  NaN                      5.0                8.0        No   \n",
       "2                  NaN                      4.0                9.0        No   \n",
       "3                  NaN                      1.0               12.0        No   \n",
       "4            26-Jan-07                     12.0                2.0        No   \n",
       "...                ...                      ...                ...       ...   \n",
       "14995              NaN                     17.0               14.0        No   \n",
       "14996              NaN                      6.0               12.0        No   \n",
       "14997              NaN                     12.0                3.0        No   \n",
       "14998              NaN                     19.0                3.0        No   \n",
       "14999              NaN                     14.0               10.0        No   \n",
       "\n",
       "                 Host Name  ... Number of Re-entries Walked  Ejected  \\\n",
       "0             Arshad Warsi  ...                  0.0    0.0      0.0   \n",
       "1             Arshad Warsi  ...                  0.0    0.0      0.0   \n",
       "2             Arshad Warsi  ...                  0.0    0.0      0.0   \n",
       "3             Arshad Warsi  ...                  0.0    0.0      0.0   \n",
       "4             Arshad Warsi  ...                  0.0    0.0      0.0   \n",
       "...                    ...  ...                  ...    ...      ...   \n",
       "14995          Salman Khan  ...                  3.0    2.0      0.0   \n",
       "14996  Mithun Chakraborthy  ...                  0.0    0.0      0.0   \n",
       "14997         Kamal Haasan  ...                  0.0    0.0      0.0   \n",
       "14998          Salman Khan  ...                  0.0    0.0      0.0   \n",
       "14999          Salman Khan  ...                  1.0    0.0      0.0   \n",
       "\n",
       "      In Secret-Room Won Eviction Free Pass Won Ticket to Finale  Secret Task  \\\n",
       "0                NaN                    NaN                  NaN          NaN   \n",
       "1                NaN                    NaN                  NaN          NaN   \n",
       "2                NaN                    NaN                  NaN          NaN   \n",
       "3                NaN                    NaN                  NaN          NaN   \n",
       "4                NaN                    NaN                  NaN          NaN   \n",
       "...              ...                    ...                  ...          ...   \n",
       "14995            NaN                    NaN                  NaN          NaN   \n",
       "14996            NaN                    NaN                  NaN          NaN   \n",
       "14997            NaN                    NaN                  NaN          NaN   \n",
       "14998            NaN                    NaN                  NaN          NaN   \n",
       "14999            NaN                    NaN                  NaN          NaN   \n",
       "\n",
       "       Social Media Popularity  Finalist  Winner  \n",
       "0                          NaN       0.0       0  \n",
       "1                          NaN       0.0       0  \n",
       "2                          NaN       0.0       0  \n",
       "3                          NaN       0.0       0  \n",
       "4                          NaN       1.0       0  \n",
       "...                        ...       ...     ...  \n",
       "14995                      NaN       0.0       0  \n",
       "14996                      NaN       0.0       0  \n",
       "14997                      NaN       0.0       0  \n",
       "14998                      NaN       0.0       0  \n",
       "14999                      NaN       0.0       0  \n",
       "\n",
       "[15000 rows x 28 columns]"
      ]
     },
     "execution_count": 1,
     "metadata": {},
     "output_type": "execute_result"
    }
   ],
   "source": [
    "import numpy as np\n",
    "import pandas as pd\n",
    "import matplotlib.pyplot as plt\n",
    "import seaborn as sns\n",
    "df = pd.read_csv(\"Bigg_Boss.csv\")\n",
    "df"
   ]
  },
  {
   "cell_type": "code",
   "execution_count": 2,
   "metadata": {},
   "outputs": [
    {
     "data": {
      "text/plain": [
       "Index(['Language', 'Name', 'Profession', 'Gender', 'Age', 'Elimination Date',\n",
       "       'Elimination Week Number', 'Contestant Number', 'Wild Card',\n",
       "       'Host Name', 'Broadcasted By', 'OTT Platform', 'Average TRP',\n",
       "       'Most Viewed States', 'House Location', 'OTT Season',\n",
       "       'Number of Evictions Faced', 'Number of Times Elected as Captain',\n",
       "       'Number of Re-entries', 'Walked', 'Ejected', 'In Secret-Room',\n",
       "       'Won Eviction Free Pass', 'Won Ticket to Finale', 'Secret Task',\n",
       "       'Social Media Popularity', 'Finalist', 'Winner'],\n",
       "      dtype='object')"
      ]
     },
     "execution_count": 2,
     "metadata": {},
     "output_type": "execute_result"
    }
   ],
   "source": [
    "df.columns"
   ]
  },
  {
   "cell_type": "code",
   "execution_count": 3,
   "metadata": {},
   "outputs": [
    {
     "data": {
      "text/plain": [
       "(15000, 28)"
      ]
     },
     "execution_count": 3,
     "metadata": {},
     "output_type": "execute_result"
    }
   ],
   "source": [
    "df.shape"
   ]
  },
  {
   "cell_type": "code",
   "execution_count": 4,
   "metadata": {},
   "outputs": [
    {
     "data": {
      "text/html": [
       "<div>\n",
       "<style scoped>\n",
       "    .dataframe tbody tr th:only-of-type {\n",
       "        vertical-align: middle;\n",
       "    }\n",
       "\n",
       "    .dataframe tbody tr th {\n",
       "        vertical-align: top;\n",
       "    }\n",
       "\n",
       "    .dataframe thead th {\n",
       "        text-align: right;\n",
       "    }\n",
       "</style>\n",
       "<table border=\"1\" class=\"dataframe\">\n",
       "  <thead>\n",
       "    <tr style=\"text-align: right;\">\n",
       "      <th></th>\n",
       "      <th>Language</th>\n",
       "      <th>Name</th>\n",
       "      <th>Profession</th>\n",
       "      <th>Gender</th>\n",
       "      <th>Age</th>\n",
       "      <th>Elimination Date</th>\n",
       "      <th>Elimination Week Number</th>\n",
       "      <th>Contestant Number</th>\n",
       "      <th>Wild Card</th>\n",
       "      <th>Host Name</th>\n",
       "      <th>...</th>\n",
       "      <th>Number of Re-entries</th>\n",
       "      <th>Walked</th>\n",
       "      <th>Ejected</th>\n",
       "      <th>In Secret-Room</th>\n",
       "      <th>Won Eviction Free Pass</th>\n",
       "      <th>Won Ticket to Finale</th>\n",
       "      <th>Secret Task</th>\n",
       "      <th>Social Media Popularity</th>\n",
       "      <th>Finalist</th>\n",
       "      <th>Winner</th>\n",
       "    </tr>\n",
       "  </thead>\n",
       "  <tbody>\n",
       "    <tr>\n",
       "      <th>0</th>\n",
       "      <td>Hindi</td>\n",
       "      <td>Amit Sadh</td>\n",
       "      <td>Soap Actor</td>\n",
       "      <td>Male</td>\n",
       "      <td>Young</td>\n",
       "      <td>NaN</td>\n",
       "      <td>10.0</td>\n",
       "      <td>5.0</td>\n",
       "      <td>No</td>\n",
       "      <td>Arshad Warsi</td>\n",
       "      <td>...</td>\n",
       "      <td>0.0</td>\n",
       "      <td>0.0</td>\n",
       "      <td>0.0</td>\n",
       "      <td>NaN</td>\n",
       "      <td>NaN</td>\n",
       "      <td>NaN</td>\n",
       "      <td>NaN</td>\n",
       "      <td>NaN</td>\n",
       "      <td>0.0</td>\n",
       "      <td>0</td>\n",
       "    </tr>\n",
       "    <tr>\n",
       "      <th>1</th>\n",
       "      <td>Hindi</td>\n",
       "      <td>Anupama Verma</td>\n",
       "      <td>Model</td>\n",
       "      <td>Female</td>\n",
       "      <td>Young</td>\n",
       "      <td>NaN</td>\n",
       "      <td>5.0</td>\n",
       "      <td>8.0</td>\n",
       "      <td>No</td>\n",
       "      <td>Arshad Warsi</td>\n",
       "      <td>...</td>\n",
       "      <td>0.0</td>\n",
       "      <td>0.0</td>\n",
       "      <td>0.0</td>\n",
       "      <td>NaN</td>\n",
       "      <td>NaN</td>\n",
       "      <td>NaN</td>\n",
       "      <td>NaN</td>\n",
       "      <td>NaN</td>\n",
       "      <td>0.0</td>\n",
       "      <td>0</td>\n",
       "    </tr>\n",
       "    <tr>\n",
       "      <th>2</th>\n",
       "      <td>Hindi</td>\n",
       "      <td>Aryan Vaid</td>\n",
       "      <td>Pageant Winner</td>\n",
       "      <td>Male</td>\n",
       "      <td>Middle</td>\n",
       "      <td>NaN</td>\n",
       "      <td>4.0</td>\n",
       "      <td>9.0</td>\n",
       "      <td>No</td>\n",
       "      <td>Arshad Warsi</td>\n",
       "      <td>...</td>\n",
       "      <td>0.0</td>\n",
       "      <td>0.0</td>\n",
       "      <td>0.0</td>\n",
       "      <td>NaN</td>\n",
       "      <td>NaN</td>\n",
       "      <td>NaN</td>\n",
       "      <td>NaN</td>\n",
       "      <td>NaN</td>\n",
       "      <td>0.0</td>\n",
       "      <td>0</td>\n",
       "    </tr>\n",
       "    <tr>\n",
       "      <th>3</th>\n",
       "      <td>Hindi</td>\n",
       "      <td>Bobby Darling</td>\n",
       "      <td>Activist</td>\n",
       "      <td>Transgender</td>\n",
       "      <td>Young</td>\n",
       "      <td>NaN</td>\n",
       "      <td>1.0</td>\n",
       "      <td>12.0</td>\n",
       "      <td>No</td>\n",
       "      <td>Arshad Warsi</td>\n",
       "      <td>...</td>\n",
       "      <td>0.0</td>\n",
       "      <td>0.0</td>\n",
       "      <td>0.0</td>\n",
       "      <td>NaN</td>\n",
       "      <td>NaN</td>\n",
       "      <td>NaN</td>\n",
       "      <td>NaN</td>\n",
       "      <td>NaN</td>\n",
       "      <td>0.0</td>\n",
       "      <td>0</td>\n",
       "    </tr>\n",
       "    <tr>\n",
       "      <th>4</th>\n",
       "      <td>Hindi</td>\n",
       "      <td>Carol Gracias</td>\n",
       "      <td>Model</td>\n",
       "      <td>Female</td>\n",
       "      <td>Young</td>\n",
       "      <td>26-Jan-07</td>\n",
       "      <td>12.0</td>\n",
       "      <td>2.0</td>\n",
       "      <td>No</td>\n",
       "      <td>Arshad Warsi</td>\n",
       "      <td>...</td>\n",
       "      <td>0.0</td>\n",
       "      <td>0.0</td>\n",
       "      <td>0.0</td>\n",
       "      <td>NaN</td>\n",
       "      <td>NaN</td>\n",
       "      <td>NaN</td>\n",
       "      <td>NaN</td>\n",
       "      <td>NaN</td>\n",
       "      <td>1.0</td>\n",
       "      <td>0</td>\n",
       "    </tr>\n",
       "  </tbody>\n",
       "</table>\n",
       "<p>5 rows × 28 columns</p>\n",
       "</div>"
      ],
      "text/plain": [
       "  Language           Name      Profession       Gender     Age  \\\n",
       "0    Hindi      Amit Sadh      Soap Actor         Male   Young   \n",
       "1    Hindi  Anupama Verma           Model       Female   Young   \n",
       "2    Hindi     Aryan Vaid  Pageant Winner         Male  Middle   \n",
       "3    Hindi  Bobby Darling        Activist  Transgender   Young   \n",
       "4    Hindi  Carol Gracias           Model       Female   Young   \n",
       "\n",
       "  Elimination Date  Elimination Week Number  Contestant Number Wild Card  \\\n",
       "0              NaN                     10.0                5.0        No   \n",
       "1              NaN                      5.0                8.0        No   \n",
       "2              NaN                      4.0                9.0        No   \n",
       "3              NaN                      1.0               12.0        No   \n",
       "4        26-Jan-07                     12.0                2.0        No   \n",
       "\n",
       "      Host Name  ... Number of Re-entries Walked  Ejected In Secret-Room  \\\n",
       "0  Arshad Warsi  ...                  0.0    0.0      0.0            NaN   \n",
       "1  Arshad Warsi  ...                  0.0    0.0      0.0            NaN   \n",
       "2  Arshad Warsi  ...                  0.0    0.0      0.0            NaN   \n",
       "3  Arshad Warsi  ...                  0.0    0.0      0.0            NaN   \n",
       "4  Arshad Warsi  ...                  0.0    0.0      0.0            NaN   \n",
       "\n",
       "  Won Eviction Free Pass Won Ticket to Finale  Secret Task  \\\n",
       "0                    NaN                  NaN          NaN   \n",
       "1                    NaN                  NaN          NaN   \n",
       "2                    NaN                  NaN          NaN   \n",
       "3                    NaN                  NaN          NaN   \n",
       "4                    NaN                  NaN          NaN   \n",
       "\n",
       "   Social Media Popularity  Finalist  Winner  \n",
       "0                      NaN       0.0       0  \n",
       "1                      NaN       0.0       0  \n",
       "2                      NaN       0.0       0  \n",
       "3                      NaN       0.0       0  \n",
       "4                      NaN       1.0       0  \n",
       "\n",
       "[5 rows x 28 columns]"
      ]
     },
     "execution_count": 4,
     "metadata": {},
     "output_type": "execute_result"
    }
   ],
   "source": [
    "df.head()"
   ]
  },
  {
   "cell_type": "code",
   "execution_count": 5,
   "metadata": {},
   "outputs": [
    {
     "data": {
      "text/html": [
       "<div>\n",
       "<style scoped>\n",
       "    .dataframe tbody tr th:only-of-type {\n",
       "        vertical-align: middle;\n",
       "    }\n",
       "\n",
       "    .dataframe tbody tr th {\n",
       "        vertical-align: top;\n",
       "    }\n",
       "\n",
       "    .dataframe thead th {\n",
       "        text-align: right;\n",
       "    }\n",
       "</style>\n",
       "<table border=\"1\" class=\"dataframe\">\n",
       "  <thead>\n",
       "    <tr style=\"text-align: right;\">\n",
       "      <th></th>\n",
       "      <th>Language</th>\n",
       "      <th>Name</th>\n",
       "      <th>Profession</th>\n",
       "      <th>Gender</th>\n",
       "      <th>Age</th>\n",
       "      <th>Elimination Date</th>\n",
       "      <th>Elimination Week Number</th>\n",
       "      <th>Contestant Number</th>\n",
       "      <th>Wild Card</th>\n",
       "      <th>Host Name</th>\n",
       "      <th>...</th>\n",
       "      <th>Number of Re-entries</th>\n",
       "      <th>Walked</th>\n",
       "      <th>Ejected</th>\n",
       "      <th>In Secret-Room</th>\n",
       "      <th>Won Eviction Free Pass</th>\n",
       "      <th>Won Ticket to Finale</th>\n",
       "      <th>Secret Task</th>\n",
       "      <th>Social Media Popularity</th>\n",
       "      <th>Finalist</th>\n",
       "      <th>Winner</th>\n",
       "    </tr>\n",
       "  </thead>\n",
       "  <tbody>\n",
       "    <tr>\n",
       "      <th>14995</th>\n",
       "      <td>Hindi</td>\n",
       "      <td>Tina Datta_72</td>\n",
       "      <td>Soap Actress</td>\n",
       "      <td>Female</td>\n",
       "      <td>Middle</td>\n",
       "      <td>NaN</td>\n",
       "      <td>17.0</td>\n",
       "      <td>14.0</td>\n",
       "      <td>No</td>\n",
       "      <td>Salman Khan</td>\n",
       "      <td>...</td>\n",
       "      <td>3.0</td>\n",
       "      <td>2.0</td>\n",
       "      <td>0.0</td>\n",
       "      <td>NaN</td>\n",
       "      <td>NaN</td>\n",
       "      <td>NaN</td>\n",
       "      <td>NaN</td>\n",
       "      <td>NaN</td>\n",
       "      <td>0.0</td>\n",
       "      <td>0</td>\n",
       "    </tr>\n",
       "    <tr>\n",
       "      <th>14996</th>\n",
       "      <td>Bengali</td>\n",
       "      <td>Sampurna Lahiri_946</td>\n",
       "      <td>Actress</td>\n",
       "      <td>Female</td>\n",
       "      <td>Young</td>\n",
       "      <td>NaN</td>\n",
       "      <td>6.0</td>\n",
       "      <td>12.0</td>\n",
       "      <td>No</td>\n",
       "      <td>Mithun Chakraborthy</td>\n",
       "      <td>...</td>\n",
       "      <td>0.0</td>\n",
       "      <td>0.0</td>\n",
       "      <td>0.0</td>\n",
       "      <td>NaN</td>\n",
       "      <td>NaN</td>\n",
       "      <td>NaN</td>\n",
       "      <td>NaN</td>\n",
       "      <td>NaN</td>\n",
       "      <td>0.0</td>\n",
       "      <td>0</td>\n",
       "    </tr>\n",
       "    <tr>\n",
       "      <th>14997</th>\n",
       "      <td>Tamil</td>\n",
       "      <td>Vaiyapuri_899</td>\n",
       "      <td>Comedian</td>\n",
       "      <td>Male</td>\n",
       "      <td>Middle</td>\n",
       "      <td>NaN</td>\n",
       "      <td>12.0</td>\n",
       "      <td>3.0</td>\n",
       "      <td>No</td>\n",
       "      <td>Kamal Haasan</td>\n",
       "      <td>...</td>\n",
       "      <td>0.0</td>\n",
       "      <td>0.0</td>\n",
       "      <td>0.0</td>\n",
       "      <td>NaN</td>\n",
       "      <td>NaN</td>\n",
       "      <td>NaN</td>\n",
       "      <td>NaN</td>\n",
       "      <td>NaN</td>\n",
       "      <td>0.0</td>\n",
       "      <td>0</td>\n",
       "    </tr>\n",
       "    <tr>\n",
       "      <th>14998</th>\n",
       "      <td>Hindi</td>\n",
       "      <td>Abhinav Shukla_4</td>\n",
       "      <td>Actor</td>\n",
       "      <td>Male</td>\n",
       "      <td>Middle</td>\n",
       "      <td>NaN</td>\n",
       "      <td>19.0</td>\n",
       "      <td>3.0</td>\n",
       "      <td>No</td>\n",
       "      <td>Salman Khan</td>\n",
       "      <td>...</td>\n",
       "      <td>0.0</td>\n",
       "      <td>0.0</td>\n",
       "      <td>0.0</td>\n",
       "      <td>NaN</td>\n",
       "      <td>NaN</td>\n",
       "      <td>NaN</td>\n",
       "      <td>NaN</td>\n",
       "      <td>NaN</td>\n",
       "      <td>0.0</td>\n",
       "      <td>0</td>\n",
       "    </tr>\n",
       "    <tr>\n",
       "      <th>14999</th>\n",
       "      <td>Hindi</td>\n",
       "      <td>Shefali Bagga_442</td>\n",
       "      <td>News Presenter</td>\n",
       "      <td>Female</td>\n",
       "      <td>Young</td>\n",
       "      <td>NaN</td>\n",
       "      <td>14.0</td>\n",
       "      <td>10.0</td>\n",
       "      <td>No</td>\n",
       "      <td>Salman Khan</td>\n",
       "      <td>...</td>\n",
       "      <td>1.0</td>\n",
       "      <td>0.0</td>\n",
       "      <td>0.0</td>\n",
       "      <td>NaN</td>\n",
       "      <td>NaN</td>\n",
       "      <td>NaN</td>\n",
       "      <td>NaN</td>\n",
       "      <td>NaN</td>\n",
       "      <td>0.0</td>\n",
       "      <td>0</td>\n",
       "    </tr>\n",
       "  </tbody>\n",
       "</table>\n",
       "<p>5 rows × 28 columns</p>\n",
       "</div>"
      ],
      "text/plain": [
       "      Language                 Name      Profession  Gender     Age  \\\n",
       "14995    Hindi        Tina Datta_72    Soap Actress  Female  Middle   \n",
       "14996  Bengali  Sampurna Lahiri_946         Actress  Female   Young   \n",
       "14997    Tamil        Vaiyapuri_899        Comedian    Male  Middle   \n",
       "14998    Hindi     Abhinav Shukla_4           Actor    Male  Middle   \n",
       "14999    Hindi    Shefali Bagga_442  News Presenter  Female   Young   \n",
       "\n",
       "      Elimination Date  Elimination Week Number  Contestant Number Wild Card  \\\n",
       "14995              NaN                     17.0               14.0        No   \n",
       "14996              NaN                      6.0               12.0        No   \n",
       "14997              NaN                     12.0                3.0        No   \n",
       "14998              NaN                     19.0                3.0        No   \n",
       "14999              NaN                     14.0               10.0        No   \n",
       "\n",
       "                 Host Name  ... Number of Re-entries Walked  Ejected  \\\n",
       "14995          Salman Khan  ...                  3.0    2.0      0.0   \n",
       "14996  Mithun Chakraborthy  ...                  0.0    0.0      0.0   \n",
       "14997         Kamal Haasan  ...                  0.0    0.0      0.0   \n",
       "14998          Salman Khan  ...                  0.0    0.0      0.0   \n",
       "14999          Salman Khan  ...                  1.0    0.0      0.0   \n",
       "\n",
       "      In Secret-Room Won Eviction Free Pass Won Ticket to Finale  Secret Task  \\\n",
       "14995            NaN                    NaN                  NaN          NaN   \n",
       "14996            NaN                    NaN                  NaN          NaN   \n",
       "14997            NaN                    NaN                  NaN          NaN   \n",
       "14998            NaN                    NaN                  NaN          NaN   \n",
       "14999            NaN                    NaN                  NaN          NaN   \n",
       "\n",
       "       Social Media Popularity  Finalist  Winner  \n",
       "14995                      NaN       0.0       0  \n",
       "14996                      NaN       0.0       0  \n",
       "14997                      NaN       0.0       0  \n",
       "14998                      NaN       0.0       0  \n",
       "14999                      NaN       0.0       0  \n",
       "\n",
       "[5 rows x 28 columns]"
      ]
     },
     "execution_count": 5,
     "metadata": {},
     "output_type": "execute_result"
    }
   ],
   "source": [
    "df.tail()"
   ]
  },
  {
   "cell_type": "code",
   "execution_count": 6,
   "metadata": {},
   "outputs": [
    {
     "data": {
      "text/plain": [
       "np.int64(72)"
      ]
     },
     "execution_count": 6,
     "metadata": {},
     "output_type": "execute_result"
    }
   ],
   "source": [
    "df.duplicated().sum()"
   ]
  },
  {
   "cell_type": "code",
   "execution_count": 7,
   "metadata": {},
   "outputs": [],
   "source": [
    "df_cleaned = df.drop_duplicates().reset_index(drop=True)"
   ]
  },
  {
   "cell_type": "code",
   "execution_count": 8,
   "metadata": {},
   "outputs": [
    {
     "data": {
      "text/plain": [
       "np.int64(0)"
      ]
     },
     "execution_count": 8,
     "metadata": {},
     "output_type": "execute_result"
    }
   ],
   "source": [
    "df_cleaned.duplicated().sum()"
   ]
  },
  {
   "cell_type": "code",
   "execution_count": 9,
   "metadata": {},
   "outputs": [
    {
     "data": {
      "text/plain": [
       "Language                                  0\n",
       "Name                                      0\n",
       "Profession                                0\n",
       "Gender                                    0\n",
       "Age                                       0\n",
       "Elimination Date                      12223\n",
       "Elimination Week Number                1821\n",
       "Contestant Number                       938\n",
       "Wild Card                                 0\n",
       "Host Name                                 0\n",
       "Broadcasted By                         1180\n",
       "OTT Platform                           4983\n",
       "Average TRP                            6563\n",
       "Most Viewed States                        0\n",
       "House Location                            0\n",
       "OTT Season                                0\n",
       "Number of Evictions Faced                 0\n",
       "Number of Times Elected as Captain     2042\n",
       "Number of Re-entries                   2391\n",
       "Walked                                 2365\n",
       "Ejected                                2468\n",
       "In Secret-Room                        14455\n",
       "Won Eviction Free Pass                14607\n",
       "Won Ticket to Finale                  14554\n",
       "Secret Task                           14803\n",
       "Social Media Popularity               11960\n",
       "Finalist                                 94\n",
       "Winner                                    0\n",
       "dtype: int64"
      ]
     },
     "execution_count": 9,
     "metadata": {},
     "output_type": "execute_result"
    }
   ],
   "source": [
    "df_cleaned.isna().sum()"
   ]
  },
  {
   "cell_type": "code",
   "execution_count": 10,
   "metadata": {},
   "outputs": [
    {
     "data": {
      "text/plain": [
       "(14928, 14)"
      ]
     },
     "execution_count": 10,
     "metadata": {},
     "output_type": "execute_result"
    }
   ],
   "source": [
    "df_cleaned.drop(df_cleaned[['Elimination Date','Elimination Week Number','Host Name','Social Media Popularity','Won Eviction Free Pass','Secret Task','In Secret-Room','Won Ticket to Finale','OTT Platform','Broadcasted By','Contestant Number','Average TRP','Number of Times Elected as Captain','Number of Re-entries']],axis=1,inplace=True)\n",
    "df_cleaned.shape"
   ]
  },
  {
   "cell_type": "code",
   "execution_count": 11,
   "metadata": {},
   "outputs": [
    {
     "data": {
      "text/plain": [
       "Index(['Language', 'Name', 'Profession', 'Gender', 'Age', 'Wild Card',\n",
       "       'Most Viewed States', 'House Location', 'OTT Season',\n",
       "       'Number of Evictions Faced', 'Walked', 'Ejected', 'Finalist', 'Winner'],\n",
       "      dtype='object')"
      ]
     },
     "execution_count": 11,
     "metadata": {},
     "output_type": "execute_result"
    }
   ],
   "source": [
    "df_cleaned.columns"
   ]
  },
  {
   "cell_type": "code",
   "execution_count": 12,
   "metadata": {},
   "outputs": [
    {
     "data": {
      "text/plain": [
       "Language                        0\n",
       "Name                            0\n",
       "Profession                      0\n",
       "Gender                          0\n",
       "Age                             0\n",
       "Wild Card                       0\n",
       "Most Viewed States              0\n",
       "House Location                  0\n",
       "OTT Season                      0\n",
       "Number of Evictions Faced       0\n",
       "Walked                       2365\n",
       "Ejected                      2468\n",
       "Finalist                       94\n",
       "Winner                          0\n",
       "dtype: int64"
      ]
     },
     "execution_count": 12,
     "metadata": {},
     "output_type": "execute_result"
    }
   ],
   "source": [
    "df_cleaned.isna().sum()"
   ]
  },
  {
   "cell_type": "code",
   "execution_count": 13,
   "metadata": {},
   "outputs": [],
   "source": [
    "\n",
    "df_cleaned = df_cleaned.dropna(subset=['Finalist', 'Walked', 'Ejected']).reset_index(drop=True)\n",
    "\n"
   ]
  },
  {
   "cell_type": "code",
   "execution_count": 14,
   "metadata": {},
   "outputs": [
    {
     "data": {
      "text/plain": [
       "Language                     0\n",
       "Name                         0\n",
       "Profession                   0\n",
       "Gender                       0\n",
       "Age                          0\n",
       "Wild Card                    0\n",
       "Most Viewed States           0\n",
       "House Location               0\n",
       "OTT Season                   0\n",
       "Number of Evictions Faced    0\n",
       "Walked                       0\n",
       "Ejected                      0\n",
       "Finalist                     0\n",
       "Winner                       0\n",
       "dtype: int64"
      ]
     },
     "execution_count": 14,
     "metadata": {},
     "output_type": "execute_result"
    }
   ],
   "source": [
    "df_cleaned.isna().sum()"
   ]
  },
  {
   "cell_type": "code",
   "execution_count": 15,
   "metadata": {},
   "outputs": [
    {
     "data": {
      "image/png": "[encoded data removed]",
      "text/plain": [
       "<Figure size 1000x500 with 1 Axes>"
      ]
     },
     "metadata": {},
     "output_type": "display_data"
    }
   ],
   "source": [
    "\n",
    "plt.figure(figsize=(10, 5))\n",
    "sns.boxplot(data=df_cleaned)\n",
    "plt.title(\"Boxplot of Numerical Features\")\n",
    "plt.xticks(rotation=45) \n",
    "plt.show()\n"
   ]
  },
  {
   "cell_type": "code",
   "execution_count": 16,
   "metadata": {},
   "outputs": [
    {
     "data": {
      "text/plain": [
       "Ejected\n",
       "0.0    11823\n",
       "1.0      474\n",
       "Name: count, dtype: int64"
      ]
     },
     "execution_count": 16,
     "metadata": {},
     "output_type": "execute_result"
    }
   ],
   "source": [
    "df_cleaned['Ejected'].value_counts()"
   ]
  },
  {
   "cell_type": "code",
   "execution_count": 17,
   "metadata": {},
   "outputs": [
    {
     "data": {
      "text/plain": [
       "Walked\n",
       "0.0    11251\n",
       "1.0     1016\n",
       "2.0       30\n",
       "Name: count, dtype: int64"
      ]
     },
     "execution_count": 17,
     "metadata": {},
     "output_type": "execute_result"
    }
   ],
   "source": [
    "df_cleaned['Walked'].value_counts()"
   ]
  },
  {
   "cell_type": "code",
   "execution_count": 18,
   "metadata": {},
   "outputs": [
    {
     "data": {
      "text/html": [
       "<div>\n",
       "<style scoped>\n",
       "    .dataframe tbody tr th:only-of-type {\n",
       "        vertical-align: middle;\n",
       "    }\n",
       "\n",
       "    .dataframe tbody tr th {\n",
       "        vertical-align: top;\n",
       "    }\n",
       "\n",
       "    .dataframe thead th {\n",
       "        text-align: right;\n",
       "    }\n",
       "</style>\n",
       "<table border=\"1\" class=\"dataframe\">\n",
       "  <thead>\n",
       "    <tr style=\"text-align: right;\">\n",
       "      <th></th>\n",
       "      <th>Number of Evictions Faced</th>\n",
       "      <th>Walked</th>\n",
       "      <th>Ejected</th>\n",
       "      <th>Finalist</th>\n",
       "      <th>Winner</th>\n",
       "    </tr>\n",
       "  </thead>\n",
       "  <tbody>\n",
       "    <tr>\n",
       "      <th>Number of Evictions Faced</th>\n",
       "      <td>1.000000</td>\n",
       "      <td>-0.067582</td>\n",
       "      <td>-0.049966</td>\n",
       "      <td>0.559043</td>\n",
       "      <td>0.246911</td>\n",
       "    </tr>\n",
       "    <tr>\n",
       "      <th>Walked</th>\n",
       "      <td>-0.067582</td>\n",
       "      <td>1.000000</td>\n",
       "      <td>0.003664</td>\n",
       "      <td>-0.040611</td>\n",
       "      <td>-0.010203</td>\n",
       "    </tr>\n",
       "    <tr>\n",
       "      <th>Ejected</th>\n",
       "      <td>-0.049966</td>\n",
       "      <td>0.003664</td>\n",
       "      <td>1.000000</td>\n",
       "      <td>-0.074997</td>\n",
       "      <td>-0.050191</td>\n",
       "    </tr>\n",
       "    <tr>\n",
       "      <th>Finalist</th>\n",
       "      <td>0.559043</td>\n",
       "      <td>-0.040611</td>\n",
       "      <td>-0.074997</td>\n",
       "      <td>1.000000</td>\n",
       "      <td>0.401978</td>\n",
       "    </tr>\n",
       "    <tr>\n",
       "      <th>Winner</th>\n",
       "      <td>0.246911</td>\n",
       "      <td>-0.010203</td>\n",
       "      <td>-0.050191</td>\n",
       "      <td>0.401978</td>\n",
       "      <td>1.000000</td>\n",
       "    </tr>\n",
       "  </tbody>\n",
       "</table>\n",
       "</div>"
      ],
      "text/plain": [
       "                           Number of Evictions Faced    Walked   Ejected  \\\n",
       "Number of Evictions Faced                   1.000000 -0.067582 -0.049966   \n",
       "Walked                                     -0.067582  1.000000  0.003664   \n",
       "Ejected                                    -0.049966  0.003664  1.000000   \n",
       "Finalist                                    0.559043 -0.040611 -0.074997   \n",
       "Winner                                      0.246911 -0.010203 -0.050191   \n",
       "\n",
       "                           Finalist    Winner  \n",
       "Number of Evictions Faced  0.559043  0.246911  \n",
       "Walked                    -0.040611 -0.010203  \n",
       "Ejected                   -0.074997 -0.050191  \n",
       "Finalist                   1.000000  0.401978  \n",
       "Winner                     0.401978  1.000000  "
      ]
     },
     "execution_count": 18,
     "metadata": {},
     "output_type": "execute_result"
    }
   ],
   "source": [
    "\n",
    "corr=df_cleaned.corr(numeric_only=True)\n",
    "corr\n"
   ]
  },
  {
   "cell_type": "code",
   "execution_count": 19,
   "metadata": {},
   "outputs": [
    {
     "data": {
      "image/png": "[encoded data removed]",
      "text/plain": [
       "<Figure size 640x480 with 2 Axes>"
      ]
     },
     "metadata": {},
     "output_type": "display_data"
    }
   ],
   "source": [
    "plt.Figure(figsize=(12,6))\n",
    "sns.heatmap(corr,annot=True)\n",
    "plt.show()"
   ]
  },
  {
   "cell_type": "code",
   "execution_count": 20,
   "metadata": {},
   "outputs": [],
   "source": [
    "df_cleaned.drop(df[['Walked','Ejected']],axis=1,inplace=True)"
   ]
  },
  {
   "cell_type": "code",
   "execution_count": 21,
   "metadata": {},
   "outputs": [
    {
     "data": {
      "text/plain": [
       "(12297, 12)"
      ]
     },
     "execution_count": 21,
     "metadata": {},
     "output_type": "execute_result"
    }
   ],
   "source": [
    "df_cleaned.shape"
   ]
  },
  {
   "cell_type": "code",
   "execution_count": 22,
   "metadata": {},
   "outputs": [
    {
     "data": {
      "text/plain": [
       "Language                      object\n",
       "Name                          object\n",
       "Profession                    object\n",
       "Gender                        object\n",
       "Age                           object\n",
       "Wild Card                     object\n",
       "Most Viewed States            object\n",
       "House Location                object\n",
       "OTT Season                    object\n",
       "Number of Evictions Faced      int64\n",
       "Finalist                     float64\n",
       "Winner                         int64\n",
       "dtype: object"
      ]
     },
     "execution_count": 22,
     "metadata": {},
     "output_type": "execute_result"
    }
   ],
   "source": [
    "df_cleaned.dtypes"
   ]
  },
  {
   "cell_type": "code",
   "execution_count": 23,
   "metadata": {},
   "outputs": [
    {
     "data": {
      "text/plain": [
       "Gender\n",
       "Female         6252\n",
       "Male           5892\n",
       "Transgender     132\n",
       "Pair             21\n",
       "Name: count, dtype: int64"
      ]
     },
     "execution_count": 23,
     "metadata": {},
     "output_type": "execute_result"
    }
   ],
   "source": [
    "a=df_cleaned['Gender'].value_counts()\n",
    "a"
   ]
  },
  {
   "cell_type": "code",
   "execution_count": 24,
   "metadata": {},
   "outputs": [
    {
     "data": {
      "text/plain": [
       "Text(0.5, 1.0, 'Distribution of Gender')"
      ]
     },
     "execution_count": 24,
     "metadata": {},
     "output_type": "execute_result"
    },
    {
     "data": {
      "image/png": "[encoded data removed]",
      "text/plain": [
       "<Figure size 640x480 with 1 Axes>"
      ]
     },
     "metadata": {},
     "output_type": "display_data"
    }
   ],
   "source": [
    "plt.pie(a.values,labels=a.index,autopct='%1.1f%%')\n",
    "plt.legend(loc=\"upper right\")\n",
    "plt.tight_layout()\n",
    "plt.title(\"Distribution of Gender\")"
   ]
  },
  {
   "cell_type": "code",
   "execution_count": 25,
   "metadata": {},
   "outputs": [],
   "source": [
    "df_cleaned.drop(df_cleaned.index[(df_cleaned['Gender']=='Transgender')],axis=0,inplace=True)\n",
    "df_cleaned.drop(df_cleaned.index[(df_cleaned['Gender']=='Pair')],axis=0,inplace=True)\n"
   ]
  },
  {
   "cell_type": "code",
   "execution_count": 26,
   "metadata": {},
   "outputs": [
    {
     "data": {
      "text/plain": [
       "(12144, 12)"
      ]
     },
     "execution_count": 26,
     "metadata": {},
     "output_type": "execute_result"
    }
   ],
   "source": [
    "df_cleaned.reset_index(drop=True,inplace=True)\n",
    "df_cleaned.shape"
   ]
  },
  {
   "cell_type": "code",
   "execution_count": 27,
   "metadata": {},
   "outputs": [
    {
     "data": {
      "text/plain": [
       "Age\n",
       "Middle    6366\n",
       "Young     5068\n",
       "Old        710\n",
       "Name: count, dtype: int64"
      ]
     },
     "execution_count": 27,
     "metadata": {},
     "output_type": "execute_result"
    }
   ],
   "source": [
    "b=df_cleaned[\"Age\"].value_counts()\n",
    "b"
   ]
  },
  {
   "cell_type": "code",
   "execution_count": 28,
   "metadata": {},
   "outputs": [
    {
     "data": {
      "text/plain": [
       "Text(0.5, 1.0, 'Age-Count graph')"
      ]
     },
     "execution_count": 28,
     "metadata": {},
     "output_type": "execute_result"
    },
    {
     "data": {
      "image/png": "[encoded data removed]",
      "text/plain": [
       "<Figure size 640x480 with 1 Axes>"
      ]
     },
     "metadata": {},
     "output_type": "display_data"
    }
   ],
   "source": [
    "plt.bar(b.index,b.values)\n",
    "plt.xlabel(\"Age\")\n",
    "plt.ylabel(\"count\")\n",
    "plt.title(\"Age-Count graph\")"
   ]
  },
  {
   "cell_type": "code",
   "execution_count": 29,
   "metadata": {},
   "outputs": [
    {
     "data": {
      "text/plain": [
       "Wild Card\n",
       "No     10335\n",
       "Yes     1809\n",
       "Name: count, dtype: int64"
      ]
     },
     "execution_count": 29,
     "metadata": {},
     "output_type": "execute_result"
    }
   ],
   "source": [
    "df_cleaned['Wild Card'].value_counts()"
   ]
  },
  {
   "cell_type": "code",
   "execution_count": 30,
   "metadata": {},
   "outputs": [
    {
     "data": {
      "text/plain": [
       "Most Viewed States\n",
       "Maharashtra, Bihar, Delhi, Haryana, Jharkhand, Madhya Pradesh, Rajasthan, Uttarakhand, Uttar Pradesh    4112\n",
       "Karnataka                                                                                               2096\n",
       "Tamil Nadu                                                                                              1572\n",
       "Telangana, Andhra Pradesh                                                                               1553\n",
       "Kerala                                                                                                  1486\n",
       "Maharashtra                                                                                              915\n",
       "West Bengal                                                                                              410\n",
       "Name: count, dtype: int64"
      ]
     },
     "execution_count": 30,
     "metadata": {},
     "output_type": "execute_result"
    }
   ],
   "source": [
    "df_cleaned['Most Viewed States'].value_counts()"
   ]
  },
  {
   "cell_type": "code",
   "execution_count": 31,
   "metadata": {},
   "outputs": [
    {
     "data": {
      "text/plain": [
       "OTT Season\n",
       "No     11247\n",
       "Yes      897\n",
       "Name: count, dtype: int64"
      ]
     },
     "execution_count": 31,
     "metadata": {},
     "output_type": "execute_result"
    }
   ],
   "source": [
    "df_cleaned['OTT Season'].value_counts()"
   ]
  },
  {
   "cell_type": "code",
   "execution_count": 32,
   "metadata": {},
   "outputs": [
    {
     "name": "stdout",
     "output_type": "stream",
     "text": [
      "Saved encoder for: Gender\n",
      "Saved encoder for: Wild Card\n",
      "Saved encoder for: Language\n",
      "Saved encoder for: Profession\n",
      "Saved encoder for: Most Viewed States\n",
      "Saved encoder for: House Location\n",
      "Saved encoder for: OTT Season\n",
      " All encoders saved successfully!\n"
     ]
    }
   ],
   "source": [
    "import os\n",
    "import joblib\n",
    "from sklearn.preprocessing import LabelEncoder\n",
    "os.makedirs(\"encoders\", exist_ok=True)\n",
    "label_columns = [\n",
    "    \"Gender\", \"Wild Card\", \"Language\", \"Profession\",\n",
    "    \"Most Viewed States\", \"House Location\", \"OTT Season\"\n",
    "]\n",
    "\n",
    "encoders = {}\n",
    "\n",
    "for col in label_columns:\n",
    "    if col in df_cleaned.columns:\n",
    "        le = LabelEncoder()\n",
    "        df_cleaned[col] = le.fit_transform(df_cleaned[col])\n",
    "        encoders[col] = le\n",
    "        filename = f'encoders/{col.lower().replace(\" \", \"_\")}_encoder.pkl'\n",
    "        joblib.dump(le, filename)\n",
    "        print(f\"Saved encoder for: {col}\")\n",
    "    else:\n",
    "        print(f\"Skipped missing column: {col}\")\n",
    "\n",
    "print(\" All encoders saved successfully!\")"
   ]
  },
  {
   "cell_type": "code",
   "execution_count": 33,
   "metadata": {},
   "outputs": [],
   "source": [
    "age_mapping = {\"Young\": 0, \"Middle\": 1, \"Old\": 2}\n",
    "df_cleaned[\"Age\"] = df_cleaned[\"Age\"].map(age_mapping)\n"
   ]
  },
  {
   "cell_type": "code",
   "execution_count": 34,
   "metadata": {},
   "outputs": [
    {
     "name": "stderr",
     "output_type": "stream",
     "text": [
      "C:\\Users\\DELL\\AppData\\Local\\Temp\\ipykernel_2760\\2037532535.py:1: FutureWarning: \n",
      "\n",
      "Passing `palette` without assigning `hue` is deprecated and will be removed in v0.14.0. Assign the `x` variable to `hue` and set `legend=False` for the same effect.\n",
      "\n",
      "  sns.barplot(x=df_cleaned['Age'],y=df_cleaned['Winner'],data=df_cleaned,palette='Set2')\n"
     ]
    },
    {
     "data": {
      "text/plain": [
       "Text(0, 0.5, 'Proportion of Winners')"
      ]
     },
     "execution_count": 34,
     "metadata": {},
     "output_type": "execute_result"
    },
    {
     "data": {
      "image/png": "[encoded data removed]",
      "text/plain": [
       "<Figure size 640x480 with 1 Axes>"
      ]
     },
     "metadata": {},
     "output_type": "display_data"
    }
   ],
   "source": [
    "sns.barplot(x=df_cleaned['Age'],y=df_cleaned['Winner'],data=df_cleaned,palette='Set2')\n",
    "plt.title('Winning Probability by Age Group')\n",
    "plt.xlabel('Age Group')\n",
    "plt.ylabel('Proportion of Winners')\n"
   ]
  },
  {
   "cell_type": "code",
   "execution_count": 35,
   "metadata": {},
   "outputs": [
    {
     "name": "stderr",
     "output_type": "stream",
     "text": [
      "C:\\Users\\DELL\\AppData\\Local\\Temp\\ipykernel_2760\\3117478739.py:1: FutureWarning: \n",
      "\n",
      "Passing `palette` without assigning `hue` is deprecated and will be removed in v0.14.0. Assign the `x` variable to `hue` and set `legend=False` for the same effect.\n",
      "\n",
      "  sns.barplot(x=df_cleaned['Gender'],y=df_cleaned['Finalist'],data=df_cleaned,palette='Set2')\n"
     ]
    },
    {
     "data": {
      "text/plain": [
       "Text(0, 0.5, 'Proportion of Finalist')"
      ]
     },
     "execution_count": 35,
     "metadata": {},
     "output_type": "execute_result"
    },
    {
     "data": {
      "image/png": "[encoded data removed]",
      "text/plain": [
       "<Figure size 640x480 with 1 Axes>"
      ]
     },
     "metadata": {},
     "output_type": "display_data"
    }
   ],
   "source": [
    "sns.barplot(x=df_cleaned['Gender'],y=df_cleaned['Finalist'],data=df_cleaned,palette='Set2')\n",
    "plt.title('Finalist Probability by Gender')\n",
    "plt.xlabel('Gender')\n",
    "plt.ylabel('Proportion of Finalist')\n"
   ]
  },
  {
   "cell_type": "code",
   "execution_count": 36,
   "metadata": {},
   "outputs": [],
   "source": [
    "df_cleaned.drop(\"Name\", axis=1, inplace=True)\n",
    "df_cleaned.drop('Language',axis=1,inplace=True)"
   ]
  },
  {
   "cell_type": "code",
   "execution_count": 37,
   "metadata": {},
   "outputs": [
    {
     "data": {
      "text/plain": [
       "Profession                     int64\n",
       "Gender                         int64\n",
       "Age                            int64\n",
       "Wild Card                      int64\n",
       "Most Viewed States             int64\n",
       "House Location                 int64\n",
       "OTT Season                     int64\n",
       "Number of Evictions Faced      int64\n",
       "Finalist                     float64\n",
       "Winner                         int64\n",
       "dtype: object"
      ]
     },
     "execution_count": 37,
     "metadata": {},
     "output_type": "execute_result"
    }
   ],
   "source": [
    "df_cleaned.dtypes"
   ]
  },
  {
   "cell_type": "code",
   "execution_count": 38,
   "metadata": {},
   "outputs": [
    {
     "data": {
      "text/html": [
       "<div>\n",
       "<style scoped>\n",
       "    .dataframe tbody tr th:only-of-type {\n",
       "        vertical-align: middle;\n",
       "    }\n",
       "\n",
       "    .dataframe tbody tr th {\n",
       "        vertical-align: top;\n",
       "    }\n",
       "\n",
       "    .dataframe thead th {\n",
       "        text-align: right;\n",
       "    }\n",
       "</style>\n",
       "<table border=\"1\" class=\"dataframe\">\n",
       "  <thead>\n",
       "    <tr style=\"text-align: right;\">\n",
       "      <th></th>\n",
       "      <th>Profession</th>\n",
       "      <th>Gender</th>\n",
       "      <th>Age</th>\n",
       "      <th>Wild Card</th>\n",
       "      <th>Most Viewed States</th>\n",
       "      <th>House Location</th>\n",
       "      <th>OTT Season</th>\n",
       "      <th>Number of Evictions Faced</th>\n",
       "      <th>Finalist</th>\n",
       "      <th>Winner</th>\n",
       "    </tr>\n",
       "  </thead>\n",
       "  <tbody>\n",
       "    <tr>\n",
       "      <th>0</th>\n",
       "      <td>70</td>\n",
       "      <td>1</td>\n",
       "      <td>0</td>\n",
       "      <td>0</td>\n",
       "      <td>3</td>\n",
       "      <td>4</td>\n",
       "      <td>0</td>\n",
       "      <td>2</td>\n",
       "      <td>0.0</td>\n",
       "      <td>0</td>\n",
       "    </tr>\n",
       "    <tr>\n",
       "      <th>1</th>\n",
       "      <td>57</td>\n",
       "      <td>0</td>\n",
       "      <td>0</td>\n",
       "      <td>0</td>\n",
       "      <td>3</td>\n",
       "      <td>4</td>\n",
       "      <td>0</td>\n",
       "      <td>1</td>\n",
       "      <td>0.0</td>\n",
       "      <td>0</td>\n",
       "    </tr>\n",
       "    <tr>\n",
       "      <th>2</th>\n",
       "      <td>61</td>\n",
       "      <td>1</td>\n",
       "      <td>1</td>\n",
       "      <td>0</td>\n",
       "      <td>3</td>\n",
       "      <td>4</td>\n",
       "      <td>0</td>\n",
       "      <td>1</td>\n",
       "      <td>0.0</td>\n",
       "      <td>0</td>\n",
       "    </tr>\n",
       "    <tr>\n",
       "      <th>3</th>\n",
       "      <td>57</td>\n",
       "      <td>0</td>\n",
       "      <td>0</td>\n",
       "      <td>0</td>\n",
       "      <td>3</td>\n",
       "      <td>4</td>\n",
       "      <td>0</td>\n",
       "      <td>5</td>\n",
       "      <td>1.0</td>\n",
       "      <td>0</td>\n",
       "    </tr>\n",
       "    <tr>\n",
       "      <th>4</th>\n",
       "      <td>1</td>\n",
       "      <td>1</td>\n",
       "      <td>2</td>\n",
       "      <td>0</td>\n",
       "      <td>3</td>\n",
       "      <td>4</td>\n",
       "      <td>0</td>\n",
       "      <td>2</td>\n",
       "      <td>0.0</td>\n",
       "      <td>0</td>\n",
       "    </tr>\n",
       "    <tr>\n",
       "      <th>...</th>\n",
       "      <td>...</td>\n",
       "      <td>...</td>\n",
       "      <td>...</td>\n",
       "      <td>...</td>\n",
       "      <td>...</td>\n",
       "      <td>...</td>\n",
       "      <td>...</td>\n",
       "      <td>...</td>\n",
       "      <td>...</td>\n",
       "      <td>...</td>\n",
       "    </tr>\n",
       "    <tr>\n",
       "      <th>12139</th>\n",
       "      <td>71</td>\n",
       "      <td>0</td>\n",
       "      <td>1</td>\n",
       "      <td>0</td>\n",
       "      <td>3</td>\n",
       "      <td>5</td>\n",
       "      <td>0</td>\n",
       "      <td>11</td>\n",
       "      <td>0.0</td>\n",
       "      <td>0</td>\n",
       "    </tr>\n",
       "    <tr>\n",
       "      <th>12140</th>\n",
       "      <td>2</td>\n",
       "      <td>0</td>\n",
       "      <td>0</td>\n",
       "      <td>0</td>\n",
       "      <td>6</td>\n",
       "      <td>4</td>\n",
       "      <td>0</td>\n",
       "      <td>1</td>\n",
       "      <td>0.0</td>\n",
       "      <td>0</td>\n",
       "    </tr>\n",
       "    <tr>\n",
       "      <th>12141</th>\n",
       "      <td>11</td>\n",
       "      <td>1</td>\n",
       "      <td>1</td>\n",
       "      <td>0</td>\n",
       "      <td>4</td>\n",
       "      <td>1</td>\n",
       "      <td>0</td>\n",
       "      <td>5</td>\n",
       "      <td>0.0</td>\n",
       "      <td>0</td>\n",
       "    </tr>\n",
       "    <tr>\n",
       "      <th>12142</th>\n",
       "      <td>1</td>\n",
       "      <td>1</td>\n",
       "      <td>1</td>\n",
       "      <td>0</td>\n",
       "      <td>3</td>\n",
       "      <td>5</td>\n",
       "      <td>0</td>\n",
       "      <td>11</td>\n",
       "      <td>0.0</td>\n",
       "      <td>0</td>\n",
       "    </tr>\n",
       "    <tr>\n",
       "      <th>12143</th>\n",
       "      <td>59</td>\n",
       "      <td>0</td>\n",
       "      <td>0</td>\n",
       "      <td>0</td>\n",
       "      <td>3</td>\n",
       "      <td>5</td>\n",
       "      <td>0</td>\n",
       "      <td>5</td>\n",
       "      <td>0.0</td>\n",
       "      <td>0</td>\n",
       "    </tr>\n",
       "  </tbody>\n",
       "</table>\n",
       "<p>12144 rows × 10 columns</p>\n",
       "</div>"
      ],
      "text/plain": [
       "       Profession  Gender  Age  Wild Card  Most Viewed States  House Location  \\\n",
       "0              70       1    0          0                   3               4   \n",
       "1              57       0    0          0                   3               4   \n",
       "2              61       1    1          0                   3               4   \n",
       "3              57       0    0          0                   3               4   \n",
       "4               1       1    2          0                   3               4   \n",
       "...           ...     ...  ...        ...                 ...             ...   \n",
       "12139          71       0    1          0                   3               5   \n",
       "12140           2       0    0          0                   6               4   \n",
       "12141          11       1    1          0                   4               1   \n",
       "12142           1       1    1          0                   3               5   \n",
       "12143          59       0    0          0                   3               5   \n",
       "\n",
       "       OTT Season  Number of Evictions Faced  Finalist  Winner  \n",
       "0               0                          2       0.0       0  \n",
       "1               0                          1       0.0       0  \n",
       "2               0                          1       0.0       0  \n",
       "3               0                          5       1.0       0  \n",
       "4               0                          2       0.0       0  \n",
       "...           ...                        ...       ...     ...  \n",
       "12139           0                         11       0.0       0  \n",
       "12140           0                          1       0.0       0  \n",
       "12141           0                          5       0.0       0  \n",
       "12142           0                         11       0.0       0  \n",
       "12143           0                          5       0.0       0  \n",
       "\n",
       "[12144 rows x 10 columns]"
      ]
     },
     "execution_count": 38,
     "metadata": {},
     "output_type": "execute_result"
    }
   ],
   "source": [
    "df_cleaned"
   ]
  },
  {
   "cell_type": "code",
   "execution_count": 39,
   "metadata": {},
   "outputs": [
    {
     "data": {
      "text/plain": [
       "Text(0.5, 1.0, 'Distribution of Winners and Non-Winners')"
      ]
     },
     "execution_count": 39,
     "metadata": {},
     "output_type": "execute_result"
    },
    {
     "data": {
      "image/png": "[encoded data removed]",
      "text/plain": [
       "<Figure size 640x480 with 1 Axes>"
      ]
     },
     "metadata": {},
     "output_type": "display_data"
    }
   ],
   "source": [
    "sns.countplot(x='Winner', data=df_cleaned)\n",
    "plt.title('Distribution of Winners and Non-Winners')\n"
   ]
  },
  {
   "cell_type": "code",
   "execution_count": 40,
   "metadata": {},
   "outputs": [
    {
     "data": {
      "text/html": [
       "<div>\n",
       "<style scoped>\n",
       "    .dataframe tbody tr th:only-of-type {\n",
       "        vertical-align: middle;\n",
       "    }\n",
       "\n",
       "    .dataframe tbody tr th {\n",
       "        vertical-align: top;\n",
       "    }\n",
       "\n",
       "    .dataframe thead th {\n",
       "        text-align: right;\n",
       "    }\n",
       "</style>\n",
       "<table border=\"1\" class=\"dataframe\">\n",
       "  <thead>\n",
       "    <tr style=\"text-align: right;\">\n",
       "      <th></th>\n",
       "      <th>Profession</th>\n",
       "      <th>Gender</th>\n",
       "      <th>Age</th>\n",
       "      <th>Wild Card</th>\n",
       "      <th>Most Viewed States</th>\n",
       "      <th>House Location</th>\n",
       "      <th>OTT Season</th>\n",
       "      <th>Number of Evictions Faced</th>\n",
       "      <th>Finalist</th>\n",
       "    </tr>\n",
       "  </thead>\n",
       "  <tbody>\n",
       "    <tr>\n",
       "      <th>0</th>\n",
       "      <td>70</td>\n",
       "      <td>1</td>\n",
       "      <td>0</td>\n",
       "      <td>0</td>\n",
       "      <td>3</td>\n",
       "      <td>4</td>\n",
       "      <td>0</td>\n",
       "      <td>2</td>\n",
       "      <td>0.0</td>\n",
       "    </tr>\n",
       "    <tr>\n",
       "      <th>1</th>\n",
       "      <td>57</td>\n",
       "      <td>0</td>\n",
       "      <td>0</td>\n",
       "      <td>0</td>\n",
       "      <td>3</td>\n",
       "      <td>4</td>\n",
       "      <td>0</td>\n",
       "      <td>1</td>\n",
       "      <td>0.0</td>\n",
       "    </tr>\n",
       "    <tr>\n",
       "      <th>2</th>\n",
       "      <td>61</td>\n",
       "      <td>1</td>\n",
       "      <td>1</td>\n",
       "      <td>0</td>\n",
       "      <td>3</td>\n",
       "      <td>4</td>\n",
       "      <td>0</td>\n",
       "      <td>1</td>\n",
       "      <td>0.0</td>\n",
       "    </tr>\n",
       "    <tr>\n",
       "      <th>3</th>\n",
       "      <td>57</td>\n",
       "      <td>0</td>\n",
       "      <td>0</td>\n",
       "      <td>0</td>\n",
       "      <td>3</td>\n",
       "      <td>4</td>\n",
       "      <td>0</td>\n",
       "      <td>5</td>\n",
       "      <td>1.0</td>\n",
       "    </tr>\n",
       "    <tr>\n",
       "      <th>4</th>\n",
       "      <td>1</td>\n",
       "      <td>1</td>\n",
       "      <td>2</td>\n",
       "      <td>0</td>\n",
       "      <td>3</td>\n",
       "      <td>4</td>\n",
       "      <td>0</td>\n",
       "      <td>2</td>\n",
       "      <td>0.0</td>\n",
       "    </tr>\n",
       "    <tr>\n",
       "      <th>...</th>\n",
       "      <td>...</td>\n",
       "      <td>...</td>\n",
       "      <td>...</td>\n",
       "      <td>...</td>\n",
       "      <td>...</td>\n",
       "      <td>...</td>\n",
       "      <td>...</td>\n",
       "      <td>...</td>\n",
       "      <td>...</td>\n",
       "    </tr>\n",
       "    <tr>\n",
       "      <th>12139</th>\n",
       "      <td>71</td>\n",
       "      <td>0</td>\n",
       "      <td>1</td>\n",
       "      <td>0</td>\n",
       "      <td>3</td>\n",
       "      <td>5</td>\n",
       "      <td>0</td>\n",
       "      <td>11</td>\n",
       "      <td>0.0</td>\n",
       "    </tr>\n",
       "    <tr>\n",
       "      <th>12140</th>\n",
       "      <td>2</td>\n",
       "      <td>0</td>\n",
       "      <td>0</td>\n",
       "      <td>0</td>\n",
       "      <td>6</td>\n",
       "      <td>4</td>\n",
       "      <td>0</td>\n",
       "      <td>1</td>\n",
       "      <td>0.0</td>\n",
       "    </tr>\n",
       "    <tr>\n",
       "      <th>12141</th>\n",
       "      <td>11</td>\n",
       "      <td>1</td>\n",
       "      <td>1</td>\n",
       "      <td>0</td>\n",
       "      <td>4</td>\n",
       "      <td>1</td>\n",
       "      <td>0</td>\n",
       "      <td>5</td>\n",
       "      <td>0.0</td>\n",
       "    </tr>\n",
       "    <tr>\n",
       "      <th>12142</th>\n",
       "      <td>1</td>\n",
       "      <td>1</td>\n",
       "      <td>1</td>\n",
       "      <td>0</td>\n",
       "      <td>3</td>\n",
       "      <td>5</td>\n",
       "      <td>0</td>\n",
       "      <td>11</td>\n",
       "      <td>0.0</td>\n",
       "    </tr>\n",
       "    <tr>\n",
       "      <th>12143</th>\n",
       "      <td>59</td>\n",
       "      <td>0</td>\n",
       "      <td>0</td>\n",
       "      <td>0</td>\n",
       "      <td>3</td>\n",
       "      <td>5</td>\n",
       "      <td>0</td>\n",
       "      <td>5</td>\n",
       "      <td>0.0</td>\n",
       "    </tr>\n",
       "  </tbody>\n",
       "</table>\n",
       "<p>12144 rows × 9 columns</p>\n",
       "</div>"
      ],
      "text/plain": [
       "       Profession  Gender  Age  Wild Card  Most Viewed States  House Location  \\\n",
       "0              70       1    0          0                   3               4   \n",
       "1              57       0    0          0                   3               4   \n",
       "2              61       1    1          0                   3               4   \n",
       "3              57       0    0          0                   3               4   \n",
       "4               1       1    2          0                   3               4   \n",
       "...           ...     ...  ...        ...                 ...             ...   \n",
       "12139          71       0    1          0                   3               5   \n",
       "12140           2       0    0          0                   6               4   \n",
       "12141          11       1    1          0                   4               1   \n",
       "12142           1       1    1          0                   3               5   \n",
       "12143          59       0    0          0                   3               5   \n",
       "\n",
       "       OTT Season  Number of Evictions Faced  Finalist  \n",
       "0               0                          2       0.0  \n",
       "1               0                          1       0.0  \n",
       "2               0                          1       0.0  \n",
       "3               0                          5       1.0  \n",
       "4               0                          2       0.0  \n",
       "...           ...                        ...       ...  \n",
       "12139           0                         11       0.0  \n",
       "12140           0                          1       0.0  \n",
       "12141           0                          5       0.0  \n",
       "12142           0                         11       0.0  \n",
       "12143           0                          5       0.0  \n",
       "\n",
       "[12144 rows x 9 columns]"
      ]
     },
     "execution_count": 40,
     "metadata": {},
     "output_type": "execute_result"
    }
   ],
   "source": [
    "x=df_cleaned.iloc[:,:-1]\n",
    "x"
   ]
  },
  {
   "cell_type": "code",
   "execution_count": 41,
   "metadata": {},
   "outputs": [
    {
     "data": {
      "text/plain": [
       "0        0\n",
       "1        0\n",
       "2        0\n",
       "3        0\n",
       "4        0\n",
       "        ..\n",
       "12139    0\n",
       "12140    0\n",
       "12141    0\n",
       "12142    0\n",
       "12143    0\n",
       "Name: Winner, Length: 12144, dtype: int64"
      ]
     },
     "execution_count": 41,
     "metadata": {},
     "output_type": "execute_result"
    }
   ],
   "source": [
    "y=df_cleaned.iloc[:,-1]\n",
    "y"
   ]
  },
  {
   "cell_type": "code",
   "execution_count": 42,
   "metadata": {},
   "outputs": [
    {
     "data": {
      "text/html": [
       "<div>\n",
       "<style scoped>\n",
       "    .dataframe tbody tr th:only-of-type {\n",
       "        vertical-align: middle;\n",
       "    }\n",
       "\n",
       "    .dataframe tbody tr th {\n",
       "        vertical-align: top;\n",
       "    }\n",
       "\n",
       "    .dataframe thead th {\n",
       "        text-align: right;\n",
       "    }\n",
       "</style>\n",
       "<table border=\"1\" class=\"dataframe\">\n",
       "  <thead>\n",
       "    <tr style=\"text-align: right;\">\n",
       "      <th></th>\n",
       "      <th>Profession</th>\n",
       "      <th>Gender</th>\n",
       "      <th>Age</th>\n",
       "      <th>Wild Card</th>\n",
       "      <th>Most Viewed States</th>\n",
       "      <th>House Location</th>\n",
       "      <th>OTT Season</th>\n",
       "      <th>Number of Evictions Faced</th>\n",
       "      <th>Finalist</th>\n",
       "    </tr>\n",
       "  </thead>\n",
       "  <tbody>\n",
       "    <tr>\n",
       "      <th>10696</th>\n",
       "      <td>69</td>\n",
       "      <td>1</td>\n",
       "      <td>1</td>\n",
       "      <td>0</td>\n",
       "      <td>3</td>\n",
       "      <td>4</td>\n",
       "      <td>0</td>\n",
       "      <td>2</td>\n",
       "      <td>0.0</td>\n",
       "    </tr>\n",
       "    <tr>\n",
       "      <th>8688</th>\n",
       "      <td>1</td>\n",
       "      <td>1</td>\n",
       "      <td>1</td>\n",
       "      <td>0</td>\n",
       "      <td>3</td>\n",
       "      <td>4</td>\n",
       "      <td>0</td>\n",
       "      <td>5</td>\n",
       "      <td>1.0</td>\n",
       "    </tr>\n",
       "    <tr>\n",
       "      <th>11499</th>\n",
       "      <td>71</td>\n",
       "      <td>0</td>\n",
       "      <td>0</td>\n",
       "      <td>1</td>\n",
       "      <td>3</td>\n",
       "      <td>5</td>\n",
       "      <td>1</td>\n",
       "      <td>2</td>\n",
       "      <td>0.0</td>\n",
       "    </tr>\n",
       "    <tr>\n",
       "      <th>6520</th>\n",
       "      <td>2</td>\n",
       "      <td>0</td>\n",
       "      <td>1</td>\n",
       "      <td>0</td>\n",
       "      <td>5</td>\n",
       "      <td>2</td>\n",
       "      <td>1</td>\n",
       "      <td>1</td>\n",
       "      <td>0.0</td>\n",
       "    </tr>\n",
       "    <tr>\n",
       "      <th>10605</th>\n",
       "      <td>70</td>\n",
       "      <td>1</td>\n",
       "      <td>0</td>\n",
       "      <td>1</td>\n",
       "      <td>2</td>\n",
       "      <td>5</td>\n",
       "      <td>0</td>\n",
       "      <td>1</td>\n",
       "      <td>0.0</td>\n",
       "    </tr>\n",
       "    <tr>\n",
       "      <th>...</th>\n",
       "      <td>...</td>\n",
       "      <td>...</td>\n",
       "      <td>...</td>\n",
       "      <td>...</td>\n",
       "      <td>...</td>\n",
       "      <td>...</td>\n",
       "      <td>...</td>\n",
       "      <td>...</td>\n",
       "      <td>...</td>\n",
       "    </tr>\n",
       "    <tr>\n",
       "      <th>11964</th>\n",
       "      <td>71</td>\n",
       "      <td>0</td>\n",
       "      <td>1</td>\n",
       "      <td>0</td>\n",
       "      <td>3</td>\n",
       "      <td>3</td>\n",
       "      <td>0</td>\n",
       "      <td>4</td>\n",
       "      <td>1.0</td>\n",
       "    </tr>\n",
       "    <tr>\n",
       "      <th>5191</th>\n",
       "      <td>67</td>\n",
       "      <td>1</td>\n",
       "      <td>1</td>\n",
       "      <td>0</td>\n",
       "      <td>0</td>\n",
       "      <td>0</td>\n",
       "      <td>0</td>\n",
       "      <td>11</td>\n",
       "      <td>0.0</td>\n",
       "    </tr>\n",
       "    <tr>\n",
       "      <th>5390</th>\n",
       "      <td>69</td>\n",
       "      <td>1</td>\n",
       "      <td>2</td>\n",
       "      <td>0</td>\n",
       "      <td>1</td>\n",
       "      <td>5</td>\n",
       "      <td>0</td>\n",
       "      <td>6</td>\n",
       "      <td>0.0</td>\n",
       "    </tr>\n",
       "    <tr>\n",
       "      <th>860</th>\n",
       "      <td>1</td>\n",
       "      <td>1</td>\n",
       "      <td>1</td>\n",
       "      <td>0</td>\n",
       "      <td>1</td>\n",
       "      <td>4</td>\n",
       "      <td>0</td>\n",
       "      <td>4</td>\n",
       "      <td>0.0</td>\n",
       "    </tr>\n",
       "    <tr>\n",
       "      <th>7270</th>\n",
       "      <td>59</td>\n",
       "      <td>0</td>\n",
       "      <td>1</td>\n",
       "      <td>0</td>\n",
       "      <td>3</td>\n",
       "      <td>3</td>\n",
       "      <td>0</td>\n",
       "      <td>2</td>\n",
       "      <td>0.0</td>\n",
       "    </tr>\n",
       "  </tbody>\n",
       "</table>\n",
       "<p>8500 rows × 9 columns</p>\n",
       "</div>"
      ],
      "text/plain": [
       "       Profession  Gender  Age  Wild Card  Most Viewed States  House Location  \\\n",
       "10696          69       1    1          0                   3               4   \n",
       "8688            1       1    1          0                   3               4   \n",
       "11499          71       0    0          1                   3               5   \n",
       "6520            2       0    1          0                   5               2   \n",
       "10605          70       1    0          1                   2               5   \n",
       "...           ...     ...  ...        ...                 ...             ...   \n",
       "11964          71       0    1          0                   3               3   \n",
       "5191           67       1    1          0                   0               0   \n",
       "5390           69       1    2          0                   1               5   \n",
       "860             1       1    1          0                   1               4   \n",
       "7270           59       0    1          0                   3               3   \n",
       "\n",
       "       OTT Season  Number of Evictions Faced  Finalist  \n",
       "10696           0                          2       0.0  \n",
       "8688            0                          5       1.0  \n",
       "11499           1                          2       0.0  \n",
       "6520            1                          1       0.0  \n",
       "10605           0                          1       0.0  \n",
       "...           ...                        ...       ...  \n",
       "11964           0                          4       1.0  \n",
       "5191            0                         11       0.0  \n",
       "5390            0                          6       0.0  \n",
       "860             0                          4       0.0  \n",
       "7270            0                          2       0.0  \n",
       "\n",
       "[8500 rows x 9 columns]"
      ]
     },
     "execution_count": 42,
     "metadata": {},
     "output_type": "execute_result"
    }
   ],
   "source": [
    "from sklearn.model_selection import train_test_split\n",
    "x_train,x_test,y_train,y_test=train_test_split(x,y,test_size=0.30,random_state=42)\n",
    "x_train"
   ]
  },
  {
   "cell_type": "code",
   "execution_count": 43,
   "metadata": {},
   "outputs": [
    {
     "data": {
      "text/html": [
       "<div>\n",
       "<style scoped>\n",
       "    .dataframe tbody tr th:only-of-type {\n",
       "        vertical-align: middle;\n",
       "    }\n",
       "\n",
       "    .dataframe tbody tr th {\n",
       "        vertical-align: top;\n",
       "    }\n",
       "\n",
       "    .dataframe thead th {\n",
       "        text-align: right;\n",
       "    }\n",
       "</style>\n",
       "<table border=\"1\" class=\"dataframe\">\n",
       "  <thead>\n",
       "    <tr style=\"text-align: right;\">\n",
       "      <th></th>\n",
       "      <th>Profession</th>\n",
       "      <th>Gender</th>\n",
       "      <th>Age</th>\n",
       "      <th>Wild Card</th>\n",
       "      <th>Most Viewed States</th>\n",
       "      <th>House Location</th>\n",
       "      <th>OTT Season</th>\n",
       "      <th>Number of Evictions Faced</th>\n",
       "      <th>Finalist</th>\n",
       "    </tr>\n",
       "  </thead>\n",
       "  <tbody>\n",
       "    <tr>\n",
       "      <th>6412</th>\n",
       "      <td>57</td>\n",
       "      <td>1</td>\n",
       "      <td>1</td>\n",
       "      <td>0</td>\n",
       "      <td>3</td>\n",
       "      <td>4</td>\n",
       "      <td>0</td>\n",
       "      <td>4</td>\n",
       "      <td>0.0</td>\n",
       "    </tr>\n",
       "    <tr>\n",
       "      <th>8727</th>\n",
       "      <td>1</td>\n",
       "      <td>1</td>\n",
       "      <td>1</td>\n",
       "      <td>0</td>\n",
       "      <td>5</td>\n",
       "      <td>2</td>\n",
       "      <td>0</td>\n",
       "      <td>1</td>\n",
       "      <td>0.0</td>\n",
       "    </tr>\n",
       "    <tr>\n",
       "      <th>2267</th>\n",
       "      <td>71</td>\n",
       "      <td>0</td>\n",
       "      <td>0</td>\n",
       "      <td>0</td>\n",
       "      <td>0</td>\n",
       "      <td>0</td>\n",
       "      <td>0</td>\n",
       "      <td>3</td>\n",
       "      <td>0.0</td>\n",
       "    </tr>\n",
       "    <tr>\n",
       "      <th>8455</th>\n",
       "      <td>2</td>\n",
       "      <td>0</td>\n",
       "      <td>0</td>\n",
       "      <td>0</td>\n",
       "      <td>4</td>\n",
       "      <td>1</td>\n",
       "      <td>0</td>\n",
       "      <td>6</td>\n",
       "      <td>0.0</td>\n",
       "    </tr>\n",
       "    <tr>\n",
       "      <th>10960</th>\n",
       "      <td>59</td>\n",
       "      <td>1</td>\n",
       "      <td>0</td>\n",
       "      <td>0</td>\n",
       "      <td>0</td>\n",
       "      <td>0</td>\n",
       "      <td>0</td>\n",
       "      <td>6</td>\n",
       "      <td>1.0</td>\n",
       "    </tr>\n",
       "    <tr>\n",
       "      <th>...</th>\n",
       "      <td>...</td>\n",
       "      <td>...</td>\n",
       "      <td>...</td>\n",
       "      <td>...</td>\n",
       "      <td>...</td>\n",
       "      <td>...</td>\n",
       "      <td>...</td>\n",
       "      <td>...</td>\n",
       "      <td>...</td>\n",
       "    </tr>\n",
       "    <tr>\n",
       "      <th>9024</th>\n",
       "      <td>71</td>\n",
       "      <td>0</td>\n",
       "      <td>0</td>\n",
       "      <td>0</td>\n",
       "      <td>0</td>\n",
       "      <td>0</td>\n",
       "      <td>0</td>\n",
       "      <td>3</td>\n",
       "      <td>0.0</td>\n",
       "    </tr>\n",
       "    <tr>\n",
       "      <th>2134</th>\n",
       "      <td>2</td>\n",
       "      <td>0</td>\n",
       "      <td>2</td>\n",
       "      <td>0</td>\n",
       "      <td>3</td>\n",
       "      <td>5</td>\n",
       "      <td>1</td>\n",
       "      <td>3</td>\n",
       "      <td>1.0</td>\n",
       "    </tr>\n",
       "    <tr>\n",
       "      <th>2423</th>\n",
       "      <td>68</td>\n",
       "      <td>1</td>\n",
       "      <td>1</td>\n",
       "      <td>1</td>\n",
       "      <td>3</td>\n",
       "      <td>4</td>\n",
       "      <td>0</td>\n",
       "      <td>5</td>\n",
       "      <td>1.0</td>\n",
       "    </tr>\n",
       "    <tr>\n",
       "      <th>11518</th>\n",
       "      <td>71</td>\n",
       "      <td>0</td>\n",
       "      <td>0</td>\n",
       "      <td>0</td>\n",
       "      <td>3</td>\n",
       "      <td>4</td>\n",
       "      <td>0</td>\n",
       "      <td>9</td>\n",
       "      <td>1.0</td>\n",
       "    </tr>\n",
       "    <tr>\n",
       "      <th>8203</th>\n",
       "      <td>2</td>\n",
       "      <td>0</td>\n",
       "      <td>1</td>\n",
       "      <td>0</td>\n",
       "      <td>2</td>\n",
       "      <td>5</td>\n",
       "      <td>0</td>\n",
       "      <td>1</td>\n",
       "      <td>0.0</td>\n",
       "    </tr>\n",
       "  </tbody>\n",
       "</table>\n",
       "<p>3644 rows × 9 columns</p>\n",
       "</div>"
      ],
      "text/plain": [
       "       Profession  Gender  Age  Wild Card  Most Viewed States  House Location  \\\n",
       "6412           57       1    1          0                   3               4   \n",
       "8727            1       1    1          0                   5               2   \n",
       "2267           71       0    0          0                   0               0   \n",
       "8455            2       0    0          0                   4               1   \n",
       "10960          59       1    0          0                   0               0   \n",
       "...           ...     ...  ...        ...                 ...             ...   \n",
       "9024           71       0    0          0                   0               0   \n",
       "2134            2       0    2          0                   3               5   \n",
       "2423           68       1    1          1                   3               4   \n",
       "11518          71       0    0          0                   3               4   \n",
       "8203            2       0    1          0                   2               5   \n",
       "\n",
       "       OTT Season  Number of Evictions Faced  Finalist  \n",
       "6412            0                          4       0.0  \n",
       "8727            0                          1       0.0  \n",
       "2267            0                          3       0.0  \n",
       "8455            0                          6       0.0  \n",
       "10960           0                          6       1.0  \n",
       "...           ...                        ...       ...  \n",
       "9024            0                          3       0.0  \n",
       "2134            1                          3       1.0  \n",
       "2423            0                          5       1.0  \n",
       "11518           0                          9       1.0  \n",
       "8203            0                          1       0.0  \n",
       "\n",
       "[3644 rows x 9 columns]"
      ]
     },
     "execution_count": 43,
     "metadata": {},
     "output_type": "execute_result"
    }
   ],
   "source": [
    "x_test"
   ]
  },
  {
   "cell_type": "code",
   "execution_count": 44,
   "metadata": {},
   "outputs": [
    {
     "data": {
      "text/plain": [
       "10696    0\n",
       "8688     0\n",
       "11499    0\n",
       "6520     0\n",
       "10605    0\n",
       "        ..\n",
       "11964    1\n",
       "5191     0\n",
       "5390     0\n",
       "860      0\n",
       "7270     0\n",
       "Name: Winner, Length: 8500, dtype: int64"
      ]
     },
     "execution_count": 44,
     "metadata": {},
     "output_type": "execute_result"
    }
   ],
   "source": [
    "y_train"
   ]
  },
  {
   "cell_type": "code",
   "execution_count": 45,
   "metadata": {},
   "outputs": [
    {
     "data": {
      "text/plain": [
       "6412     0\n",
       "8727     0\n",
       "2267     0\n",
       "8455     0\n",
       "10960    0\n",
       "        ..\n",
       "9024     0\n",
       "2134     0\n",
       "2423     0\n",
       "11518    0\n",
       "8203     0\n",
       "Name: Winner, Length: 3644, dtype: int64"
      ]
     },
     "execution_count": 45,
     "metadata": {},
     "output_type": "execute_result"
    }
   ],
   "source": [
    "y_test"
   ]
  },
  {
   "cell_type": "code",
   "execution_count": 46,
   "metadata": {},
   "outputs": [],
   "source": [
    "# from imblearn.over_sampling import SMOTE\n",
    "\n",
    "# sm = SMOTE(random_state=42)\n",
    "# x_resampled, y_resampled = sm.fit_resample(x_train, y_train)\n",
    "\n",
    "# print(\"Before SMOTE:\", y_train.value_counts())\n",
    "# print(\"After SMOTE:\", pd.Series(y_resampled).value_counts())\n"
   ]
  },
  {
   "cell_type": "code",
   "execution_count": 47,
   "metadata": {},
   "outputs": [
    {
     "name": "stdout",
     "output_type": "stream",
     "text": [
      "Model KNeighborsClassifier(n_neighbors=7)\n",
      "confusion matrix of KNeighborsClassifier(n_neighbors=7)\n",
      "[[3417   14]\n",
      " [  13  200]]\n",
      "accuracy score of KNeighborsClassifier(n_neighbors=7)\n",
      "0.9925905598243688\n",
      "classification_report  KNeighborsClassifier(n_neighbors=7)\n",
      "              precision    recall  f1-score   support\n",
      "\n",
      "           0       1.00      1.00      1.00      3431\n",
      "           1       0.93      0.94      0.94       213\n",
      "\n",
      "    accuracy                           0.99      3644\n",
      "   macro avg       0.97      0.97      0.97      3644\n",
      "weighted avg       0.99      0.99      0.99      3644\n",
      "\n",
      "Model BernoulliNB()\n",
      "confusion matrix of BernoulliNB()\n",
      "[[3431    0]\n",
      " [ 213    0]]\n",
      "accuracy score of BernoulliNB()\n",
      "0.9415477497255763\n",
      "classification_report  BernoulliNB()\n",
      "              precision    recall  f1-score   support\n",
      "\n",
      "           0       0.94      1.00      0.97      3431\n",
      "           1       0.00      0.00      0.00       213\n",
      "\n",
      "    accuracy                           0.94      3644\n",
      "   macro avg       0.47      0.50      0.48      3644\n",
      "weighted avg       0.89      0.94      0.91      3644\n",
      "\n",
      "Model SVC()\n"
     ]
    },
    {
     "name": "stderr",
     "output_type": "stream",
     "text": [
      "c:\\Users\\DELL\\AppData\\Local\\Programs\\Python\\Python313\\Lib\\site-packages\\sklearn\\metrics\\_classification.py:1565: UndefinedMetricWarning: Precision is ill-defined and being set to 0.0 in labels with no predicted samples. Use `zero_division` parameter to control this behavior.\n",
      "  _warn_prf(average, modifier, f\"{metric.capitalize()} is\", len(result))\n",
      "c:\\Users\\DELL\\AppData\\Local\\Programs\\Python\\Python313\\Lib\\site-packages\\sklearn\\metrics\\_classification.py:1565: UndefinedMetricWarning: Precision is ill-defined and being set to 0.0 in labels with no predicted samples. Use `zero_division` parameter to control this behavior.\n",
      "  _warn_prf(average, modifier, f\"{metric.capitalize()} is\", len(result))\n",
      "c:\\Users\\DELL\\AppData\\Local\\Programs\\Python\\Python313\\Lib\\site-packages\\sklearn\\metrics\\_classification.py:1565: UndefinedMetricWarning: Precision is ill-defined and being set to 0.0 in labels with no predicted samples. Use `zero_division` parameter to control this behavior.\n",
      "  _warn_prf(average, modifier, f\"{metric.capitalize()} is\", len(result))\n"
     ]
    },
    {
     "name": "stdout",
     "output_type": "stream",
     "text": [
      "confusion matrix of SVC()\n",
      "[[3431    0]\n",
      " [ 213    0]]\n",
      "accuracy score of SVC()\n",
      "0.9415477497255763\n",
      "classification_report  SVC()\n",
      "              precision    recall  f1-score   support\n",
      "\n",
      "           0       0.94      1.00      0.97      3431\n",
      "           1       0.00      0.00      0.00       213\n",
      "\n",
      "    accuracy                           0.94      3644\n",
      "   macro avg       0.47      0.50      0.48      3644\n",
      "weighted avg       0.89      0.94      0.91      3644\n",
      "\n",
      "Model DecisionTreeClassifier(criterion='entropy')\n",
      "confusion matrix of DecisionTreeClassifier(criterion='entropy')\n",
      "[[3421   10]\n",
      " [  15  198]]\n",
      "accuracy score of DecisionTreeClassifier(criterion='entropy')\n",
      "0.993139407244786\n",
      "classification_report  DecisionTreeClassifier(criterion='entropy')\n",
      "              precision    recall  f1-score   support\n",
      "\n",
      "           0       1.00      1.00      1.00      3431\n",
      "           1       0.95      0.93      0.94       213\n",
      "\n",
      "    accuracy                           0.99      3644\n",
      "   macro avg       0.97      0.96      0.97      3644\n",
      "weighted avg       0.99      0.99      0.99      3644\n",
      "\n",
      "Model RandomForestClassifier(random_state=42)\n"
     ]
    },
    {
     "name": "stderr",
     "output_type": "stream",
     "text": [
      "c:\\Users\\DELL\\AppData\\Local\\Programs\\Python\\Python313\\Lib\\site-packages\\sklearn\\metrics\\_classification.py:1565: UndefinedMetricWarning: Precision is ill-defined and being set to 0.0 in labels with no predicted samples. Use `zero_division` parameter to control this behavior.\n",
      "  _warn_prf(average, modifier, f\"{metric.capitalize()} is\", len(result))\n",
      "c:\\Users\\DELL\\AppData\\Local\\Programs\\Python\\Python313\\Lib\\site-packages\\sklearn\\metrics\\_classification.py:1565: UndefinedMetricWarning: Precision is ill-defined and being set to 0.0 in labels with no predicted samples. Use `zero_division` parameter to control this behavior.\n",
      "  _warn_prf(average, modifier, f\"{metric.capitalize()} is\", len(result))\n",
      "c:\\Users\\DELL\\AppData\\Local\\Programs\\Python\\Python313\\Lib\\site-packages\\sklearn\\metrics\\_classification.py:1565: UndefinedMetricWarning: Precision is ill-defined and being set to 0.0 in labels with no predicted samples. Use `zero_division` parameter to control this behavior.\n",
      "  _warn_prf(average, modifier, f\"{metric.capitalize()} is\", len(result))\n"
     ]
    },
    {
     "name": "stdout",
     "output_type": "stream",
     "text": [
      "confusion matrix of RandomForestClassifier(random_state=42)\n",
      "[[3421   10]\n",
      " [  15  198]]\n",
      "accuracy score of RandomForestClassifier(random_state=42)\n",
      "0.993139407244786\n",
      "classification_report  RandomForestClassifier(random_state=42)\n",
      "              precision    recall  f1-score   support\n",
      "\n",
      "           0       1.00      1.00      1.00      3431\n",
      "           1       0.95      0.93      0.94       213\n",
      "\n",
      "    accuracy                           0.99      3644\n",
      "   macro avg       0.97      0.96      0.97      3644\n",
      "weighted avg       0.99      0.99      0.99      3644\n",
      "\n"
     ]
    }
   ],
   "source": [
    "from sklearn.neighbors import KNeighborsClassifier\n",
    "from sklearn.naive_bayes import BernoulliNB\n",
    "from sklearn.svm import SVC\n",
    "from sklearn.tree import DecisionTreeClassifier\n",
    "from sklearn.ensemble import RandomForestClassifier\n",
    "from sklearn.metrics import confusion_matrix,accuracy_score,classification_report\n",
    "\n",
    "knn = KNeighborsClassifier(n_neighbors=7)\n",
    "naive = BernoulliNB()\n",
    "svm = SVC()\n",
    "dt = DecisionTreeClassifier(criterion='entropy')\n",
    "rf = RandomForestClassifier(n_estimators=100,random_state=42)\n",
    "\n",
    "lst = [knn,naive,svm,dt,rf]\n",
    "\n",
    "\n",
    "for i in lst:\n",
    "    print(\"Model\",i)\n",
    "    i.fit(x_train,y_train)\n",
    "    y_pred=i.predict(x_test)\n",
    "    \n",
    "    print('confusion matrix of',i)\n",
    "    cm = confusion_matrix(y_test,y_pred)\n",
    "    print(cm)\n",
    "    \n",
    "    print(\"accuracy score of\",i)\n",
    "    score = accuracy_score(y_test,y_pred)\n",
    "    print(score)\n",
    "    \n",
    "    print(\"classification_report \",i)\n",
    "    report = classification_report(y_test,y_pred)\n",
    "    print(report)"
   ]
  },
  {
   "cell_type": "code",
   "execution_count": 48,
   "metadata": {},
   "outputs": [
    {
     "data": {
      "text/plain": [
       "Text(0.5, 1.0, 'Model Accuracy Comparison')"
      ]
     },
     "execution_count": 48,
     "metadata": {},
     "output_type": "execute_result"
    },
    {
     "data": {
      "image/png": "[encoded data removed]",
      "text/plain": [
       "<Figure size 640x480 with 1 Axes>"
      ]
     },
     "metadata": {},
     "output_type": "display_data"
    }
   ],
   "source": [
    "models = ['KNN', 'Naive Bayes', 'SVM', 'Decision Tree', 'Random Forest']\n",
    "accuracies = [0.98, 0.93, 0.93, 0.99, 0.99] \n",
    "sns.barplot(x=models, y=accuracies)\n",
    "plt.ylabel('Accuracy')\n",
    "plt.title('Model Accuracy Comparison')\n"
   ]
  },
  {
   "cell_type": "code",
   "execution_count": 49,
   "metadata": {},
   "outputs": [
    {
     "name": "stdout",
     "output_type": "stream",
     "text": [
      " Model saved successfully.\n"
     ]
    }
   ],
   "source": [
    "import joblib\n",
    "joblib.dump(dt, \"winner_prediction_model2.pkl\")\n",
    "print(\" Model saved successfully.\")\n"
   ]
  }
 ],
 "metadata": {
  "kernelspec": {
   "display_name": "Python 3",
   "language": "python",
   "name": "python3"
  },
  "language_info": {
   "codemirror_mode": {
    "name": "ipython",
    "version": 3
   },
   "file_extension": ".py",
   "mimetype": "text/x-python",
   "name": "python",
   "nbconvert_exporter": "python",
   "pygments_lexer": "ipython3",
   "version": "3.13.0"
  }
 },
 "nbformat": 4,
 "nbformat_minor": 2
}
